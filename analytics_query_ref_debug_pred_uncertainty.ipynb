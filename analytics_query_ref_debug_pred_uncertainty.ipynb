{
 "cells": [
  {
   "attachments": {},
   "cell_type": "markdown",
   "id": "0c28829b",
   "metadata": {},
   "source": [
    "# Analytics - query to reference mapping"
   ]
  },
  {
   "attachments": {},
   "cell_type": "markdown",
   "id": "c10d1322",
   "metadata": {},
   "source": [
    "This notebook is based on and adapted from this scvi-tools tutorial: https://docs.scvi-tools.org/en/stable/tutorials/notebooks/query_hlca_knn.html"
   ]
  },
  {
   "cell_type": "code",
   "execution_count": 1,
   "id": "3a7cb392",
   "metadata": {},
   "outputs": [
    {
     "name": "stderr",
     "output_type": "stream",
     "text": [
      "Global seed set to 1\n"
     ]
    }
   ],
   "source": [
    "import scvi\n",
    "import matplotlib.pyplot as plt\n",
    "import mplscience\n",
    "import seaborn as sns\n",
    "from pathlib import Path\n",
    "import os\n",
    "from scvi.hub import HubModel\n",
    "import pynndescent\n",
    "from PIL import ImageColor\n",
    "from scipy.sparse import csr_matrix\n",
    "import numpy as np\n",
    "import pandas as pd\n",
    "import scanpy as sc\n",
    "import anndata\n",
    "import gc\n",
    "from scvi.data._download import _download\n",
    "\n",
    "scvi.settings.seed = 1\n",
    "\n",
    "# plotting commands for the styling\n",
    "# sns.reset_orig()\n",
    "mplscience.set_style(reset_current=True, name=\"default\")\n",
    "\n",
    "%load_ext autoreload\n",
    "%autoreload 2"
   ]
  },
  {
   "attachments": {},
   "cell_type": "markdown",
   "id": "1c7cb2d6",
   "metadata": {},
   "source": [
    "## Citations"
   ]
  },
  {
   "attachments": {},
   "cell_type": "markdown",
   "id": "f1335365",
   "metadata": {},
   "source": [
    "scArches:  \n",
    "Mohammad Lotfollahi, Mohsen Naghipourfar, Malte D. Luecken, Matin Khajavi, Maren Büttner, Marco Wagenstetter, Žiga Avsec, Adam Gayoso, Nir Yosef, Marta Interlandi, Sergei Rybakov, Alexander V. Misharin, and Fabian J. Theis. Mapping single-cell data to reference atlases by transfer learning. Nature Biotechnology, 40(1):121–130, August 2021. doi:10.1038/s41587-021-01001-7.  \n",
    "\n",
    "scANVI:  \n",
    "Chenling Xu, Romain Lopez, Edouard Mehlman, Jeffrey Regier, Michael I Jordan, and Nir Yosef. Probabilistic harmonization and annotation of single-cell transcriptomics data with deep generative models. Molecular Systems Biology, January 2021. doi:10.15252/msb.20209620.\n",
    "\n",
    "Sikkema, L., Ramírez-Suástegui, C., Strobl, D.C. et al. An integrated cell atlas of the lung in health and disease. Nat Med 29, 1563–1577 (2023). https://doi.org/10.1038/s41591-023-02327-2"
   ]
  },
  {
   "attachments": {},
   "cell_type": "markdown",
   "id": "4605dfa2",
   "metadata": {},
   "source": [
    "## 1️⃣ Load the pre-trained model\n",
    "\n",
    "Here we use the HLCA dataset.\n",
    "\n",
    "Sikkema, L., Ramírez-Suástegui, C., Strobl, D.C. et al. An integrated cell atlas of the lung in health and disease. Nat Med 29, 1563–1577 (2023). https://doi.org/10.1038/s41591-023-02327-2\n",
    "\n",
    "Let's download the pre-trained model"
   ]
  },
  {
   "cell_type": "code",
   "execution_count": 3,
   "id": "ee02bc5c",
   "metadata": {},
   "outputs": [],
   "source": [
    "local_dir = \"/Users/valehvpa/GitRepos/scvi-hub-reproducibility/local/data_new/HLCA/query_to_ref_old/temp_manual_3\""
   ]
  },
  {
   "cell_type": "code",
   "execution_count": 4,
   "id": "82f32a55",
   "metadata": {},
   "outputs": [
    {
     "name": "stdout",
     "output_type": "stream",
     "text": [
      "\u001b[34mINFO    \u001b[0m File                                                                                                      \n",
      "         \u001b[35m/Users/valehvpa/GitRepos/scvi-hub-reproducibility/local/data_new/HLCA/query_to_ref_old/temp_manual_3/HLCA_\u001b[0m\n",
      "         \u001b[35mreference_model_minified/\u001b[0m\u001b[95mmodel.pt\u001b[0m already downloaded                                                      \n"
     ]
    },
    {
     "name": "stderr",
     "output_type": "stream",
     "text": [
      "/Users/valehvpa/GitRepos/scvi-tools/scvi/data/fields/_dataframe_field.py:227: UserWarning: Category 18 in adata.obs['_scvi_labels'] has fewer than 3 cells. Models may not train properly.\n",
      "  new_mapping = _make_column_categorical(\n",
      "/Users/valehvpa/GitRepos/scvi-tools/scvi/data/fields/_scanvi.py:58: UserWarning: Category 18 in adata.obs['_scvi_labels'] has fewer than 3 cells. Models may not train properly.\n",
      "  mapping = _make_column_categorical(\n"
     ]
    }
   ],
   "source": [
    "# hm = HubModel.pull_from_huggingface_hub(repo_name=\"scvi-tools/human-lung-cell-atlas\", cache_dir=local_dir, revision=\"main\")\n",
    "model = scvi.model.SCANVI.load('/Users/valehvpa/GitRepos/scvi-hub-reproducibility/local/data_new/HLCA/query_to_ref_old/temp_manual_3/HLCA_reference_model_minified')\n",
    "# model_url = \"https://huggingface.co/scvi-tools/human-lung-cell-atlas/resolve/main/model.pt\"\n",
    "# _download(model_url, local_dir, \"model.pt\")"
   ]
  },
  {
   "attachments": {},
   "cell_type": "markdown",
   "id": "939930a8",
   "metadata": {},
   "source": [
    "## 2️⃣ Download the query data"
   ]
  },
  {
   "attachments": {},
   "cell_type": "markdown",
   "id": "2d0df609",
   "metadata": {},
   "source": [
    "For the query, we will use samples from the following publication:  \n",
    "\n",
    "- Delorey, Toni M., et al. “COVID-19 tissue atlases reveal SARS-CoV-2 pathology and cellular targets.” Nature 595.7865 (2021): 107-113."
   ]
  },
  {
   "cell_type": "code",
   "execution_count": 5,
   "id": "017a2c18",
   "metadata": {},
   "outputs": [],
   "source": [
    "%%capture\n",
    "%%bash\n",
    "curl https://ftp.ncbi.nlm.nih.gov/geo/samples/GSM5230nnn/GSM5230027/suppl/GSM5230027_04-P103142-S149-R01_raw_feature_bc_matrix.h5.gz -o \"query.h5.gz\"\n",
    "gzip -df query.h5.gz"
   ]
  },
  {
   "cell_type": "code",
   "execution_count": 6,
   "id": "b1772578",
   "metadata": {},
   "outputs": [
    {
     "name": "stderr",
     "output_type": "stream",
     "text": [
      "/opt/homebrew/Caskroom/miniconda/base/envs/scvi-hub-clone/lib/python3.9/site-packages/anndata/_core/anndata.py:1830: UserWarning: Variable names are not unique. To make them unique, call `.var_names_make_unique`.\n",
      "  utils.warn_names_duplicates(\"var\")\n"
     ]
    }
   ],
   "source": [
    "geo_metadata_url = \"https://ftp.ncbi.nlm.nih.gov/geo/series/GSE171nnn/GSE171668/suppl/GSE171668_lung_metadata.csv.gz\"\n",
    "metadata = pd.read_csv(geo_metadata_url, index_col=0)\n",
    "query_data = sc.read_10x_h5(\"query.h5\")"
   ]
  },
  {
   "cell_type": "code",
   "execution_count": 7,
   "id": "b32b4c3d",
   "metadata": {},
   "outputs": [
    {
     "data": {
      "text/html": [
       "<div>\n",
       "<style scoped>\n",
       "    .dataframe tbody tr th:only-of-type {\n",
       "        vertical-align: middle;\n",
       "    }\n",
       "\n",
       "    .dataframe tbody tr th {\n",
       "        vertical-align: top;\n",
       "    }\n",
       "\n",
       "    .dataframe thead th {\n",
       "        text-align: right;\n",
       "    }\n",
       "</style>\n",
       "<table border=\"1\" class=\"dataframe\">\n",
       "  <thead>\n",
       "    <tr style=\"text-align: right;\">\n",
       "      <th></th>\n",
       "      <th>gene_ids</th>\n",
       "      <th>feature_types</th>\n",
       "      <th>genome</th>\n",
       "    </tr>\n",
       "  </thead>\n",
       "  <tbody>\n",
       "    <tr>\n",
       "      <th>GRCh38___MIR1302-2HG</th>\n",
       "      <td>GRCh38___ENSG00000243485</td>\n",
       "      <td>Gene Expression</td>\n",
       "      <td>GRCh38</td>\n",
       "    </tr>\n",
       "    <tr>\n",
       "      <th>GRCh38___FAM138A</th>\n",
       "      <td>GRCh38___ENSG00000237613</td>\n",
       "      <td>Gene Expression</td>\n",
       "      <td>GRCh38</td>\n",
       "    </tr>\n",
       "    <tr>\n",
       "      <th>GRCh38___OR4F5</th>\n",
       "      <td>GRCh38___ENSG00000186092</td>\n",
       "      <td>Gene Expression</td>\n",
       "      <td>GRCh38</td>\n",
       "    </tr>\n",
       "    <tr>\n",
       "      <th>GRCh38___AL627309.1</th>\n",
       "      <td>GRCh38___ENSG00000238009</td>\n",
       "      <td>Gene Expression</td>\n",
       "      <td>GRCh38</td>\n",
       "    </tr>\n",
       "    <tr>\n",
       "      <th>GRCh38___AL627309.3</th>\n",
       "      <td>GRCh38___ENSG00000239945</td>\n",
       "      <td>Gene Expression</td>\n",
       "      <td>GRCh38</td>\n",
       "    </tr>\n",
       "    <tr>\n",
       "      <th>...</th>\n",
       "      <td>...</td>\n",
       "      <td>...</td>\n",
       "      <td>...</td>\n",
       "    </tr>\n",
       "    <tr>\n",
       "      <th>SARSCoV2_SARSCoV2_ORF8</th>\n",
       "      <td>SARSCoV2_SARSCoV2_ORF8</td>\n",
       "      <td>Gene Expression</td>\n",
       "      <td>SARSCoV2</td>\n",
       "    </tr>\n",
       "    <tr>\n",
       "      <th>SARSCoV2_SARSCoV2_N</th>\n",
       "      <td>SARSCoV2_SARSCoV2_N</td>\n",
       "      <td>Gene Expression</td>\n",
       "      <td>SARSCoV2</td>\n",
       "    </tr>\n",
       "    <tr>\n",
       "      <th>SARSCoV2_SARSCoV2_ORF10</th>\n",
       "      <td>SARSCoV2_SARSCoV2_ORF10</td>\n",
       "      <td>Gene Expression</td>\n",
       "      <td>SARSCoV2</td>\n",
       "    </tr>\n",
       "    <tr>\n",
       "      <th>SARSCoV2_SARSCoV2_3prime</th>\n",
       "      <td>SARSCoV2_SARSCoV2_3prime</td>\n",
       "      <td>Gene Expression</td>\n",
       "      <td>SARSCoV2</td>\n",
       "    </tr>\n",
       "    <tr>\n",
       "      <th>SARSCoV2_SARSCoV2_NegStrand</th>\n",
       "      <td>SARSCoV2_SARSCoV2_NegStrand</td>\n",
       "      <td>Gene Expression</td>\n",
       "      <td>SARSCoV2</td>\n",
       "    </tr>\n",
       "  </tbody>\n",
       "</table>\n",
       "<p>33567 rows × 3 columns</p>\n",
       "</div>"
      ],
      "text/plain": [
       "                                                gene_ids    feature_types  \\\n",
       "GRCh38___MIR1302-2HG            GRCh38___ENSG00000243485  Gene Expression   \n",
       "GRCh38___FAM138A                GRCh38___ENSG00000237613  Gene Expression   \n",
       "GRCh38___OR4F5                  GRCh38___ENSG00000186092  Gene Expression   \n",
       "GRCh38___AL627309.1             GRCh38___ENSG00000238009  Gene Expression   \n",
       "GRCh38___AL627309.3             GRCh38___ENSG00000239945  Gene Expression   \n",
       "...                                                  ...              ...   \n",
       "SARSCoV2_SARSCoV2_ORF8            SARSCoV2_SARSCoV2_ORF8  Gene Expression   \n",
       "SARSCoV2_SARSCoV2_N                  SARSCoV2_SARSCoV2_N  Gene Expression   \n",
       "SARSCoV2_SARSCoV2_ORF10          SARSCoV2_SARSCoV2_ORF10  Gene Expression   \n",
       "SARSCoV2_SARSCoV2_3prime        SARSCoV2_SARSCoV2_3prime  Gene Expression   \n",
       "SARSCoV2_SARSCoV2_NegStrand  SARSCoV2_SARSCoV2_NegStrand  Gene Expression   \n",
       "\n",
       "                               genome  \n",
       "GRCh38___MIR1302-2HG           GRCh38  \n",
       "GRCh38___FAM138A               GRCh38  \n",
       "GRCh38___OR4F5                 GRCh38  \n",
       "GRCh38___AL627309.1            GRCh38  \n",
       "GRCh38___AL627309.3            GRCh38  \n",
       "...                               ...  \n",
       "SARSCoV2_SARSCoV2_ORF8       SARSCoV2  \n",
       "SARSCoV2_SARSCoV2_N          SARSCoV2  \n",
       "SARSCoV2_SARSCoV2_ORF10      SARSCoV2  \n",
       "SARSCoV2_SARSCoV2_3prime     SARSCoV2  \n",
       "SARSCoV2_SARSCoV2_NegStrand  SARSCoV2  \n",
       "\n",
       "[33567 rows x 3 columns]"
      ]
     },
     "execution_count": 7,
     "metadata": {},
     "output_type": "execute_result"
    }
   ],
   "source": [
    "query_data.var"
   ]
  },
  {
   "cell_type": "code",
   "execution_count": 8,
   "id": "0c3c6b31",
   "metadata": {},
   "outputs": [],
   "source": [
    "# need gene ids as index to match the core HLCA data\n",
    "query_data.var['gene_names'] = query_data.var.index\n",
    "query_data.var.index = [idx.split(\"___\")[-1] for idx in query_data.var.gene_ids]"
   ]
  },
  {
   "cell_type": "code",
   "execution_count": 9,
   "id": "6661e8f7",
   "metadata": {},
   "outputs": [],
   "source": [
    "# use metadata to select only cells of interest and remove empty drops\n",
    "metadata = metadata.loc[metadata.donor == \"D12_4\",:].copy()\n",
    "metadata.index = [idx.split(\"-\")[-1] for idx in metadata.index]\n",
    "# subset query_data to cells in metadata\n",
    "query_data.obs.index = query_data.obs.index.str.rstrip(\"-1\")\n",
    "query_data = query_data[metadata.index, :].copy()"
   ]
  },
  {
   "cell_type": "code",
   "execution_count": 10,
   "id": "5203dd21",
   "metadata": {},
   "outputs": [],
   "source": [
    "# add dataset information:\n",
    "query_data.obs['dataset'] = \"test_dataset_delorey_regev\""
   ]
  },
  {
   "cell_type": "code",
   "execution_count": 11,
   "id": "fda8eb9f",
   "metadata": {},
   "outputs": [
    {
     "data": {
      "text/plain": [
       "AnnData object with n_obs × n_vars = 1786 × 33567\n",
       "    obs: 'dataset'\n",
       "    var: 'gene_ids', 'feature_types', 'genome', 'gene_names'"
      ]
     },
     "execution_count": 11,
     "metadata": {},
     "output_type": "execute_result"
    }
   ],
   "source": [
    "query_data"
   ]
  },
  {
   "attachments": {},
   "cell_type": "markdown",
   "id": "c6a4547b",
   "metadata": {},
   "source": [
    "## 3️⃣ Build a query model\n",
    "\n",
    "Use `prepare_query_anndata` to re-order the genes and pad any missing genes with 0s, so that query_adata matches exactly the reference in terms of its gene set.  "
   ]
  },
  {
   "cell_type": "code",
   "execution_count": 12,
   "id": "77746ec6",
   "metadata": {},
   "outputs": [
    {
     "name": "stdout",
     "output_type": "stream",
     "text": [
      "\u001b[34mINFO    \u001b[0m Found \u001b[1;36m99.65\u001b[0m% reference vars in query data.                                                                \n"
     ]
    },
    {
     "name": "stderr",
     "output_type": "stream",
     "text": [
      "/Users/valehvpa/GitRepos/scvi-tools/scvi/model/base/_archesmixin.py:222: FutureWarning: X.dtype being converted to np.float32 from float64. In the next version of anndata (0.9) conversion will not be automatic. Pass dtype explicitly to avoid this warning. Pass `AnnData(X, dtype=X.dtype, ...)` to get the future behavour.\n",
      "  adata_padding = AnnData(\n"
     ]
    }
   ],
   "source": [
    "# scvi.model.SCANVI.prepare_query_anndata(query_data, local_dir)\n",
    "scvi.model.SCANVI.prepare_query_anndata(query_data, model)"
   ]
  },
  {
   "cell_type": "code",
   "execution_count": 13,
   "id": "0fed06c9",
   "metadata": {},
   "outputs": [],
   "source": [
    "query_data.obs[\"scanvi_label\"] = \"unlabeled\""
   ]
  },
  {
   "cell_type": "code",
   "execution_count": 15,
   "id": "680518c5",
   "metadata": {},
   "outputs": [],
   "source": [
    "# query_model = scvi.model.SCANVI.load_query_data(query_data, local_dir, accelerator = \"cpu\")\n",
    "query_model = scvi.model.SCANVI.load_query_data(query_data, model, accelerator = \"cpu\")"
   ]
  },
  {
   "cell_type": "code",
   "execution_count": 16,
   "id": "4f28553b",
   "metadata": {},
   "outputs": [
    {
     "data": {
      "text/plain": [
       "AnnData object with n_obs × n_vars = 1786 × 2000\n",
       "    obs: 'dataset', 'scanvi_label', '_scvi_batch', '_scvi_labels'\n",
       "    var: 'gene_ids', 'feature_types', 'genome', 'gene_names'\n",
       "    uns: '_scvi_uuid', '_scvi_manager_uuid'"
      ]
     },
     "execution_count": 16,
     "metadata": {},
     "output_type": "execute_result"
    }
   ],
   "source": [
    "query_model.adata"
   ]
  },
  {
   "attachments": {},
   "cell_type": "markdown",
   "id": "034fc53f",
   "metadata": {},
   "source": [
    "Train the query model."
   ]
  },
  {
   "cell_type": "code",
   "execution_count": 17,
   "id": "db78e1ad",
   "metadata": {},
   "outputs": [],
   "source": [
    "surgery_epochs = 500\n",
    "train_kwargs_surgery = {\n",
    "    \"early_stopping\": True,\n",
    "    \"early_stopping_monitor\": \"elbo_train\",\n",
    "    \"early_stopping_patience\": 10,\n",
    "    \"early_stopping_min_delta\": 0.001,\n",
    "    \"plan_kwargs\": {\"weight_decay\": 0.0},\n",
    "}"
   ]
  },
  {
   "cell_type": "code",
   "execution_count": 18,
   "id": "d558fabb",
   "metadata": {},
   "outputs": [
    {
     "name": "stdout",
     "output_type": "stream",
     "text": [
      "\u001b[34mINFO    \u001b[0m Training for \u001b[1;36m500\u001b[0m epochs.                                                                                  \n"
     ]
    },
    {
     "name": "stderr",
     "output_type": "stream",
     "text": [
      "GPU available: True (mps), used: False\n",
      "TPU available: False, using: 0 TPU cores\n",
      "IPU available: False, using: 0 IPUs\n",
      "HPU available: False, using: 0 HPUs\n",
      "/opt/homebrew/Caskroom/miniconda/base/envs/scvi-hub-clone/lib/python3.9/site-packages/lightning/pytorch/trainer/setup.py:201: UserWarning: MPS available but not used. Set `accelerator` and `devices` using `Trainer(accelerator='mps', devices=1)`.\n",
      "  rank_zero_warn(\n"
     ]
    },
    {
     "name": "stdout",
     "output_type": "stream",
     "text": [
      "Epoch 218/500:  44%|████▎     | 218/500 [01:45<02:16,  2.07it/s, v_num=1, train_loss_step=485, train_loss_epoch=497]\n",
      "Monitored metric elbo_train did not improve in the last 10 records. Best score: 543.482. Signaling Trainer to stop.\n"
     ]
    }
   ],
   "source": [
    "query_model.train(\n",
    "    max_epochs=surgery_epochs,\n",
    "    accelerator=\"cpu\",\n",
    "    **train_kwargs_surgery,\n",
    ")"
   ]
  },
  {
   "cell_type": "code",
   "execution_count": 19,
   "id": "4c6e10b6",
   "metadata": {},
   "outputs": [],
   "source": [
    "query_save_path = f\"{local_dir}/query_model\"\n",
    "query_model.save(query_save_path, overwrite=True)"
   ]
  },
  {
   "cell_type": "code",
   "execution_count": 20,
   "id": "bbfca9cc",
   "metadata": {},
   "outputs": [],
   "source": [
    "query_emb = sc.AnnData(query_model.get_latent_representation())\n",
    "query_emb.obs_names = query_data.obs_names"
   ]
  },
  {
   "cell_type": "markdown",
   "id": "3d88a432",
   "metadata": {},
   "source": [
    "## 2️⃣ Learn a neighbors index on reference latent space  \n",
    "\n",
    "Get the \"latent space\" from our embeddings. It is essentially just the mean of the latent distribution."
   ]
  },
  {
   "cell_type": "code",
   "execution_count": 22,
   "id": "ebb18a96",
   "metadata": {},
   "outputs": [],
   "source": [
    "fname = \"HLCA_full_v1.1_emb.h5ad\"\n",
    "adata = sc.read(os.path.join(local_dir, fname), backup_url=f\"https://zenodo.org/record/7599104/files/{fname}\")\n",
    "adata = adata[adata.obs[\"core_or_extension\"] == \"core\"].copy()"
   ]
  },
  {
   "cell_type": "code",
   "execution_count": 23,
   "id": "1396455d",
   "metadata": {},
   "outputs": [],
   "source": [
    "ref = adata.X\n",
    "ref_nn_index = pynndescent.NNDescent(ref)\n",
    "ref_nn_index.prepare()"
   ]
  },
  {
   "attachments": {},
   "cell_type": "markdown",
   "id": "f6fc2c3c",
   "metadata": {},
   "source": [
    "## 6️⃣ Predict v2\n",
    "\n",
    "Let's predict using a different cell type than we did earlier, as that is too coarse grained (compartment-level resolution)."
   ]
  },
  {
   "cell_type": "code",
   "execution_count": 24,
   "id": "86ece6f0",
   "metadata": {},
   "outputs": [],
   "source": [
    "ref_neighbors, ref_distances = ref_nn_index.query(query_emb.X)"
   ]
  },
  {
   "cell_type": "code",
   "execution_count": 25,
   "id": "a44c67be",
   "metadata": {},
   "outputs": [],
   "source": [
    "def distances_to_affinities(distances):\n",
    "    # convert distances to affinities\n",
    "    stds = np.std(distances, axis=1)\n",
    "    stds = (2.0 / stds) ** 2\n",
    "    stds = stds.reshape(-1, 1)\n",
    "    distances_tilda = np.exp(-np.true_divide(distances, stds))\n",
    "    weights = distances_tilda / np.sum(\n",
    "        distances_tilda, axis=1, keepdims=True\n",
    "    )\n",
    "    return weights\n",
    "\n",
    "# import numba\n",
    "# @numba.njit\n",
    "def weighted_prediction(weights, ref_cats):\n",
    "    \"\"\"Get highest weight category.\"\"\"\n",
    "    N = len(weights)\n",
    "    predictions = np.zeros((N,), dtype=ref_cats.dtype)\n",
    "    uncertainty = np.zeros((N,))\n",
    "    for i in range(N):\n",
    "        obs_weights = weights[i]\n",
    "        obs_cats = ref_cats[i]\n",
    "        best_prob = 0\n",
    "        for c in np.unique(obs_cats):\n",
    "            cand_prob = np.sum(obs_weights[obs_cats == c])\n",
    "            if cand_prob > best_prob:\n",
    "                best_prob = cand_prob\n",
    "                predictions[i] = c\n",
    "                uncertainty[i] = max(1 - best_prob, 0)\n",
    "\n",
    "    return predictions, uncertainty\n",
    "\n",
    "weights = distances_to_affinities(ref_distances)"
   ]
  },
  {
   "attachments": {},
   "cell_type": "markdown",
   "id": "022473d5",
   "metadata": {},
   "source": [
    "### 6️⃣.2️⃣ Predict cell types"
   ]
  },
  {
   "cell_type": "code",
   "execution_count": 26,
   "id": "33013525",
   "metadata": {},
   "outputs": [],
   "source": [
    "label_key = \"ann_level_3\"\n",
    "ref_cats = adata.obs[label_key].cat.codes.to_numpy()[ref_neighbors]\n",
    "p, u = weighted_prediction(weights, ref_cats)\n",
    "p = np.asarray(adata.obs[label_key].cat.categories)[p]\n",
    "query_emb.obs[\"celltype_pred\"], query_emb.obs[\"celltype_uncertainty\"] = p, u"
   ]
  },
  {
   "attachments": {},
   "cell_type": "markdown",
   "id": "7bfb5d8e",
   "metadata": {},
   "source": [
    "### 6️⃣.3️⃣ Evaluate predictions\n",
    "\n",
    "Finally, let's evaluate predictions."
   ]
  },
  {
   "cell_type": "code",
   "execution_count": 27,
   "id": "ff8a0872",
   "metadata": {},
   "outputs": [
    {
     "data": {
      "text/html": [
       "<div>\n",
       "<style scoped>\n",
       "    .dataframe tbody tr th:only-of-type {\n",
       "        vertical-align: middle;\n",
       "    }\n",
       "\n",
       "    .dataframe tbody tr th {\n",
       "        vertical-align: top;\n",
       "    }\n",
       "\n",
       "    .dataframe thead th {\n",
       "        text-align: right;\n",
       "    }\n",
       "</style>\n",
       "<table border=\"1\" class=\"dataframe\">\n",
       "  <thead>\n",
       "    <tr style=\"text-align: right;\">\n",
       "      <th></th>\n",
       "      <th>celltype_pred</th>\n",
       "      <th>celltype_uncertainty</th>\n",
       "    </tr>\n",
       "  </thead>\n",
       "  <tbody>\n",
       "    <tr>\n",
       "      <th>AAGCGTTTCAGTGCGC</th>\n",
       "      <td>Lymphatic EC mature</td>\n",
       "      <td>0.399992</td>\n",
       "    </tr>\n",
       "    <tr>\n",
       "      <th>AGCCACGAGGAGTCTG</th>\n",
       "      <td>Lymphatic EC mature</td>\n",
       "      <td>0.400032</td>\n",
       "    </tr>\n",
       "    <tr>\n",
       "      <th>ATCATTCGTATTTCGG</th>\n",
       "      <td>Lymphatic EC differentiating</td>\n",
       "      <td>0.200080</td>\n",
       "    </tr>\n",
       "    <tr>\n",
       "      <th>TGGCGTGCATGTAACC</th>\n",
       "      <td>Lymphatic EC mature</td>\n",
       "      <td>0.099996</td>\n",
       "    </tr>\n",
       "    <tr>\n",
       "      <th>CTACAGACACTGTGAT</th>\n",
       "      <td>EC venous</td>\n",
       "      <td>0.000000</td>\n",
       "    </tr>\n",
       "    <tr>\n",
       "      <th>...</th>\n",
       "      <td>...</td>\n",
       "      <td>...</td>\n",
       "    </tr>\n",
       "    <tr>\n",
       "      <th>TGATGCACATGGGCAA</th>\n",
       "      <td>AT1</td>\n",
       "      <td>0.000000</td>\n",
       "    </tr>\n",
       "    <tr>\n",
       "      <th>AATGACCAGCCGATTT</th>\n",
       "      <td>T cell lineage</td>\n",
       "      <td>0.000000</td>\n",
       "    </tr>\n",
       "    <tr>\n",
       "      <th>CTCCATGCACTCTAGA</th>\n",
       "      <td>Fibroblasts</td>\n",
       "      <td>0.000000</td>\n",
       "    </tr>\n",
       "    <tr>\n",
       "      <th>ATGGGTTAGAGGCGTT</th>\n",
       "      <td>AT1</td>\n",
       "      <td>0.099999</td>\n",
       "    </tr>\n",
       "    <tr>\n",
       "      <th>CGTGTCTCACGCTGTG</th>\n",
       "      <td>EC arterial</td>\n",
       "      <td>0.599973</td>\n",
       "    </tr>\n",
       "  </tbody>\n",
       "</table>\n",
       "<p>1786 rows × 2 columns</p>\n",
       "</div>"
      ],
      "text/plain": [
       "                                 celltype_pred  celltype_uncertainty\n",
       "AAGCGTTTCAGTGCGC           Lymphatic EC mature              0.399992\n",
       "AGCCACGAGGAGTCTG           Lymphatic EC mature              0.400032\n",
       "ATCATTCGTATTTCGG  Lymphatic EC differentiating              0.200080\n",
       "TGGCGTGCATGTAACC           Lymphatic EC mature              0.099996\n",
       "CTACAGACACTGTGAT                     EC venous              0.000000\n",
       "...                                        ...                   ...\n",
       "TGATGCACATGGGCAA                           AT1              0.000000\n",
       "AATGACCAGCCGATTT                T cell lineage              0.000000\n",
       "CTCCATGCACTCTAGA                   Fibroblasts              0.000000\n",
       "ATGGGTTAGAGGCGTT                           AT1              0.099999\n",
       "CGTGTCTCACGCTGTG                   EC arterial              0.599973\n",
       "\n",
       "[1786 rows x 2 columns]"
      ]
     },
     "execution_count": 27,
     "metadata": {},
     "output_type": "execute_result"
    }
   ],
   "source": [
    "query_emb.obs[[\"celltype_pred\", \"celltype_uncertainty\"]]"
   ]
  },
  {
   "cell_type": "code",
   "execution_count": 28,
   "id": "561b2724",
   "metadata": {},
   "outputs": [
    {
     "name": "stdout",
     "output_type": "stream",
     "text": [
      "0.03359404708543523 5.960464477539063e-08\n"
     ]
    },
    {
     "data": {
      "text/plain": [
       "<AxesSubplot: ylabel='Density'>"
      ]
     },
     "execution_count": 28,
     "metadata": {},
     "output_type": "execute_result"
    },
    {
     "data": {
      "image/png": "[encoded data removed]",
      "text/plain": [
       "<Figure size 400x400 with 1 Axes>"
      ]
     },
     "metadata": {},
     "output_type": "display_data"
    }
   ],
   "source": [
    "print(query_emb.obs[\"celltype_uncertainty\"].mean(), np.quantile(query_emb.obs[\"celltype_uncertainty\"], 0.75))\n",
    "query_emb.obs[\"celltype_uncertainty\"].plot(kind='density', ind=np.linspace(-0.2, 1))"
   ]
  },
  {
   "cell_type": "markdown",
   "id": "221b35c4",
   "metadata": {},
   "source": [
    "## DEBUGGING"
   ]
  },
  {
   "cell_type": "code",
   "execution_count": null,
   "id": "591f7c57",
   "metadata": {},
   "outputs": [],
   "source": [
    "# adata3 = anndata.read_h5ad(\"/Users/valehvpa/GitRepos/scvi-hub-reproducibility/local/data_new/HLCA/cxg_raw_before_may_2023_update/adata.h5ad\", backed=True)\n",
    "# adata4 = anndata.read_h5ad(\"/Users/valehvpa/GitRepos/scvi-hub-reproducibility/local/data_new/HLCA/query_to_ref/temp_manual/backup/HLCA_reference.h5ad\", backed=True)\n",
    "# np.array_equal(adata2[idx1].X, adata4[idx1].obsm[\"X_scanvi_emb\"])"
   ]
  },
  {
   "cell_type": "code",
   "execution_count": null,
   "id": "fc0395a5",
   "metadata": {},
   "outputs": [],
   "source": [
    "# p1 = \"/Users/valehvpa/GitRepos/scvi-hub-reproducibility/local/old/data_stuff/HLCA/hlca_new/HLCA_emb_and_metadata.h5ad\"\n",
    "# p2 = \"/Users/valehvpa/GitRepos/scvi-hub-reproducibility/local/data_new/HLCA/query_to_ref/temp_manual/backup\"\n",
    "# adata1 = anndata.read_h5ad(p1)\n",
    "# t = anndata.read_h5ad(os.path.join(p2, \"HLCA_full_v1.1_emb.h5ad\"))\n",
    "# adata2 = t[t.obs[\"core_or_extension\"] == \"core\"].copy()\n",
    "# del t\n",
    "# gc.collect()"
   ]
  },
  {
   "cell_type": "code",
   "execution_count": null,
   "id": "3d734eb2",
   "metadata": {},
   "outputs": [],
   "source": [
    "# idx1 = adata2.obs.index.difference(adata1.obs.index)\n",
    "# idx2 = adata2.obs.index.difference(idx1)\n",
    "# ann_2 = adata2.obs.loc[idx2][\"ann_level_3\"]\n",
    "# ann_1 = adata1.obs.loc[idx2][\"ann_level_3\"]\n",
    "# ann_1.name = \"ann_1\"\n",
    "# ann_2.name = \"ann_2\"\n",
    "# df = pd.concat([ann_1, ann_2], axis=1)\n",
    "# df[\"ann_1,ann_2\"] = df[\"ann_1\"].astype(\"str\") + \",\" + df[\"ann_2\"].astype(\"str\")\n",
    "# # in 2 not in 1: 'Smooth muscle FAM83D+',\n",
    "# # in 1 not in 2: 'Fibromyocytes',"
   ]
  },
  {
   "cell_type": "code",
   "execution_count": null,
   "id": "3fbb6edb",
   "metadata": {},
   "outputs": [],
   "source": [
    "# df[ann_1.astype(\"str\") != ann_2.astype(\"str\")][\"ann_1,ann_2\"].value_counts()\n",
    "# (adata2.X != model.adata.obsm[\"SCANVI_latent_qzm\"]).sum()"
   ]
  },
  {
   "cell_type": "code",
   "execution_count": 207,
   "id": "58aad9d4",
   "metadata": {},
   "outputs": [
    {
     "name": "stdout",
     "output_type": "stream",
     "text": [
      "\u001b[34mINFO    \u001b[0m File                                                                                                      \n",
      "         \u001b[35m/Users/valehvpa/GitRepos/scvi-hub-reproducibility/local/data_new/HLCA/query_to_ref/temp_manual_backup/HLCA\u001b[0m\n",
      "         \u001b[35m_reference_model_minified/\u001b[0m\u001b[95mmodel.pt\u001b[0m already downloaded                                                     \n"
     ]
    },
    {
     "name": "stderr",
     "output_type": "stream",
     "text": [
      "/Users/valehvpa/GitRepos/scvi-tools/scvi/data/fields/_dataframe_field.py:227: UserWarning: Category 18 in adata.obs['_scvi_labels'] has fewer than 3 cells. Models may not train properly.\n",
      "  new_mapping = _make_column_categorical(\n",
      "/Users/valehvpa/GitRepos/scvi-tools/scvi/data/fields/_scanvi.py:58: UserWarning: Category 18 in adata.obs['_scvi_labels'] has fewer than 3 cells. Models may not train properly.\n",
      "  mapping = _make_column_categorical(\n"
     ]
    }
   ],
   "source": [
    "lc = \"/Users/valehvpa/GitRepos/scvi-hub-reproducibility/local/data_new/HLCA/query_to_ref\"\n",
    "model = scvi.model.SCANVI.load(os.path.join(lc, \"temp_manual_backup/HLCA_reference_model_minified\"))"
   ]
  },
  {
   "cell_type": "code",
   "execution_count": 218,
   "id": "357d364e",
   "metadata": {},
   "outputs": [
    {
     "data": {
      "text/plain": [
       "0"
      ]
     },
     "execution_count": 218,
     "metadata": {},
     "output_type": "execute_result"
    }
   ],
   "source": [
    "(model.adata.obsm[\"SCANVI_latent_qzm\"] != adata.X).sum()"
   ]
  },
  {
   "cell_type": "markdown",
   "id": "6e4b8cbf",
   "metadata": {},
   "source": [
    "Conclusion: The bug was that the qzm that was being passed to the model before minification was not aligned to the observation (obs.index). Fixing that and re-running the hlca model minification and using that model fixed the issue (although I am still not sure where the \"unaligned\" qzm was being used that was causing the issue...). \n",
    "Despite the above, instead of building dependency on hugging face, and because we dont need the minified model here, I chose to just download model weights from hugging face, and the embeddings\n",
    "(qzm only) from hlca's Zenodo."
   ]
  }
 ],
 "metadata": {
  "kernelspec": {
   "display_name": "scvi-hub-clone",
   "language": "python",
   "name": "python3"
  },
  "language_info": {
   "codemirror_mode": {
    "name": "ipython",
    "version": 3
   },
   "file_extension": ".py",
   "mimetype": "text/x-python",
   "name": "python",
   "nbconvert_exporter": "python",
   "pygments_lexer": "ipython3",
   "version": "3.9.13"
  },
  "vscode": {
   "interpreter": {
    "hash": "96af0d8d95f3260bd0eb8438dae7a0669cd6a046db40ace554886eaa4b9da85f"
   }
  }
 },
 "nbformat": 4,
 "nbformat_minor": 5
}

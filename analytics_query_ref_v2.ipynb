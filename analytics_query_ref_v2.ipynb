{
 "cells": [
  {
   "cell_type": "markdown",
   "id": "0c28829b",
   "metadata": {},
   "source": [
    "# Analytics - query to reference mapping"
   ]
  },
  {
   "cell_type": "markdown",
   "id": "c10d1322",
   "metadata": {},
   "source": [
    "This notebook is based on and adapted from this scvi-tools tutorial: https://docs.scvi-tools.org/en/stable/tutorials/notebooks/query_hlca_knn.html"
   ]
  },
  {
   "cell_type": "code",
   "execution_count": 1,
   "id": "8c4ac6e3",
   "metadata": {},
   "outputs": [
    {
     "name": "stderr",
     "output_type": "stream",
     "text": [
      "Global seed set to 0\n",
      "Global seed set to 1\n"
     ]
    }
   ],
   "source": [
    "import scvi\n",
    "import anndata\n",
    "import pandas as pd\n",
    "import numpy as np\n",
    "import scanpy as sc\n",
    "import torch\n",
    "import gc\n",
    "import matplotlib.pyplot as plt\n",
    "import matplotlib as mpl\n",
    "import math\n",
    "import mplscience\n",
    "import seaborn as sns\n",
    "import scipy\n",
    "from pathlib import Path\n",
    "import math\n",
    "from scvi.data._download import _download\n",
    "from scvi.data import cellxgene\n",
    "import os\n",
    "from scvi.model.base import ArchesMixin\n",
    "from scvi.hub import HubModel\n",
    "import pynndescent\n",
    "from PIL import ImageColor\n",
    "\n",
    "scvi.settings.seed = 1\n",
    "\n",
    "# plotting commands for the styling\n",
    "# sns.reset_orig()\n",
    "mplscience.set_style(reset_current=True, name=\"default\")\n",
    "\n",
    "%load_ext autoreload\n",
    "%autoreload 2"
   ]
  },
  {
   "cell_type": "markdown",
   "id": "1c7cb2d6",
   "metadata": {},
   "source": [
    "## Citations"
   ]
  },
  {
   "cell_type": "markdown",
   "id": "f1335365",
   "metadata": {},
   "source": [
    "scArches:  \n",
    "Mohammad Lotfollahi, Mohsen Naghipourfar, Malte D. Luecken, Matin Khajavi, Maren Büttner, Marco Wagenstetter, Žiga Avsec, Adam Gayoso, Nir Yosef, Marta Interlandi, Sergei Rybakov, Alexander V. Misharin, and Fabian J. Theis. Mapping single-cell data to reference atlases by transfer learning. Nature Biotechnology, 40(1):121–130, August 2021. doi:10.1038/s41587-021-01001-7.  \n",
    "\n",
    "scANVI:  \n",
    "Chenling Xu, Romain Lopez, Edouard Mehlman, Jeffrey Regier, Michael I Jordan, and Nir Yosef. Probabilistic harmonization and annotation of single-cell transcriptomics data with deep generative models. Molecular Systems Biology, January 2021. doi:10.15252/msb.20209620.\n",
    "\n",
    "HCLA:  \n",
    "An integrated cell atlas of the human lung in health and disease\n",
    "L Sikkema, D Strobl, L Zappia, E Madissoon, NS Markov, L Zaragosi, M Ansari, M Arguel, L Apperloo, C Bécavin, M Berg, E Chichelnitskiy, M Chung, A Collin, ACA Gay, B Hooshiar Kashani, M Jain, T Kapellos, TM Kole, C Mayr, M von Papen, L Peter, C Ramírez-Suástegui, J Schniering, C Taylor, T Walzthoeni, C Xu, LT Bui, C de Donno, L Dony, M Guo, AJ Gutierrez, L Heumos, N Huang, I Ibarra, N Jackson, P Kadur Lakshminarasimha Murthy, M Lotfollahi, T Tabib, C Talavera-Lopez, K Travaglini, A Wilbrey-Clark, KB Worlock, M Yoshida, Lung Biological Network Consortium, T Desai, O Eickelberg, C Falk, N Kaminski, M Krasnow, R Lafyatis, M Nikolíc, J Powell, J Rajagopal, O Rozenblatt-Rosen, MA Seibold, D Sheppard, D Shepherd, SA Teichmann, A Tsankov, J Whitsett, Y Xu, NE Banovich, P Barbry, TE Duong, KB Meyer, JA Kropski, D Pe’er, HB Schiller, PR Tata, JL Schultze, AV Misharin, MC Nawijn, MD Luecken, F Theis\n",
    "bioRxiv 2022.03.10.483747; doi: https://doi.org/10.1101/2022.03.10.483747"
   ]
  },
  {
   "attachments": {},
   "cell_type": "markdown",
   "id": "4605dfa2",
   "metadata": {},
   "source": [
    "## 1️⃣ Load the pre-trained model\n",
    "\n",
    "Here we use the HLCA dataset.\n",
    "\n",
    "An integrated cell atlas of the human lung in health and disease  \n",
    "L Sikkema, D Strobl, L Zappia, E Madissoon, NS Markov, L Zaragosi, M Ansari, M Arguel, L Apperloo, C Bécavin, M Berg, E Chichelnitskiy, M Chung, A Collin, ACA Gay, B Hooshiar Kashani, M Jain, T Kapellos, TM Kole, C Mayr, M von Papen, L Peter, C Ramírez-Suástegui, J Schniering, C Taylor, T Walzthoeni, C Xu, LT Bui, C de Donno, L Dony, M Guo, AJ Gutierrez, L Heumos, N Huang, I Ibarra, N Jackson, P Kadur Lakshminarasimha Murthy, M Lotfollahi, T Tabib, C Talavera-Lopez, K Travaglini, A Wilbrey-Clark, KB Worlock, M Yoshida, Lung Biological Network Consortium, T Desai, O Eickelberg, C Falk, N Kaminski, M Krasnow, R Lafyatis, M Nikolíc, J Powell, J Rajagopal, O Rozenblatt-Rosen, MA Seibold, D Sheppard, D Shepherd, SA Teichmann, A Tsankov, J Whitsett, Y Xu, NE Banovich, P Barbry, TE Duong, KB Meyer, JA Kropski, D Pe’er, HB Schiller, PR Tata, JL Schultze, AV Misharin, MC Nawijn, MD Luecken, F Theis  \n",
    "bioRxiv 2022.03.10.483747; doi: https://doi.org/10.1101/2022.03.10.483747\n",
    "\n",
    "Let's download the pre-trained model"
   ]
  },
  {
   "cell_type": "code",
   "execution_count": 2,
   "id": "ee02bc5c",
   "metadata": {},
   "outputs": [],
   "source": [
    "local_dir = \"/Users/valehvpa/GitRepos/scvi-hub-reproducibility/local/data_new/HLCA/query_to_ref\""
   ]
  },
  {
   "cell_type": "code",
   "execution_count": 3,
   "id": "82f32a55",
   "metadata": {},
   "outputs": [
    {
     "data": {
      "application/vnd.jupyter.widget-view+json": {
       "model_id": "7527b7813b01429187117ab9ee2eb104",
       "version_major": 2,
       "version_minor": 0
      },
      "text/plain": [
       "Fetching 3 files:   0%|          | 0/3 [00:00<?, ?it/s]"
      ]
     },
     "metadata": {},
     "output_type": "display_data"
    }
   ],
   "source": [
    "hm = HubModel.pull_from_huggingface_hub(repo_name=\"scvi-tools/human-lung-cell-atlas\", cache_dir=local_dir, revision=\"main\")"
   ]
  },
  {
   "cell_type": "code",
   "execution_count": 4,
   "id": "0bc456bb",
   "metadata": {},
   "outputs": [
    {
     "name": "stdout",
     "output_type": "stream",
     "text": [
      "\u001b[34mINFO    \u001b[0m Loading model\u001b[33m...\u001b[0m                                                                                          \n",
      "\u001b[34mINFO    \u001b[0m File                                                                                                      \n",
      "         \u001b[35m/Users/valehvpa/GitRepos/scvi-hub-reproducibility/local/data_new/HLCA/query_to_ref/models--scvi-tools--hum\u001b[0m\n",
      "         \u001b[35man-lung-cell-atlas/snapshots/7b770cb7cc26a307b93316de8a5f2ef47181937d/\u001b[0m\u001b[95mmodel.pt\u001b[0m already downloaded         \n",
      "\u001b[34mINFO    \u001b[0m File                                                                                                      \n",
      "         \u001b[35m/Users/valehvpa/GitRepos/scvi-hub-reproducibility/local/data_new/HLCA/query_to_ref/models--scvi-tools--hum\u001b[0m\n",
      "         \u001b[35man-lung-cell-atlas/snapshots/7b770cb7cc26a307b93316de8a5f2ef47181937d/\u001b[0m\u001b[95mmodel.pt\u001b[0m already downloaded         \n"
     ]
    },
    {
     "name": "stderr",
     "output_type": "stream",
     "text": [
      "/Users/valehvpa/GitRepos/scvi-tools/scvi/data/_utils.py:175: UserWarning: Category 18 in adata.obs['_scvi_labels'] has fewer than 3 cells. Models may not train properly.\n",
      "  warnings.warn(\n",
      "/Users/valehvpa/GitRepos/scvi-tools/scvi/data/_utils.py:175: UserWarning: Category 18 in adata.obs['_scvi_labels'] has fewer than 3 cells. Models may not train properly.\n",
      "  warnings.warn(\n"
     ]
    }
   ],
   "source": [
    "model = hm.model"
   ]
  },
  {
   "cell_type": "code",
   "execution_count": 5,
   "id": "de5d4ebd",
   "metadata": {},
   "outputs": [
    {
     "data": {
      "text/html": [
       "<pre style=\"white-space:pre;overflow-x:auto;line-height:normal;font-family:Menlo,'DejaVu Sans Mono',consolas,'Courier New',monospace\">ScanVI Model with the following params: \n",
       "unlabeled_category: unlabeled, n_hidden: <span style=\"color: #008080; text-decoration-color: #008080; font-weight: bold\">128</span>, n_latent: <span style=\"color: #008080; text-decoration-color: #008080; font-weight: bold\">30</span>, n_layers: <span style=\"color: #008080; text-decoration-color: #008080; font-weight: bold\">2</span>, dropout_rate: <span style=\"color: #008080; text-decoration-color: #008080; font-weight: bold\">0.1</span>, dispersion: gene, \n",
       "gene_likelihood: nb\n",
       "Training status: Trained\n",
       "Model's adata is minified?: <span style=\"color: #00ff00; text-decoration-color: #00ff00; font-style: italic\">True</span>\n",
       "</pre>\n"
      ],
      "text/plain": [
       "ScanVI Model with the following params: \n",
       "unlabeled_category: unlabeled, n_hidden: \u001b[1;36m128\u001b[0m, n_latent: \u001b[1;36m30\u001b[0m, n_layers: \u001b[1;36m2\u001b[0m, dropout_rate: \u001b[1;36m0.1\u001b[0m, dispersion: gene, \n",
       "gene_likelihood: nb\n",
       "Training status: Trained\n",
       "Model's adata is minified?: \u001b[3;92mTrue\u001b[0m\n"
      ]
     },
     "metadata": {},
     "output_type": "display_data"
    },
    {
     "data": {
      "text/plain": []
     },
     "execution_count": 5,
     "metadata": {},
     "output_type": "execute_result"
    }
   ],
   "source": [
    "model"
   ]
  },
  {
   "cell_type": "markdown",
   "id": "939930a8",
   "metadata": {},
   "source": [
    "## 2️⃣ Learn a neighbors index on reference latent space + Download the query data"
   ]
  },
  {
   "attachments": {},
   "cell_type": "markdown",
   "id": "4c198b31",
   "metadata": {},
   "source": [
    "First let's get the latent space from our model and embeddings. It is essentially just the mean of the latent distribution."
   ]
  },
  {
   "cell_type": "code",
   "execution_count": 6,
   "id": "83910801",
   "metadata": {},
   "outputs": [],
   "source": [
    "ref = model.adata.obsm[\"X_latent_qzm\"]\n",
    "ref_nn_index = pynndescent.NNDescent(ref)\n",
    "ref_nn_index.prepare()"
   ]
  },
  {
   "attachments": {},
   "cell_type": "markdown",
   "id": "2d0df609",
   "metadata": {},
   "source": [
    "For the query, we will use samples from the following publication:  \n",
    "\n",
    "- Delorey, Toni M., et al. “COVID-19 tissue atlases reveal SARS-CoV-2 pathology and cellular targets.” Nature 595.7865 (2021): 107-113."
   ]
  },
  {
   "cell_type": "code",
   "execution_count": 10,
   "id": "017a2c18",
   "metadata": {},
   "outputs": [],
   "source": [
    "%%capture\n",
    "%%bash\n",
    "curl https://ftp.ncbi.nlm.nih.gov/geo/samples/GSM5230nnn/GSM5230027/suppl/GSM5230027_04-P103142-S149-R01_raw_feature_bc_matrix.h5.gz -o \"query.h5.gz\"\n",
    "gzip -d query.h5.gz"
   ]
  },
  {
   "cell_type": "code",
   "execution_count": 11,
   "id": "b1772578",
   "metadata": {},
   "outputs": [
    {
     "name": "stderr",
     "output_type": "stream",
     "text": [
      "/opt/homebrew/Caskroom/miniconda/base/envs/scvi-hub-clone/lib/python3.9/site-packages/anndata/_core/anndata.py:1830: UserWarning: Variable names are not unique. To make them unique, call `.var_names_make_unique`.\n",
      "  utils.warn_names_duplicates(\"var\")\n"
     ]
    }
   ],
   "source": [
    "geo_metadata_url = \"https://ftp.ncbi.nlm.nih.gov/geo/series/GSE171nnn/GSE171668/suppl/GSE171668_lung_metadata.csv.gz\"\n",
    "metadata = pd.read_csv(geo_metadata_url, index_col=0)\n",
    "query_data = sc.read_10x_h5(\"query.h5\")"
   ]
  },
  {
   "cell_type": "code",
   "execution_count": 12,
   "id": "b32b4c3d",
   "metadata": {},
   "outputs": [
    {
     "data": {
      "text/html": [
       "<div>\n",
       "<style scoped>\n",
       "    .dataframe tbody tr th:only-of-type {\n",
       "        vertical-align: middle;\n",
       "    }\n",
       "\n",
       "    .dataframe tbody tr th {\n",
       "        vertical-align: top;\n",
       "    }\n",
       "\n",
       "    .dataframe thead th {\n",
       "        text-align: right;\n",
       "    }\n",
       "</style>\n",
       "<table border=\"1\" class=\"dataframe\">\n",
       "  <thead>\n",
       "    <tr style=\"text-align: right;\">\n",
       "      <th></th>\n",
       "      <th>gene_ids</th>\n",
       "      <th>feature_types</th>\n",
       "      <th>genome</th>\n",
       "    </tr>\n",
       "  </thead>\n",
       "  <tbody>\n",
       "    <tr>\n",
       "      <th>GRCh38___MIR1302-2HG</th>\n",
       "      <td>GRCh38___ENSG00000243485</td>\n",
       "      <td>Gene Expression</td>\n",
       "      <td>GRCh38</td>\n",
       "    </tr>\n",
       "    <tr>\n",
       "      <th>GRCh38___FAM138A</th>\n",
       "      <td>GRCh38___ENSG00000237613</td>\n",
       "      <td>Gene Expression</td>\n",
       "      <td>GRCh38</td>\n",
       "    </tr>\n",
       "    <tr>\n",
       "      <th>GRCh38___OR4F5</th>\n",
       "      <td>GRCh38___ENSG00000186092</td>\n",
       "      <td>Gene Expression</td>\n",
       "      <td>GRCh38</td>\n",
       "    </tr>\n",
       "    <tr>\n",
       "      <th>GRCh38___AL627309.1</th>\n",
       "      <td>GRCh38___ENSG00000238009</td>\n",
       "      <td>Gene Expression</td>\n",
       "      <td>GRCh38</td>\n",
       "    </tr>\n",
       "    <tr>\n",
       "      <th>GRCh38___AL627309.3</th>\n",
       "      <td>GRCh38___ENSG00000239945</td>\n",
       "      <td>Gene Expression</td>\n",
       "      <td>GRCh38</td>\n",
       "    </tr>\n",
       "    <tr>\n",
       "      <th>...</th>\n",
       "      <td>...</td>\n",
       "      <td>...</td>\n",
       "      <td>...</td>\n",
       "    </tr>\n",
       "    <tr>\n",
       "      <th>SARSCoV2_SARSCoV2_ORF8</th>\n",
       "      <td>SARSCoV2_SARSCoV2_ORF8</td>\n",
       "      <td>Gene Expression</td>\n",
       "      <td>SARSCoV2</td>\n",
       "    </tr>\n",
       "    <tr>\n",
       "      <th>SARSCoV2_SARSCoV2_N</th>\n",
       "      <td>SARSCoV2_SARSCoV2_N</td>\n",
       "      <td>Gene Expression</td>\n",
       "      <td>SARSCoV2</td>\n",
       "    </tr>\n",
       "    <tr>\n",
       "      <th>SARSCoV2_SARSCoV2_ORF10</th>\n",
       "      <td>SARSCoV2_SARSCoV2_ORF10</td>\n",
       "      <td>Gene Expression</td>\n",
       "      <td>SARSCoV2</td>\n",
       "    </tr>\n",
       "    <tr>\n",
       "      <th>SARSCoV2_SARSCoV2_3prime</th>\n",
       "      <td>SARSCoV2_SARSCoV2_3prime</td>\n",
       "      <td>Gene Expression</td>\n",
       "      <td>SARSCoV2</td>\n",
       "    </tr>\n",
       "    <tr>\n",
       "      <th>SARSCoV2_SARSCoV2_NegStrand</th>\n",
       "      <td>SARSCoV2_SARSCoV2_NegStrand</td>\n",
       "      <td>Gene Expression</td>\n",
       "      <td>SARSCoV2</td>\n",
       "    </tr>\n",
       "  </tbody>\n",
       "</table>\n",
       "<p>33567 rows × 3 columns</p>\n",
       "</div>"
      ],
      "text/plain": [
       "                                                gene_ids    feature_types  \\\n",
       "GRCh38___MIR1302-2HG            GRCh38___ENSG00000243485  Gene Expression   \n",
       "GRCh38___FAM138A                GRCh38___ENSG00000237613  Gene Expression   \n",
       "GRCh38___OR4F5                  GRCh38___ENSG00000186092  Gene Expression   \n",
       "GRCh38___AL627309.1             GRCh38___ENSG00000238009  Gene Expression   \n",
       "GRCh38___AL627309.3             GRCh38___ENSG00000239945  Gene Expression   \n",
       "...                                                  ...              ...   \n",
       "SARSCoV2_SARSCoV2_ORF8            SARSCoV2_SARSCoV2_ORF8  Gene Expression   \n",
       "SARSCoV2_SARSCoV2_N                  SARSCoV2_SARSCoV2_N  Gene Expression   \n",
       "SARSCoV2_SARSCoV2_ORF10          SARSCoV2_SARSCoV2_ORF10  Gene Expression   \n",
       "SARSCoV2_SARSCoV2_3prime        SARSCoV2_SARSCoV2_3prime  Gene Expression   \n",
       "SARSCoV2_SARSCoV2_NegStrand  SARSCoV2_SARSCoV2_NegStrand  Gene Expression   \n",
       "\n",
       "                               genome  \n",
       "GRCh38___MIR1302-2HG           GRCh38  \n",
       "GRCh38___FAM138A               GRCh38  \n",
       "GRCh38___OR4F5                 GRCh38  \n",
       "GRCh38___AL627309.1            GRCh38  \n",
       "GRCh38___AL627309.3            GRCh38  \n",
       "...                               ...  \n",
       "SARSCoV2_SARSCoV2_ORF8       SARSCoV2  \n",
       "SARSCoV2_SARSCoV2_N          SARSCoV2  \n",
       "SARSCoV2_SARSCoV2_ORF10      SARSCoV2  \n",
       "SARSCoV2_SARSCoV2_3prime     SARSCoV2  \n",
       "SARSCoV2_SARSCoV2_NegStrand  SARSCoV2  \n",
       "\n",
       "[33567 rows x 3 columns]"
      ]
     },
     "execution_count": 12,
     "metadata": {},
     "output_type": "execute_result"
    }
   ],
   "source": [
    "query_data.var"
   ]
  },
  {
   "cell_type": "code",
   "execution_count": 13,
   "id": "0c3c6b31",
   "metadata": {},
   "outputs": [],
   "source": [
    "# need gene ids as index to match the core HLCA data\n",
    "query_data.var['gene_names'] = query_data.var.index\n",
    "query_data.var.index = [idx.split(\"___\")[-1] for idx in query_data.var.gene_ids]"
   ]
  },
  {
   "cell_type": "code",
   "execution_count": 14,
   "id": "6661e8f7",
   "metadata": {},
   "outputs": [],
   "source": [
    "# use metadata to select only cells of interest and remove empty drops\n",
    "metadata = metadata.loc[metadata.donor == \"D12_4\",:].copy()\n",
    "metadata.index = [idx.split(\"-\")[-1] for idx in metadata.index]\n",
    "# subset query_data to cells in metadata\n",
    "query_data.obs.index = query_data.obs.index.str.rstrip(\"-1\")\n",
    "query_data = query_data[metadata.index, :].copy()"
   ]
  },
  {
   "cell_type": "code",
   "execution_count": 15,
   "id": "5203dd21",
   "metadata": {},
   "outputs": [],
   "source": [
    "# add dataset information:\n",
    "query_data.obs['dataset'] = \"test_dataset_delorey_regev\""
   ]
  },
  {
   "cell_type": "code",
   "execution_count": 16,
   "id": "fda8eb9f",
   "metadata": {},
   "outputs": [
    {
     "data": {
      "text/plain": [
       "AnnData object with n_obs × n_vars = 1786 × 33567\n",
       "    obs: 'dataset'\n",
       "    var: 'gene_ids', 'feature_types', 'genome', 'gene_names'"
      ]
     },
     "execution_count": 16,
     "metadata": {},
     "output_type": "execute_result"
    }
   ],
   "source": [
    "query_data"
   ]
  },
  {
   "attachments": {},
   "cell_type": "markdown",
   "id": "c6a4547b",
   "metadata": {},
   "source": [
    "## 3️⃣ Build a query model\n",
    "\n",
    "Use `prepare_query_anndata` to re-order the genes and pad any missing genes with 0s, so that query_adata matches exactly the reference in terms of its gene set.  "
   ]
  },
  {
   "cell_type": "code",
   "execution_count": 17,
   "id": "5d125659",
   "metadata": {},
   "outputs": [
    {
     "name": "stdout",
     "output_type": "stream",
     "text": [
      "\u001b[34mINFO    \u001b[0m Found \u001b[1;36m99.65\u001b[0m% reference vars in query data.                                                                \n"
     ]
    },
    {
     "name": "stderr",
     "output_type": "stream",
     "text": [
      "/Users/valehvpa/GitRepos/scvi-tools/scvi/model/base/_archesmixin.py:212: FutureWarning: X.dtype being converted to np.float32 from float64. In the next version of anndata (0.9) conversion will not be automatic. Pass dtype explicitly to avoid this warning. Pass `AnnData(X, dtype=X.dtype, ...)` to get the future behavour.\n",
      "  adata_padding = AnnData(\n"
     ]
    }
   ],
   "source": [
    "scvi.model.SCANVI.prepare_query_anndata(query_data, model)"
   ]
  },
  {
   "cell_type": "code",
   "execution_count": 18,
   "id": "0fed06c9",
   "metadata": {},
   "outputs": [],
   "source": [
    "query_data.obs[\"scanvi_label\"] = \"unlabeled\""
   ]
  },
  {
   "cell_type": "code",
   "execution_count": 19,
   "id": "3d8b8d88",
   "metadata": {},
   "outputs": [],
   "source": [
    "# scvi.model.SCANVI.view_setup_args(\n",
    "#     \"/Users/valehvpa/GitRepos/scvi-hub/local/data_stuff/HLCA/hlca_new/HLCA_reference_model_new_latent\"\n",
    "# )"
   ]
  },
  {
   "cell_type": "code",
   "execution_count": 20,
   "id": "680518c5",
   "metadata": {},
   "outputs": [],
   "source": [
    "query_model = scvi.model.SCANVI.load_query_data(query_data, model)"
   ]
  },
  {
   "cell_type": "markdown",
   "id": "034fc53f",
   "metadata": {},
   "source": [
    "Train the query model."
   ]
  },
  {
   "cell_type": "code",
   "execution_count": 21,
   "id": "db78e1ad",
   "metadata": {},
   "outputs": [],
   "source": [
    "surgery_epochs = 500\n",
    "train_kwargs_surgery = {\n",
    "    \"early_stopping\": True,\n",
    "    \"early_stopping_monitor\": \"elbo_train\",\n",
    "    \"early_stopping_patience\": 10,\n",
    "    \"early_stopping_min_delta\": 0.001,\n",
    "    \"plan_kwargs\": {\"weight_decay\": 0.0},\n",
    "}"
   ]
  },
  {
   "cell_type": "code",
   "execution_count": 22,
   "id": "d558fabb",
   "metadata": {},
   "outputs": [
    {
     "name": "stdout",
     "output_type": "stream",
     "text": [
      "\u001b[34mINFO    \u001b[0m Training for \u001b[1;36m500\u001b[0m epochs.                                                                                  \n"
     ]
    },
    {
     "name": "stderr",
     "output_type": "stream",
     "text": [
      "GPU available: True (mps), used: False\n",
      "TPU available: False, using: 0 TPU cores\n",
      "IPU available: False, using: 0 IPUs\n",
      "HPU available: False, using: 0 HPUs\n",
      "/opt/homebrew/Caskroom/miniconda/base/envs/scvi-hub-clone/lib/python3.9/site-packages/pytorch_lightning/trainer/trainer.py:1789: UserWarning: MPS available but not used. Set `accelerator` and `devices` using `Trainer(accelerator='mps', devices=1)`.\n",
      "  rank_zero_warn(\n"
     ]
    },
    {
     "name": "stdout",
     "output_type": "stream",
     "text": [
      "Epoch 229/500:  46%|████▌     | 229/500 [01:36<01:54,  2.37it/s, loss=498, v_num=1]\n",
      "Monitored metric elbo_train did not improve in the last 10 records. Best score: 542.929. Signaling Trainer to stop.\n"
     ]
    }
   ],
   "source": [
    "query_model.train(\n",
    "    max_epochs=surgery_epochs,\n",
    "    **train_kwargs_surgery\n",
    ")"
   ]
  },
  {
   "cell_type": "code",
   "execution_count": 23,
   "id": "4c6e10b6",
   "metadata": {},
   "outputs": [],
   "source": [
    "query_save_path = f\"{local_dir}/query_model\"\n",
    "query_model.save(query_save_path, overwrite=True)"
   ]
  },
  {
   "cell_type": "code",
   "execution_count": 24,
   "id": "bbfca9cc",
   "metadata": {},
   "outputs": [],
   "source": [
    "query_emb = sc.AnnData(query_model.get_latent_representation())\n",
    "query_emb.obs_names = query_data.obs_names"
   ]
  },
  {
   "attachments": {},
   "cell_type": "markdown",
   "id": "1dd39ace",
   "metadata": {},
   "source": [
    "## 4️⃣ Predict\n",
    "\n",
    "Now let’s try to predict an attribute in the query data using the reference (e.g. cell types or compartments) and save it in the query embedding object.   \n",
    "\n",
    "We reuse the PyNNDescent index from before, converting distances to affinities, and weighting the predictions using these affinities. This follows the approach used in the HLCA."
   ]
  },
  {
   "cell_type": "code",
   "execution_count": 29,
   "id": "cb3f8169",
   "metadata": {},
   "outputs": [],
   "source": [
    "ref_neighbors, ref_distances = ref_nn_index.query(query_emb.X)"
   ]
  },
  {
   "cell_type": "code",
   "execution_count": 193,
   "id": "6bc48728",
   "metadata": {},
   "outputs": [],
   "source": [
    "def distances_to_affinities(distances):\n",
    "    # convert distances to affinities\n",
    "    stds = np.std(distances, axis=1)\n",
    "    stds = (2.0 / stds) ** 2\n",
    "    stds = stds.reshape(-1, 1)\n",
    "    distances_tilda = np.exp(-np.true_divide(distances, stds))\n",
    "    weights = distances_tilda / np.sum(\n",
    "        distances_tilda, axis=1, keepdims=True\n",
    "    )\n",
    "    return weights\n",
    "\n",
    "# import numba\n",
    "# @numba.njit\n",
    "def weighted_prediction(weights, ref_cats):\n",
    "    \"\"\"Get highest weight category.\"\"\"\n",
    "    N = len(weights)\n",
    "    predictions = np.zeros((N,), dtype=ref_cats.dtype)\n",
    "    uncertainty = np.zeros((N,))\n",
    "    for i in range(N):\n",
    "        obs_weights = weights[i]\n",
    "        obs_cats = ref_cats[i]\n",
    "        best_prob = 0\n",
    "        for c in np.unique(obs_cats):\n",
    "            cand_prob = np.sum(obs_weights[obs_cats == c])\n",
    "            if cand_prob > best_prob:\n",
    "                best_prob = cand_prob\n",
    "                predictions[i] = c\n",
    "                uncertainty[i] = max(1 - best_prob, 0)\n",
    "\n",
    "    return predictions, uncertainty\n",
    "\n",
    "weights = distances_to_affinities(ref_distances)"
   ]
  },
  {
   "attachments": {},
   "cell_type": "markdown",
   "id": "a5dc0cc0",
   "metadata": {},
   "source": [
    "### 4️⃣.1️⃣ Figuring out what attribute to predict\n",
    "\n",
    "Let's see what we can predict that we could then compare to the ground truth in the query data."
   ]
  },
  {
   "cell_type": "code",
   "execution_count": 31,
   "id": "69c88de1",
   "metadata": {},
   "outputs": [
    {
     "data": {
      "text/plain": [
       "Index(['donor', 'n_genes', 'n_counts', 'percent_mito', 'method', 'doublet',\n",
       "       'predicted_celltype', 'compartment', 'manual_annotation_cluster',\n",
       "       'manual_annotation_SubCluster', 'Viral+'],\n",
       "      dtype='object')"
      ]
     },
     "execution_count": 31,
     "metadata": {},
     "output_type": "execute_result"
    }
   ],
   "source": [
    "metadata.columns"
   ]
  },
  {
   "cell_type": "code",
   "execution_count": 32,
   "id": "71ba6513",
   "metadata": {},
   "outputs": [
    {
     "data": {
      "text/plain": [
       "stromal        1079\n",
       "endothelial     512\n",
       "lymphoid         88\n",
       "epithelial       76\n",
       "myeloid          25\n",
       "Name: compartment, dtype: int64"
      ]
     },
     "execution_count": 32,
     "metadata": {},
     "output_type": "execute_result"
    }
   ],
   "source": [
    "metadata[\"compartment\"].value_counts()"
   ]
  },
  {
   "cell_type": "code",
   "execution_count": null,
   "id": "c26ab5d4",
   "metadata": {},
   "outputs": [
    {
     "data": {
      "text/plain": [
       "myofibroblast            1031\n",
       "vascular endothelial      415\n",
       "lymphatic endothelial      97\n",
       "AT1                        62\n",
       "CD8+ T cell                57\n",
       "pericyte                   28\n",
       "club                       12\n",
       "smc                        12\n",
       "macrophage                 10\n",
       "nkt                         8\n",
       "fibroblast                  8\n",
       "CD4+ T cell                 7\n",
       "neutrophil                  7\n",
       "plasma cell                 7\n",
       "mast                        6\n",
       "NK cell                     4\n",
       "Treg                        3\n",
       "B cell                      2\n",
       "cDC                         2\n",
       "AT2                         2\n",
       "Name: predicted_celltype, dtype: int64"
      ]
     },
     "metadata": {},
     "output_type": "display_data"
    }
   ],
   "source": [
    "metadata[\"predicted_celltype\"].value_counts()"
   ]
  },
  {
   "cell_type": "code",
   "execution_count": null,
   "id": "7f565202",
   "metadata": {},
   "outputs": [
    {
     "data": {
      "text/html": [
       "<div>\n",
       "<style scoped>\n",
       "    .dataframe tbody tr th:only-of-type {\n",
       "        vertical-align: middle;\n",
       "    }\n",
       "\n",
       "    .dataframe tbody tr th {\n",
       "        vertical-align: top;\n",
       "    }\n",
       "\n",
       "    .dataframe thead th {\n",
       "        text-align: right;\n",
       "    }\n",
       "</style>\n",
       "<table border=\"1\" class=\"dataframe\">\n",
       "  <thead>\n",
       "    <tr style=\"text-align: right;\">\n",
       "      <th></th>\n",
       "      <th>original_ann_level_1</th>\n",
       "      <th>original_ann_level_2</th>\n",
       "      <th>original_ann_level_3</th>\n",
       "      <th>scanvi_label</th>\n",
       "    </tr>\n",
       "  </thead>\n",
       "  <tbody>\n",
       "    <tr>\n",
       "      <th>GCGACCATCCCTAACC_SC22</th>\n",
       "      <td>Immune</td>\n",
       "      <td>Myeloid</td>\n",
       "      <td>Macrophages</td>\n",
       "      <td>Macrophages</td>\n",
       "    </tr>\n",
       "    <tr>\n",
       "      <th>P2_1_GCGCAACCAGTTAACC</th>\n",
       "      <td>Immune</td>\n",
       "      <td>Lymphoid</td>\n",
       "      <td>Innate lymphoid cell NK</td>\n",
       "      <td>Non-T/B cells</td>\n",
       "    </tr>\n",
       "    <tr>\n",
       "      <th>GCTCTGTAGTGCTGCC_SC27</th>\n",
       "      <td>Epithelial</td>\n",
       "      <td>Alveolar epithelium</td>\n",
       "      <td>AT2</td>\n",
       "      <td>AT2</td>\n",
       "    </tr>\n",
       "    <tr>\n",
       "      <th>P2_8_TTAGGACGTTCAGGCC</th>\n",
       "      <td>Immune</td>\n",
       "      <td>Myeloid</td>\n",
       "      <td>Macrophages</td>\n",
       "      <td>Macrophages</td>\n",
       "    </tr>\n",
       "    <tr>\n",
       "      <th>CTTGATTGTCAGTTTG_T164</th>\n",
       "      <td>Epithelial</td>\n",
       "      <td>Airway epithelium</td>\n",
       "      <td>Basal</td>\n",
       "      <td>Basal</td>\n",
       "    </tr>\n",
       "    <tr>\n",
       "      <th>...</th>\n",
       "      <td>...</td>\n",
       "      <td>...</td>\n",
       "      <td>...</td>\n",
       "      <td>...</td>\n",
       "    </tr>\n",
       "    <tr>\n",
       "      <th>ACCTTTACATTAACCG_T120</th>\n",
       "      <td>Epithelial</td>\n",
       "      <td>Airway epithelium</td>\n",
       "      <td>Basal</td>\n",
       "      <td>Basal</td>\n",
       "    </tr>\n",
       "    <tr>\n",
       "      <th>CATTATCTCCATGAAC_F01639</th>\n",
       "      <td>Immune</td>\n",
       "      <td>Myeloid</td>\n",
       "      <td>Dendritic cells</td>\n",
       "      <td>Dendritic cells</td>\n",
       "    </tr>\n",
       "    <tr>\n",
       "      <th>AGGCCGTGTGTGACCC-SC56</th>\n",
       "      <td>Epithelial</td>\n",
       "      <td>Alveolar epithelium</td>\n",
       "      <td>AT2</td>\n",
       "      <td>AT2</td>\n",
       "    </tr>\n",
       "    <tr>\n",
       "      <th>CGATGGCAGCAGGCTA-1-2</th>\n",
       "      <td>Epithelial</td>\n",
       "      <td>Airway epithelium</td>\n",
       "      <td>Secretory</td>\n",
       "      <td>Secretory</td>\n",
       "    </tr>\n",
       "    <tr>\n",
       "      <th>AATCGGTGTCGGCACT-1-4</th>\n",
       "      <td>Epithelial</td>\n",
       "      <td>Airway epithelium</td>\n",
       "      <td>Secretory</td>\n",
       "      <td>Secretory</td>\n",
       "    </tr>\n",
       "  </tbody>\n",
       "</table>\n",
       "<p>584884 rows × 4 columns</p>\n",
       "</div>"
      ],
      "text/plain": [
       "                        original_ann_level_1 original_ann_level_2  \\\n",
       "GCGACCATCCCTAACC_SC22                 Immune              Myeloid   \n",
       "P2_1_GCGCAACCAGTTAACC                 Immune             Lymphoid   \n",
       "GCTCTGTAGTGCTGCC_SC27             Epithelial  Alveolar epithelium   \n",
       "P2_8_TTAGGACGTTCAGGCC                 Immune              Myeloid   \n",
       "CTTGATTGTCAGTTTG_T164             Epithelial    Airway epithelium   \n",
       "...                                      ...                  ...   \n",
       "ACCTTTACATTAACCG_T120             Epithelial    Airway epithelium   \n",
       "CATTATCTCCATGAAC_F01639               Immune              Myeloid   \n",
       "AGGCCGTGTGTGACCC-SC56             Epithelial  Alveolar epithelium   \n",
       "CGATGGCAGCAGGCTA-1-2              Epithelial    Airway epithelium   \n",
       "AATCGGTGTCGGCACT-1-4              Epithelial    Airway epithelium   \n",
       "\n",
       "                            original_ann_level_3     scanvi_label  \n",
       "GCGACCATCCCTAACC_SC22                Macrophages      Macrophages  \n",
       "P2_1_GCGCAACCAGTTAACC    Innate lymphoid cell NK    Non-T/B cells  \n",
       "GCTCTGTAGTGCTGCC_SC27                        AT2              AT2  \n",
       "P2_8_TTAGGACGTTCAGGCC                Macrophages      Macrophages  \n",
       "CTTGATTGTCAGTTTG_T164                      Basal            Basal  \n",
       "...                                          ...              ...  \n",
       "ACCTTTACATTAACCG_T120                      Basal            Basal  \n",
       "CATTATCTCCATGAAC_F01639          Dendritic cells  Dendritic cells  \n",
       "AGGCCGTGTGTGACCC-SC56                        AT2              AT2  \n",
       "CGATGGCAGCAGGCTA-1-2                   Secretory        Secretory  \n",
       "AATCGGTGTCGGCACT-1-4                   Secretory        Secretory  \n",
       "\n",
       "[584884 rows x 4 columns]"
      ]
     },
     "metadata": {},
     "output_type": "display_data"
    }
   ],
   "source": [
    "# ann levels 2 or 3 seems to match the resolution in query_data, 1 is compartment level (e.g. Epithelial, Immune, etc.)\n",
    "model.adata.obs[[\n",
    "    \"original_ann_level_1\",\n",
    "    \"original_ann_level_2\",\n",
    "    \"original_ann_level_3\",\n",
    "    \"scanvi_label\",\n",
    "]]"
   ]
  },
  {
   "cell_type": "markdown",
   "id": "61a2fe61",
   "metadata": {},
   "source": [
    "### 4️⃣.2️⃣ Predict cell compartments\n",
    "\n",
    "It looks like we can try to predict the compartment, and compare it to the ground truth compartment in the query data (which comes from the metadata object).  "
   ]
  },
  {
   "cell_type": "code",
   "execution_count": null,
   "id": "29eee255",
   "metadata": {},
   "outputs": [
    {
     "data": {
      "text/plain": [
       "Epithelial             281547\n",
       "Immune                 226595\n",
       "Endothelial             49738\n",
       "Stroma                  25193\n",
       "Proliferating cells      1811\n",
       "Name: original_ann_level_1, dtype: int64"
      ]
     },
     "metadata": {},
     "output_type": "display_data"
    }
   ],
   "source": [
    "model.adata.obs.original_ann_level_1.value_counts()"
   ]
  },
  {
   "cell_type": "code",
   "execution_count": null,
   "id": "bc7e102f",
   "metadata": {},
   "outputs": [
    {
     "data": {
      "text/plain": [
       "stromal        1079\n",
       "endothelial     512\n",
       "lymphoid         88\n",
       "epithelial       76\n",
       "myeloid          25\n",
       "Name: compartment, dtype: int64"
      ]
     },
     "metadata": {},
     "output_type": "display_data"
    }
   ],
   "source": [
    "metadata[\"compartment\"].value_counts()"
   ]
  },
  {
   "cell_type": "markdown",
   "id": "1ddbeb55",
   "metadata": {},
   "source": [
    "lymphoid and myeloid are essentially Immune."
   ]
  },
  {
   "cell_type": "code",
   "execution_count": null,
   "id": "4f51786b",
   "metadata": {},
   "outputs": [],
   "source": [
    "label_key = \"original_ann_level_1\"\n",
    "ref_cats = model.adata.obs[label_key].cat.codes.to_numpy()[ref_neighbors]\n",
    "p, u = weighted_prediction(weights, ref_cats)\n",
    "p = np.asarray(model.adata.obs[label_key].cat.categories)[p]\n",
    "query_emb.obs[\"compartment_pred\"], query_emb.obs[\"compartment_uncertainty\"] = p, u"
   ]
  },
  {
   "attachments": {},
   "cell_type": "markdown",
   "id": "d7fbeb1d",
   "metadata": {},
   "source": [
    "### 4️⃣.3️⃣ Evaluate predictions\n",
    "\n",
    "Finally, let's evaluate predictions."
   ]
  },
  {
   "cell_type": "code",
   "execution_count": 57,
   "id": "ce5bc9b6",
   "metadata": {},
   "outputs": [
    {
     "data": {
      "text/html": [
       "<div>\n",
       "<style scoped>\n",
       "    .dataframe tbody tr th:only-of-type {\n",
       "        vertical-align: middle;\n",
       "    }\n",
       "\n",
       "    .dataframe tbody tr th {\n",
       "        vertical-align: top;\n",
       "    }\n",
       "\n",
       "    .dataframe thead th {\n",
       "        text-align: right;\n",
       "    }\n",
       "</style>\n",
       "<table border=\"1\" class=\"dataframe\">\n",
       "  <thead>\n",
       "    <tr style=\"text-align: right;\">\n",
       "      <th></th>\n",
       "      <th>compartment_pred</th>\n",
       "      <th>compartment_uncertainty</th>\n",
       "    </tr>\n",
       "  </thead>\n",
       "  <tbody>\n",
       "    <tr>\n",
       "      <th>AAGCGTTTCAGTGCGC</th>\n",
       "      <td>Endothelial</td>\n",
       "      <td>0.000000e+00</td>\n",
       "    </tr>\n",
       "    <tr>\n",
       "      <th>AGCCACGAGGAGTCTG</th>\n",
       "      <td>Endothelial</td>\n",
       "      <td>5.960464e-08</td>\n",
       "    </tr>\n",
       "    <tr>\n",
       "      <th>ATCATTCGTATTTCGG</th>\n",
       "      <td>Endothelial</td>\n",
       "      <td>0.000000e+00</td>\n",
       "    </tr>\n",
       "    <tr>\n",
       "      <th>TGGCGTGCATGTAACC</th>\n",
       "      <td>Endothelial</td>\n",
       "      <td>0.000000e+00</td>\n",
       "    </tr>\n",
       "    <tr>\n",
       "      <th>CTACAGACACTGTGAT</th>\n",
       "      <td>Endothelial</td>\n",
       "      <td>0.000000e+00</td>\n",
       "    </tr>\n",
       "    <tr>\n",
       "      <th>...</th>\n",
       "      <td>...</td>\n",
       "      <td>...</td>\n",
       "    </tr>\n",
       "    <tr>\n",
       "      <th>TGATGCACATGGGCAA</th>\n",
       "      <td>Epithelial</td>\n",
       "      <td>1.192093e-07</td>\n",
       "    </tr>\n",
       "    <tr>\n",
       "      <th>AATGACCAGCCGATTT</th>\n",
       "      <td>Immune</td>\n",
       "      <td>5.960464e-08</td>\n",
       "    </tr>\n",
       "    <tr>\n",
       "      <th>CTCCATGCACTCTAGA</th>\n",
       "      <td>Stroma</td>\n",
       "      <td>0.000000e+00</td>\n",
       "    </tr>\n",
       "    <tr>\n",
       "      <th>ATGGGTTAGAGGCGTT</th>\n",
       "      <td>Epithelial</td>\n",
       "      <td>0.000000e+00</td>\n",
       "    </tr>\n",
       "    <tr>\n",
       "      <th>CGTGTCTCACGCTGTG</th>\n",
       "      <td>Endothelial</td>\n",
       "      <td>0.000000e+00</td>\n",
       "    </tr>\n",
       "  </tbody>\n",
       "</table>\n",
       "<p>1786 rows × 2 columns</p>\n",
       "</div>"
      ],
      "text/plain": [
       "                 compartment_pred  compartment_uncertainty\n",
       "AAGCGTTTCAGTGCGC      Endothelial             0.000000e+00\n",
       "AGCCACGAGGAGTCTG      Endothelial             5.960464e-08\n",
       "ATCATTCGTATTTCGG      Endothelial             0.000000e+00\n",
       "TGGCGTGCATGTAACC      Endothelial             0.000000e+00\n",
       "CTACAGACACTGTGAT      Endothelial             0.000000e+00\n",
       "...                           ...                      ...\n",
       "TGATGCACATGGGCAA       Epithelial             1.192093e-07\n",
       "AATGACCAGCCGATTT           Immune             5.960464e-08\n",
       "CTCCATGCACTCTAGA           Stroma             0.000000e+00\n",
       "ATGGGTTAGAGGCGTT       Epithelial             0.000000e+00\n",
       "CGTGTCTCACGCTGTG      Endothelial             0.000000e+00\n",
       "\n",
       "[1786 rows x 2 columns]"
      ]
     },
     "execution_count": 57,
     "metadata": {},
     "output_type": "execute_result"
    }
   ],
   "source": [
    "query_emb.obs[[\"compartment_pred\", \"compartment_uncertainty\"]]"
   ]
  },
  {
   "cell_type": "code",
   "execution_count": 58,
   "id": "fdc566d6",
   "metadata": {},
   "outputs": [
    {
     "name": "stdout",
     "output_type": "stream",
     "text": [
      "0.0027435729311401607 5.960464477539063e-08\n"
     ]
    },
    {
     "data": {
      "text/plain": [
       "<AxesSubplot: ylabel='Density'>"
      ]
     },
     "execution_count": 58,
     "metadata": {},
     "output_type": "execute_result"
    },
    {
     "data": {
      "image/png": "[encoded data removed]",
      "text/plain": [
       "<Figure size 400x400 with 1 Axes>"
      ]
     },
     "metadata": {},
     "output_type": "display_data"
    }
   ],
   "source": [
    "print(query_emb.obs[\"compartment_uncertainty\"].mean(), np.quantile(query_emb.obs[\"compartment_uncertainty\"], 0.75))\n",
    "query_emb.obs[\"compartment_uncertainty\"].plot(kind='density', ind=np.linspace(-0.02, 0.02))"
   ]
  },
  {
   "cell_type": "code",
   "execution_count": 59,
   "id": "265fca99",
   "metadata": {},
   "outputs": [],
   "source": [
    "def get_precision_recall(ground_truth: np.ndarray, pred: np.ndarray, do_round: bool = True):\n",
    "    assert type(ground_truth) == np.ndarray and type(pred) == np.ndarray\n",
    "    # https://stackoverflow.com/a/68157457\n",
    "    tp = np.sum(np.logical_and(pred == 1, ground_truth == 1))\n",
    "    fp = np.sum(np.logical_and(pred == 1, ground_truth == 0))\n",
    "    fn = np.sum(np.logical_and(pred == 0, ground_truth == 1))\n",
    "    precision = tp / (tp+fp)\n",
    "    recall = tp / (tp+fn)\n",
    "    if precision == 0 and recall == 0:\n",
    "        f1 = 0\n",
    "    else:\n",
    "        f1 = (2*precision*recall) / (precision+recall)\n",
    "    if do_round:\n",
    "        dec = 2\n",
    "        return np.round(precision, dec), np.round(recall, dec), np.round(f1, dec)\n",
    "    else:\n",
    "        return precision, recall, f1\n",
    "\n",
    "def binarize_array(arr, true_val: str) -> np.ndarray:\n",
    "    v = [1 if val == true_val else 0 for val in arr]\n",
    "    return np.array(v)\n",
    "\n",
    "def evaluate_predictions(uncertainty_threshold = None):\n",
    "    # build comparison_df\n",
    "    assert metadata[\"compartment\"].index.equals(query_emb.obs.index)\n",
    "    comparison_df = pd.DataFrame(index=metadata[\"compartment\"].index, columns=[\"pred\", \"ground_truth\", \"pred_uncertainty\"])\n",
    "    comparison_df[\"pred\"] = query_emb.obs[\"compartment_pred\"]\n",
    "    comparison_df[\"pred_uncertainty\"] = query_emb.obs[\"compartment_uncertainty\"]\n",
    "    comparison_df[\"ground_truth\"] = metadata[\"compartment\"].fillna(\n",
    "                                                            \"Unknown\"\n",
    "                                                        ).replace(\n",
    "                                                            \"stromal\",\n",
    "                                                            \"stroma\"\n",
    "                                                        ).replace(\n",
    "                                                            \"lymphoid\",\n",
    "                                                            \"immune\"\n",
    "                                                        ).replace(\n",
    "                                                            \"myeloid\",\n",
    "                                                            \"immune\"\n",
    "                                                        ).str.capitalize()\n",
    "\n",
    "    # we dont care about cases where we dont know the ground truth (in fact we could have skipped prediction for these altogether)\n",
    "    n_before = len(comparison_df)\n",
    "    comparison_df = comparison_df[comparison_df[\"ground_truth\"] != \"Unknown\"]\n",
    "    n_filtered = n_before-len(comparison_df)\n",
    "    pct_filtered = 100*n_filtered/n_before\n",
    "    print(f\"filtered out {n_filtered} barcodes ({pct_filtered:.2f}%) with unknown ground truth\")\n",
    "\n",
    "    if uncertainty_threshold is not None:\n",
    "        # filter out uncertainty > threshold\n",
    "        n_before = len(comparison_df)\n",
    "        comparison_df = comparison_df[comparison_df[\"pred_uncertainty\"] <= uncertainty_threshold]\n",
    "        n_filtered = n_before-len(comparison_df)\n",
    "        pct_filtered = 100*n_filtered/n_before\n",
    "        print(f\"filtered out {n_filtered} barcodes ({pct_filtered:.2f}%) with pred uncertainty > {uncertainty_threshold}\")\n",
    "\n",
    "    # now calculate prediction accuracy\n",
    "    match = comparison_df[\"pred\"] == comparison_df[\"ground_truth\"]\n",
    "    accuracy = 100 * np.sum(match) / len(match)\n",
    "\n",
    "    # compute F1 score for each predicted class\n",
    "    unique_cats_pred = np.unique(comparison_df.pred)\n",
    "    unique_cats_ground_truth = np.unique(comparison_df.ground_truth)\n",
    "    # in our case this happens to be true but that's not always the case\n",
    "    assert np.array_equal(unique_cats_pred, unique_cats_ground_truth)\n",
    "    f1_scores = {}\n",
    "    for cat in unique_cats_pred:\n",
    "        binay_pred = binarize_array(comparison_df.pred, true_val=cat)\n",
    "        binay_ground_truth = binarize_array(comparison_df.ground_truth, true_val=cat)\n",
    "        f1_scores[cat] = get_precision_recall(binay_pred, binay_ground_truth)[2]\n",
    "\n",
    "    return comparison_df, accuracy, f1_scores"
   ]
  },
  {
   "cell_type": "code",
   "execution_count": 60,
   "id": "848acd4e",
   "metadata": {},
   "outputs": [
    {
     "name": "stdout",
     "output_type": "stream",
     "text": [
      "filtered out 6 barcodes (0.34%) with unknown ground truth\n",
      "filtered out 7 barcodes (0.39%) with pred uncertainty > 0.2\n",
      "99.71799210377891\n",
      "{'Endothelial': 1.0, 'Epithelial': 0.99, 'Immune': 0.99, 'Stroma': 1.0}\n"
     ]
    }
   ],
   "source": [
    "comparison_df, accuracy, f1_scores = evaluate_predictions(uncertainty_threshold=0.2)\n",
    "print(accuracy)\n",
    "print(f1_scores)"
   ]
  },
  {
   "cell_type": "code",
   "execution_count": 61,
   "id": "5cee6c5d",
   "metadata": {},
   "outputs": [
    {
     "data": {
      "image/png": "[encoded data removed]",
      "text/plain": [
       "<Figure size 400x400 with 2 Axes>"
      ]
     },
     "metadata": {},
     "output_type": "display_data"
    }
   ],
   "source": [
    "from sklearn.metrics import confusion_matrix, ConfusionMatrixDisplay\n",
    "cm = confusion_matrix(comparison_df[\"ground_truth\"], comparison_df[\"pred\"])\n",
    "\n",
    "display_labels = list(f1_scores.keys())\n",
    "cm_display = ConfusionMatrixDisplay(cm, display_labels=display_labels).plot()"
   ]
  },
  {
   "cell_type": "code",
   "execution_count": 79,
   "id": "3c8c60bb",
   "metadata": {},
   "outputs": [],
   "source": [
    "temp_fig_dir = \"/Users/valehvpa/GitRepos/scvi-hub-reproducibility/local/temp_figs\""
   ]
  },
  {
   "cell_type": "code",
   "execution_count": 81,
   "id": "5b51fa20",
   "metadata": {},
   "outputs": [
    {
     "data": {
      "image/png": "[encoded data removed]",
      "text/plain": [
       "<Figure size 300x300 with 2 Axes>"
      ]
     },
     "metadata": {},
     "output_type": "display_data"
    }
   ],
   "source": [
    "# https://docs.scvi-tools.org/en/stable/tutorials/notebooks/cellassign_tutorial.html#Model-reproducibility\n",
    "confusion_matrix = pd.crosstab(\n",
    "    comparison_df[\"pred\"],\n",
    "    comparison_df[\"ground_truth\"], \n",
    "    rownames=[\"Predicted label\"],\n",
    "    colnames=[\"True label\"],\n",
    ")\n",
    "confusion_matrix /= confusion_matrix.sum(1).ravel().reshape(-1, 1)\n",
    "confusion_matrix *= 100\n",
    "fig, ax = plt.subplots(figsize=(3, 3))\n",
    "sns.heatmap(\n",
    "    confusion_matrix,\n",
    "    cmap=sns.diverging_palette(245, 320, s=60, as_cmap=True),\n",
    "    ax=ax,\n",
    "    square=True,\n",
    "    fmt=\".2f\",\n",
    "    cbar_kws=dict(shrink=0.4, aspect=12),\n",
    "    annot=True,\n",
    ")\n",
    "\n",
    "fig_path = f'{temp_fig_dir}/preds.svg'\n",
    "plt.savefig(fig_path, dpi=300, bbox_inches=\"tight\")"
   ]
  },
  {
   "attachments": {},
   "cell_type": "markdown",
   "id": "7c50bc4d",
   "metadata": {},
   "source": [
    "## 5️⃣ Visualize embeddings in the joint latent space\n",
    "\n",
    "Combine embeddings"
   ]
  },
  {
   "cell_type": "code",
   "execution_count": 132,
   "id": "cd265e11",
   "metadata": {},
   "outputs": [
    {
     "data": {
      "text/plain": [
       "AnnData object with n_obs × n_vars = 1786 × 30\n",
       "    obs: 'celltype_pred', 'celltype_uncertainty', 'dataset'"
      ]
     },
     "execution_count": 132,
     "metadata": {},
     "output_type": "execute_result"
    }
   ],
   "source": [
    "query_emb.obs[\"dataset\"] = \"test_dataset_delorey_regev\"\n",
    "query_emb"
   ]
  },
  {
   "cell_type": "code",
   "execution_count": 133,
   "id": "c4043aca",
   "metadata": {},
   "outputs": [
    {
     "data": {
      "text/plain": [
       "AnnData object with n_obs × n_vars = 584884 × 30\n",
       "    obs: 'dataset'"
      ]
     },
     "execution_count": 133,
     "metadata": {},
     "output_type": "execute_result"
    }
   ],
   "source": [
    "reference_emb = sc.AnnData(model.adata.obsm[\"X_latent_qzm\"])\n",
    "reference_emb.obs_names = model.adata.obs_names\n",
    "reference_emb.obs[\"dataset\"] = model.adata.obs.dataset\n",
    "reference_emb"
   ]
  },
  {
   "cell_type": "code",
   "execution_count": 134,
   "id": "2651dfb3",
   "metadata": {},
   "outputs": [
    {
     "name": "stderr",
     "output_type": "stream",
     "text": [
      "/opt/homebrew/Caskroom/miniconda/base/envs/scvi-hub-clone/lib/python3.9/site-packages/anndata/_core/anndata.py:1785: FutureWarning:\n",
      "\n",
      "X.dtype being converted to np.float32 from float64. In the next version of anndata (0.9) conversion will not be automatic. Pass dtype explicitly to avoid this warning. Pass `AnnData(X, dtype=X.dtype, ...)` to get the future behavour.\n",
      "\n"
     ]
    }
   ],
   "source": [
    "combined_emb = reference_emb.concatenate(query_emb)"
   ]
  },
  {
   "cell_type": "code",
   "execution_count": 135,
   "id": "efc63ac9",
   "metadata": {},
   "outputs": [
    {
     "data": {
      "text/plain": [
       "0    584884\n",
       "1      1786\n",
       "Name: batch, dtype: int64"
      ]
     },
     "execution_count": 135,
     "metadata": {},
     "output_type": "execute_result"
    }
   ],
   "source": [
    "combined_emb.obs[\"batch\"].value_counts()"
   ]
  },
  {
   "cell_type": "code",
   "execution_count": 136,
   "id": "6050dd0c",
   "metadata": {},
   "outputs": [
    {
     "data": {
      "text/plain": [
       "AnnData object with n_obs × n_vars = 586670 × 30\n",
       "    obs: 'dataset', 'celltype_pred', 'celltype_uncertainty', 'batch'"
      ]
     },
     "execution_count": 136,
     "metadata": {},
     "output_type": "execute_result"
    }
   ],
   "source": [
    "combined_emb"
   ]
  },
  {
   "attachments": {},
   "cell_type": "markdown",
   "id": "3ea4c660",
   "metadata": {},
   "source": [
    "Visualize embeddings.\n",
    "\n",
    "I do this on a device with more ram, but you can run it locally if you have enough ram."
   ]
  },
  {
   "cell_type": "code",
   "execution_count": null,
   "id": "6592d444",
   "metadata": {},
   "outputs": [],
   "source": [
    "# sc.pp.neighbors(combined_emb, use_rep=\"X\")\n",
    "# sc.tl.umap(combined_emb, min_dist=0.3)"
   ]
  },
  {
   "cell_type": "code",
   "execution_count": 138,
   "id": "a4cc4eea",
   "metadata": {},
   "outputs": [],
   "source": [
    "# combined_emb.write_h5ad(f\"{local_dir}/combined_emb.h5ad\")\n",
    "\n",
    "# import scanpy as sc\n",
    "# import anndata\n",
    "# combined_emb = anndata.read_h5ad(\"combined_emb.h5ad\")\n",
    "# sc.pp.neighbors(combined_emb, use_rep=\"X\")\n",
    "# sc.tl.umap(combined_emb, min_dist=0.3)\n",
    "# combined_emb.write_h5ad(\"combined_emb_umap.h5ad\")\n",
    "\n",
    "# combined_emb_umap = anndata.read_h5ad(f\"{local_dir}/combined_emb_umap.h5ad\")"
   ]
  },
  {
   "cell_type": "code",
   "execution_count": 139,
   "id": "701c8ee1",
   "metadata": {},
   "outputs": [
    {
     "name": "stderr",
     "output_type": "stream",
     "text": [
      "/opt/homebrew/Caskroom/miniconda/base/envs/scvi-hub-clone/lib/python3.9/site-packages/scanpy/plotting/_tools/scatterplots.py:392: UserWarning:\n",
      "\n",
      "No data for colormapping provided via 'c'. Parameters 'cmap' will be ignored\n",
      "\n",
      "/opt/homebrew/Caskroom/miniconda/base/envs/scvi-hub-clone/lib/python3.9/site-packages/scanpy/plotting/_tools/scatterplots.py:392: UserWarning:\n",
      "\n",
      "No data for colormapping provided via 'c'. Parameters 'cmap' will be ignored\n",
      "\n"
     ]
    },
    {
     "data": {
      "image/png": "[encoded data removed]",
      "text/plain": [
       "<Figure size 483x800 with 2 Axes>"
      ]
     },
     "metadata": {},
     "output_type": "display_data"
    }
   ],
   "source": [
    "sc.pl.umap(\n",
    "    combined_emb_umap,\n",
    "    color=[\"dataset\", \"batch\"],\n",
    "    ncols=1,\n",
    "    frameon=False,\n",
    ")"
   ]
  },
  {
   "attachments": {},
   "cell_type": "markdown",
   "id": "7ad1243e",
   "metadata": {},
   "source": [
    "Let's plot only batch. It is 1:1 equivalent with the dataset anyway as can be seen below."
   ]
  },
  {
   "cell_type": "code",
   "execution_count": 140,
   "id": "c1411905",
   "metadata": {},
   "outputs": [],
   "source": [
    "idx1 = combined_emb_umap.obs[\"batch\"] == \"1\"\n",
    "idx2 = combined_emb_umap.obs[\"dataset\"] == \"test_dataset_delorey_regev\"\n",
    "assert idx1.equals(idx2)"
   ]
  },
  {
   "cell_type": "code",
   "execution_count": 141,
   "id": "6ef0e0c3",
   "metadata": {},
   "outputs": [],
   "source": [
    "sc.set_figure_params(vector_friendly=True, dpi_save=300)"
   ]
  },
  {
   "cell_type": "code",
   "execution_count": 191,
   "id": "f68d994b",
   "metadata": {},
   "outputs": [],
   "source": [
    "df = combined_emb_umap.obs\n",
    "default_size = 120000 / len(df) # default scanpy\n",
    "df[\"umap_size\"] = default_size * 10\n",
    "df.loc[df[\"batch\"] == \"1\", \"umap_size\"] = default_size * 10 # if you want to make the query dataset points bigger\n",
    "combined_emb_umap.obs = df"
   ]
  },
  {
   "cell_type": "code",
   "execution_count": 143,
   "id": "f3526834",
   "metadata": {},
   "outputs": [
    {
     "name": "stdout",
     "output_type": "stream",
     "text": [
      "WARNING: saving figure to file figures/umapcombined_umap_batch.svg\n"
     ]
    },
    {
     "name": "stderr",
     "output_type": "stream",
     "text": [
      "/opt/homebrew/Caskroom/miniconda/base/envs/scvi-hub-clone/lib/python3.9/site-packages/scanpy/plotting/_tools/scatterplots.py:392: UserWarning:\n",
      "\n",
      "No data for colormapping provided via 'c'. Parameters 'cmap' will be ignored\n",
      "\n"
     ]
    },
    {
     "data": {
      "image/png": "[encoded data removed]",
      "text/plain": [
       "<Figure size 320x320 with 1 Axes>"
      ]
     },
     "metadata": {
      "image/png": {
       "height": 303,
       "width": 329
      }
     },
     "output_type": "display_data"
    }
   ],
   "source": [
    "# custom_pal = {\"0\": \"#EAE0DA\", \"1\": \"#A0C3D2\"}\n",
    "custom_pal = {\"0\": \"#EAE0DA\", \"1\": \"#A7727D\"}\n",
    "sc.pl.umap(\n",
    "    combined_emb_umap,\n",
    "    color=[\"batch\"],\n",
    "    ncols=1,\n",
    "    frameon=True,\n",
    "    save=\"combined_umap_batch.svg\",\n",
    "    palette=custom_pal,\n",
    "    size=combined_emb_umap.obs[\"umap_size\"],\n",
    "    title=\"dataset\"\n",
    ")"
   ]
  },
  {
   "cell_type": "code",
   "execution_count": 185,
   "id": "c8b687e1",
   "metadata": {},
   "outputs": [],
   "source": [
    "# custom_pal = {}\n",
    "# for i in combined_emb_umap.obs.dataset.cat.categories:\n",
    "#     custom_pal[i] = \"#A7727D\" if i == \"test_dataset_delorey_regev\" else \"#EAE0DA\"\n",
    "\n",
    "# sc.pl.umap(\n",
    "#     combined_emb_umap,\n",
    "#     color=[\"dataset\"],\n",
    "#     ncols=1,\n",
    "#     frameon=False,\n",
    "#     groups=[\"test_dataset_delorey_regev\"],\n",
    "#     save=\"combined_umap_dataset.svg\",\n",
    "#     palette=custom_pal,\n",
    "#     size=combined_emb_umap.obs[\"umap_size\"],\n",
    "# )"
   ]
  },
  {
   "attachments": {},
   "cell_type": "markdown",
   "id": "f6fc2c3c",
   "metadata": {},
   "source": [
    "## 4️⃣ Predict v2\n",
    "\n",
    "Let's predict using a different cell type than we did earlier, as that is too coarse grained (compartment-level resolution)."
   ]
  },
  {
   "cell_type": "code",
   "execution_count": 25,
   "id": "86ece6f0",
   "metadata": {},
   "outputs": [],
   "source": [
    "ref_neighbors, ref_distances = ref_nn_index.query(query_emb.X)"
   ]
  },
  {
   "cell_type": "code",
   "execution_count": 26,
   "id": "a44c67be",
   "metadata": {},
   "outputs": [],
   "source": [
    "def distances_to_affinities(distances):\n",
    "    # convert distances to affinities\n",
    "    stds = np.std(distances, axis=1)\n",
    "    stds = (2.0 / stds) ** 2\n",
    "    stds = stds.reshape(-1, 1)\n",
    "    distances_tilda = np.exp(-np.true_divide(distances, stds))\n",
    "    weights = distances_tilda / np.sum(\n",
    "        distances_tilda, axis=1, keepdims=True\n",
    "    )\n",
    "    return weights\n",
    "\n",
    "# import numba\n",
    "# @numba.njit\n",
    "def weighted_prediction(weights, ref_cats):\n",
    "    \"\"\"Get highest weight category.\"\"\"\n",
    "    N = len(weights)\n",
    "    predictions = np.zeros((N,), dtype=ref_cats.dtype)\n",
    "    uncertainty = np.zeros((N,))\n",
    "    for i in range(N):\n",
    "        obs_weights = weights[i]\n",
    "        obs_cats = ref_cats[i]\n",
    "        best_prob = 0\n",
    "        for c in np.unique(obs_cats):\n",
    "            cand_prob = np.sum(obs_weights[obs_cats == c])\n",
    "            if cand_prob > best_prob:\n",
    "                best_prob = cand_prob\n",
    "                predictions[i] = c\n",
    "                uncertainty[i] = max(1 - best_prob, 0)\n",
    "\n",
    "    return predictions, uncertainty\n",
    "\n",
    "weights = distances_to_affinities(ref_distances)"
   ]
  },
  {
   "cell_type": "markdown",
   "id": "7a0e2370",
   "metadata": {},
   "source": [
    "### 4️⃣.1️⃣ Figuring out what attribute to predict\n",
    "\n",
    "Let's see what we can predict that we could then compare to the ground truth in the query data."
   ]
  },
  {
   "cell_type": "code",
   "execution_count": 197,
   "id": "e033dcc8",
   "metadata": {},
   "outputs": [
    {
     "data": {
      "text/plain": [
       "Index(['donor', 'n_genes', 'n_counts', 'percent_mito', 'method', 'doublet',\n",
       "       'predicted_celltype', 'compartment', 'manual_annotation_cluster',\n",
       "       'manual_annotation_SubCluster', 'Viral+'],\n",
       "      dtype='object')"
      ]
     },
     "execution_count": 197,
     "metadata": {},
     "output_type": "execute_result"
    }
   ],
   "source": [
    "metadata.columns"
   ]
  },
  {
   "cell_type": "code",
   "execution_count": 200,
   "id": "3a1ba5c9",
   "metadata": {},
   "outputs": [
    {
     "data": {
      "text/plain": [
       "myofibroblast            1031\n",
       "vascular endothelial      415\n",
       "lymphatic endothelial      97\n",
       "AT1                        62\n",
       "CD8+ T cell                57\n",
       "pericyte                   28\n",
       "club                       12\n",
       "smc                        12\n",
       "macrophage                 10\n",
       "nkt                         8\n",
       "fibroblast                  8\n",
       "CD4+ T cell                 7\n",
       "neutrophil                  7\n",
       "plasma cell                 7\n",
       "mast                        6\n",
       "NK cell                     4\n",
       "Treg                        3\n",
       "B cell                      2\n",
       "cDC                         2\n",
       "AT2                         2\n",
       "Name: predicted_celltype, dtype: int64"
      ]
     },
     "execution_count": 200,
     "metadata": {},
     "output_type": "execute_result"
    }
   ],
   "source": [
    "metadata[\"predicted_celltype\"].value_counts()"
   ]
  },
  {
   "cell_type": "code",
   "execution_count": 213,
   "id": "304e98d2",
   "metadata": {},
   "outputs": [
    {
     "data": {
      "text/html": [
       "<div>\n",
       "<style scoped>\n",
       "    .dataframe tbody tr th:only-of-type {\n",
       "        vertical-align: middle;\n",
       "    }\n",
       "\n",
       "    .dataframe tbody tr th {\n",
       "        vertical-align: top;\n",
       "    }\n",
       "\n",
       "    .dataframe thead th {\n",
       "        text-align: right;\n",
       "    }\n",
       "</style>\n",
       "<table border=\"1\" class=\"dataframe\">\n",
       "  <thead>\n",
       "    <tr style=\"text-align: right;\">\n",
       "      <th></th>\n",
       "      <th>ann_level_1</th>\n",
       "      <th>ann_level_2</th>\n",
       "      <th>ann_level_3</th>\n",
       "      <th>ann_level_4</th>\n",
       "      <th>ann_level_5</th>\n",
       "    </tr>\n",
       "  </thead>\n",
       "  <tbody>\n",
       "    <tr>\n",
       "      <th>GCGACCATCCCTAACC_SC22</th>\n",
       "      <td>Immune</td>\n",
       "      <td>Myeloid</td>\n",
       "      <td>Macrophages</td>\n",
       "      <td>Alveolar macrophages</td>\n",
       "      <td>None</td>\n",
       "    </tr>\n",
       "    <tr>\n",
       "      <th>P2_1_GCGCAACCAGTTAACC</th>\n",
       "      <td>Immune</td>\n",
       "      <td>Lymphoid</td>\n",
       "      <td>Innate lymphoid cell NK</td>\n",
       "      <td>NK cells</td>\n",
       "      <td>None</td>\n",
       "    </tr>\n",
       "    <tr>\n",
       "      <th>GCTCTGTAGTGCTGCC_SC27</th>\n",
       "      <td>Epithelial</td>\n",
       "      <td>Alveolar epithelium</td>\n",
       "      <td>AT2</td>\n",
       "      <td>None</td>\n",
       "      <td>None</td>\n",
       "    </tr>\n",
       "    <tr>\n",
       "      <th>P2_8_TTAGGACGTTCAGGCC</th>\n",
       "      <td>Immune</td>\n",
       "      <td>Myeloid</td>\n",
       "      <td>Macrophages</td>\n",
       "      <td>Alveolar macrophages</td>\n",
       "      <td>Alveolar Mφ CCL3+</td>\n",
       "    </tr>\n",
       "    <tr>\n",
       "      <th>CTTGATTGTCAGTTTG_T164</th>\n",
       "      <td>Epithelial</td>\n",
       "      <td>Airway epithelium</td>\n",
       "      <td>Basal</td>\n",
       "      <td>Suprabasal</td>\n",
       "      <td>None</td>\n",
       "    </tr>\n",
       "    <tr>\n",
       "      <th>...</th>\n",
       "      <td>...</td>\n",
       "      <td>...</td>\n",
       "      <td>...</td>\n",
       "      <td>...</td>\n",
       "      <td>...</td>\n",
       "    </tr>\n",
       "    <tr>\n",
       "      <th>ACCTTTACATTAACCG_T120</th>\n",
       "      <td>Epithelial</td>\n",
       "      <td>Airway epithelium</td>\n",
       "      <td>Basal</td>\n",
       "      <td>Suprabasal</td>\n",
       "      <td>None</td>\n",
       "    </tr>\n",
       "    <tr>\n",
       "      <th>CATTATCTCCATGAAC_F01639</th>\n",
       "      <td>Immune</td>\n",
       "      <td>Myeloid</td>\n",
       "      <td>Dendritic cells</td>\n",
       "      <td>DC2</td>\n",
       "      <td>None</td>\n",
       "    </tr>\n",
       "    <tr>\n",
       "      <th>AGGCCGTGTGTGACCC-SC56</th>\n",
       "      <td>Epithelial</td>\n",
       "      <td>Alveolar epithelium</td>\n",
       "      <td>AT2</td>\n",
       "      <td>None</td>\n",
       "      <td>None</td>\n",
       "    </tr>\n",
       "    <tr>\n",
       "      <th>CGATGGCAGCAGGCTA-1-2</th>\n",
       "      <td>Epithelial</td>\n",
       "      <td>Airway epithelium</td>\n",
       "      <td>Secretory</td>\n",
       "      <td>Club</td>\n",
       "      <td>Club (nasal)</td>\n",
       "    </tr>\n",
       "    <tr>\n",
       "      <th>AATCGGTGTCGGCACT-1-4</th>\n",
       "      <td>Epithelial</td>\n",
       "      <td>Airway epithelium</td>\n",
       "      <td>Secretory</td>\n",
       "      <td>Club</td>\n",
       "      <td>Club (nasal)</td>\n",
       "    </tr>\n",
       "  </tbody>\n",
       "</table>\n",
       "<p>584884 rows × 5 columns</p>\n",
       "</div>"
      ],
      "text/plain": [
       "                        ann_level_1          ann_level_2  \\\n",
       "GCGACCATCCCTAACC_SC22        Immune              Myeloid   \n",
       "P2_1_GCGCAACCAGTTAACC        Immune             Lymphoid   \n",
       "GCTCTGTAGTGCTGCC_SC27    Epithelial  Alveolar epithelium   \n",
       "P2_8_TTAGGACGTTCAGGCC        Immune              Myeloid   \n",
       "CTTGATTGTCAGTTTG_T164    Epithelial    Airway epithelium   \n",
       "...                             ...                  ...   \n",
       "ACCTTTACATTAACCG_T120    Epithelial    Airway epithelium   \n",
       "CATTATCTCCATGAAC_F01639      Immune              Myeloid   \n",
       "AGGCCGTGTGTGACCC-SC56    Epithelial  Alveolar epithelium   \n",
       "CGATGGCAGCAGGCTA-1-2     Epithelial    Airway epithelium   \n",
       "AATCGGTGTCGGCACT-1-4     Epithelial    Airway epithelium   \n",
       "\n",
       "                                     ann_level_3           ann_level_4  \\\n",
       "GCGACCATCCCTAACC_SC22                Macrophages  Alveolar macrophages   \n",
       "P2_1_GCGCAACCAGTTAACC    Innate lymphoid cell NK              NK cells   \n",
       "GCTCTGTAGTGCTGCC_SC27                        AT2                  None   \n",
       "P2_8_TTAGGACGTTCAGGCC                Macrophages  Alveolar macrophages   \n",
       "CTTGATTGTCAGTTTG_T164                      Basal            Suprabasal   \n",
       "...                                          ...                   ...   \n",
       "ACCTTTACATTAACCG_T120                      Basal            Suprabasal   \n",
       "CATTATCTCCATGAAC_F01639          Dendritic cells                   DC2   \n",
       "AGGCCGTGTGTGACCC-SC56                        AT2                  None   \n",
       "CGATGGCAGCAGGCTA-1-2                   Secretory                  Club   \n",
       "AATCGGTGTCGGCACT-1-4                   Secretory                  Club   \n",
       "\n",
       "                               ann_level_5  \n",
       "GCGACCATCCCTAACC_SC22                 None  \n",
       "P2_1_GCGCAACCAGTTAACC                 None  \n",
       "GCTCTGTAGTGCTGCC_SC27                 None  \n",
       "P2_8_TTAGGACGTTCAGGCC    Alveolar Mφ CCL3+  \n",
       "CTTGATTGTCAGTTTG_T164                 None  \n",
       "...                                    ...  \n",
       "ACCTTTACATTAACCG_T120                 None  \n",
       "CATTATCTCCATGAAC_F01639               None  \n",
       "AGGCCGTGTGTGACCC-SC56                 None  \n",
       "CGATGGCAGCAGGCTA-1-2          Club (nasal)  \n",
       "AATCGGTGTCGGCACT-1-4          Club (nasal)  \n",
       "\n",
       "[584884 rows x 5 columns]"
      ]
     },
     "execution_count": 213,
     "metadata": {},
     "output_type": "execute_result"
    }
   ],
   "source": [
    "# \"Final annotations by the HLCA expert team, broken down into levels (1 coarsest, 5 finest). Where annotations do not go up to level 5, levels without annotations are set to None.\"\n",
    "# source: https://github.com/LungCellAtlas/HLCA/blob/main/docs/HLCA_metadata_explanation.csv\n",
    "model.adata.obs[[\n",
    "    \"ann_level_1\",\n",
    "    \"ann_level_2\",\n",
    "    \"ann_level_3\",\n",
    "    \"ann_level_4\",\n",
    "    \"ann_level_5\",\n",
    "]]"
   ]
  },
  {
   "cell_type": "code",
   "execution_count": 225,
   "id": "93013de6",
   "metadata": {},
   "outputs": [
    {
     "data": {
      "text/plain": [
       "Epithelial     282065\n",
       "Immune         229436\n",
       "Endothelial     48166\n",
       "Stroma          25217\n",
       "Name: ann_level_1, dtype: int64"
      ]
     },
     "execution_count": 225,
     "metadata": {},
     "output_type": "execute_result"
    }
   ],
   "source": [
    "# too coarse, compartment-level\n",
    "model.adata.obs[\"ann_level_1\"].value_counts()"
   ]
  },
  {
   "cell_type": "code",
   "execution_count": 226,
   "id": "a4272059",
   "metadata": {},
   "outputs": [
    {
     "data": {
      "text/plain": [
       "Airway epithelium      207253\n",
       "Myeloid                155315\n",
       "Lymphoid                74121\n",
       "Alveolar epithelium     70112\n",
       "Blood vessels           43571\n",
       "Fibroblast lineage      21100\n",
       "Submucosal Gland         4700\n",
       "Lymphatic EC             4595\n",
       "Smooth muscle            3887\n",
       "Mesothelium               230\n",
       "Name: ann_level_2, dtype: int64"
      ]
     },
     "execution_count": 226,
     "metadata": {},
     "output_type": "execute_result"
    }
   ],
   "source": [
    "# still too coarse compared to query dataset \n",
    "model.adata.obs[\"ann_level_2\"].value_counts()"
   ]
  },
  {
   "cell_type": "code",
   "execution_count": 227,
   "id": "ddf8ceb2",
   "metadata": {},
   "outputs": [
    {
     "data": {
      "text/plain": [
       "Macrophages                     111844\n",
       "Basal                            84713\n",
       "Secretory                        80557\n",
       "AT2                              62175\n",
       "T cell lineage                   50859\n",
       "Multiciliated lineage            41098\n",
       "Monocytes                        26529\n",
       "EC capillary                     23205\n",
       "Fibroblasts                      20384\n",
       "Innate lymphoid cell NK          16978\n",
       "EC venous                        12975\n",
       "Dendritic cells                  10319\n",
       "AT1                               7937\n",
       "EC arterial                       7391\n",
       "Mast cells                        6623\n",
       "B cell lineage                    6284\n",
       "Submucosal Secretory              4700\n",
       "Lymphatic EC mature               4001\n",
       "None                              3226\n",
       "Rare                               885\n",
       "Myofibroblasts                     716\n",
       "Lymphatic EC differentiating       566\n",
       "SM activated stress response       556\n",
       "Fibromyocytes                      335\n",
       "Lymphatic EC proliferating          28\n",
       "Name: ann_level_3, dtype: int64"
      ]
     },
     "execution_count": 227,
     "metadata": {},
     "output_type": "execute_result"
    }
   ],
   "source": [
    "model.adata.obs[\"ann_level_3\"].value_counts()"
   ]
  },
  {
   "cell_type": "code",
   "execution_count": 228,
   "id": "6754eed5",
   "metadata": {},
   "outputs": [
    {
     "data": {
      "text/plain": [
       "None                         92578\n",
       "Alveolar macrophages         78816\n",
       "Suprabasal                   45758\n",
       "Multiciliated                40094\n",
       "Basal resting                38955\n",
       "Goblet                       38471\n",
       "Club                         38111\n",
       "Interstitial macrophages     33028\n",
       "CD8 T cells                  29074\n",
       "CD4 T cells                  21285\n",
       "Classical monocytes          17695\n",
       "NK cells                     16978\n",
       "EC general capillary         16048\n",
       "Adventitial fibroblasts      10321\n",
       "DC2                           9133\n",
       "Non-classical monocytes       8834\n",
       "EC aerocyte capillary         7157\n",
       "EC venous systemic            6557\n",
       "EC venous pulmonary           6418\n",
       "Alveolar fibroblasts          5182\n",
       "B cells                       4511\n",
       "Transitional Club-AT2         3975\n",
       "Pericytes                     3032\n",
       "SMG serous                    2889\n",
       "Plasma cells                  1773\n",
       "Peribronchial fibroblasts     1573\n",
       "SMG duct                      1274\n",
       "Deuterosomal                  1004\n",
       "AT2 proliferating              976\n",
       "Ionocyte                       561\n",
       "Plasmacytoid DCs               552\n",
       "SMG mucous                     537\n",
       "T cells proliferating          500\n",
       "DC1                            322\n",
       "Migratory DCs                  312\n",
       "Subpleural fibroblasts         276\n",
       "Tuft                           165\n",
       "Neuroendocrine                 159\n",
       "Name: ann_level_4, dtype: int64"
      ]
     },
     "execution_count": 228,
     "metadata": {},
     "output_type": "execute_result"
    }
   ],
   "source": [
    "model.adata.obs[\"ann_level_4\"].value_counts()"
   ]
  },
  {
   "cell_type": "code",
   "execution_count": 229,
   "id": "43113ca7",
   "metadata": {},
   "outputs": [
    {
     "data": {
      "text/plain": [
       "None                            421962\n",
       "Goblet (nasal)                   35833\n",
       "Multiciliated (non-nasal)        35225\n",
       "Monocyte-derived Mφ              28223\n",
       "Club (nasal)                     26068\n",
       "Club (non-nasal)                 12043\n",
       "Alveolar Mφ CCL3+                 8065\n",
       "Multiciliated (nasal)             4869\n",
       "Interstitial Mφ perivascular      4805\n",
       "Goblet (bronchial)                1670\n",
       "SMG serous (nasal)                1472\n",
       "SMG serous (bronchial)            1417\n",
       "Alveolar Mφ MT-positive           1203\n",
       "Alveolar Mφ proliferating         1061\n",
       "Goblet (subsegmental)              968\n",
       "Name: ann_level_5, dtype: int64"
      ]
     },
     "execution_count": 229,
     "metadata": {},
     "output_type": "execute_result"
    }
   ],
   "source": [
    "# too fine\n",
    "model.adata.obs[\"ann_level_5\"].value_counts()"
   ]
  },
  {
   "attachments": {},
   "cell_type": "markdown",
   "id": "c05653a5",
   "metadata": {},
   "source": [
    "Looks like ann_level_3 or ann_level_4 are the best candidates. Though ann_level_4 has too many None's. Let's use ann_level_3."
   ]
  },
  {
   "attachments": {},
   "cell_type": "markdown",
   "id": "022473d5",
   "metadata": {},
   "source": [
    "### 4️⃣.2️⃣ Predict cell compartments"
   ]
  },
  {
   "cell_type": "code",
   "execution_count": 72,
   "id": "33013525",
   "metadata": {},
   "outputs": [],
   "source": [
    "label_key = \"ann_level_3\"\n",
    "ref_cats = model.adata.obs[label_key].cat.codes.to_numpy()[ref_neighbors]\n",
    "p, u = weighted_prediction(weights, ref_cats)\n",
    "p = np.asarray(model.adata.obs[label_key].cat.categories)[p]\n",
    "query_emb.obs[\"celltype_pred\"], query_emb.obs[\"celltype_uncertainty\"] = p, u"
   ]
  },
  {
   "cell_type": "markdown",
   "id": "7bfb5d8e",
   "metadata": {},
   "source": [
    "### 4️⃣.3️⃣ Evaluate predictions\n",
    "\n",
    "Finally, let's evaluate predictions."
   ]
  },
  {
   "cell_type": "code",
   "execution_count": 73,
   "id": "ff8a0872",
   "metadata": {},
   "outputs": [
    {
     "data": {
      "text/html": [
       "<div>\n",
       "<style scoped>\n",
       "    .dataframe tbody tr th:only-of-type {\n",
       "        vertical-align: middle;\n",
       "    }\n",
       "\n",
       "    .dataframe tbody tr th {\n",
       "        vertical-align: top;\n",
       "    }\n",
       "\n",
       "    .dataframe thead th {\n",
       "        text-align: right;\n",
       "    }\n",
       "</style>\n",
       "<table border=\"1\" class=\"dataframe\">\n",
       "  <thead>\n",
       "    <tr style=\"text-align: right;\">\n",
       "      <th></th>\n",
       "      <th>celltype_pred</th>\n",
       "      <th>celltype_uncertainty</th>\n",
       "    </tr>\n",
       "  </thead>\n",
       "  <tbody>\n",
       "    <tr>\n",
       "      <th>AAGCGTTTCAGTGCGC</th>\n",
       "      <td>Lymphatic EC mature</td>\n",
       "      <td>3.999917e-01</td>\n",
       "    </tr>\n",
       "    <tr>\n",
       "      <th>AGCCACGAGGAGTCTG</th>\n",
       "      <td>Lymphatic EC mature</td>\n",
       "      <td>4.000359e-01</td>\n",
       "    </tr>\n",
       "    <tr>\n",
       "      <th>ATCATTCGTATTTCGG</th>\n",
       "      <td>Lymphatic EC differentiating</td>\n",
       "      <td>2.000806e-01</td>\n",
       "    </tr>\n",
       "    <tr>\n",
       "      <th>TGGCGTGCATGTAACC</th>\n",
       "      <td>Lymphatic EC mature</td>\n",
       "      <td>9.999591e-02</td>\n",
       "    </tr>\n",
       "    <tr>\n",
       "      <th>CTACAGACACTGTGAT</th>\n",
       "      <td>EC venous</td>\n",
       "      <td>0.000000e+00</td>\n",
       "    </tr>\n",
       "    <tr>\n",
       "      <th>...</th>\n",
       "      <td>...</td>\n",
       "      <td>...</td>\n",
       "    </tr>\n",
       "    <tr>\n",
       "      <th>TGATGCACATGGGCAA</th>\n",
       "      <td>AT1</td>\n",
       "      <td>5.960464e-08</td>\n",
       "    </tr>\n",
       "    <tr>\n",
       "      <th>AATGACCAGCCGATTT</th>\n",
       "      <td>T cell lineage</td>\n",
       "      <td>0.000000e+00</td>\n",
       "    </tr>\n",
       "    <tr>\n",
       "      <th>CTCCATGCACTCTAGA</th>\n",
       "      <td>Fibroblasts</td>\n",
       "      <td>0.000000e+00</td>\n",
       "    </tr>\n",
       "    <tr>\n",
       "      <th>ATGGGTTAGAGGCGTT</th>\n",
       "      <td>AT1</td>\n",
       "      <td>9.999889e-02</td>\n",
       "    </tr>\n",
       "    <tr>\n",
       "      <th>CGTGTCTCACGCTGTG</th>\n",
       "      <td>EC venous</td>\n",
       "      <td>5.999829e-01</td>\n",
       "    </tr>\n",
       "  </tbody>\n",
       "</table>\n",
       "<p>1786 rows × 2 columns</p>\n",
       "</div>"
      ],
      "text/plain": [
       "                                 celltype_pred  celltype_uncertainty\n",
       "AAGCGTTTCAGTGCGC           Lymphatic EC mature          3.999917e-01\n",
       "AGCCACGAGGAGTCTG           Lymphatic EC mature          4.000359e-01\n",
       "ATCATTCGTATTTCGG  Lymphatic EC differentiating          2.000806e-01\n",
       "TGGCGTGCATGTAACC           Lymphatic EC mature          9.999591e-02\n",
       "CTACAGACACTGTGAT                     EC venous          0.000000e+00\n",
       "...                                        ...                   ...\n",
       "TGATGCACATGGGCAA                           AT1          5.960464e-08\n",
       "AATGACCAGCCGATTT                T cell lineage          0.000000e+00\n",
       "CTCCATGCACTCTAGA                   Fibroblasts          0.000000e+00\n",
       "ATGGGTTAGAGGCGTT                           AT1          9.999889e-02\n",
       "CGTGTCTCACGCTGTG                     EC venous          5.999829e-01\n",
       "\n",
       "[1786 rows x 2 columns]"
      ]
     },
     "execution_count": 73,
     "metadata": {},
     "output_type": "execute_result"
    }
   ],
   "source": [
    "query_emb.obs[[\"celltype_pred\", \"celltype_uncertainty\"]]"
   ]
  },
  {
   "cell_type": "code",
   "execution_count": 74,
   "id": "3b28a993",
   "metadata": {},
   "outputs": [
    {
     "name": "stdout",
     "output_type": "stream",
     "text": [
      "0.035833379172397754 5.960464477539063e-08\n"
     ]
    },
    {
     "data": {
      "text/plain": [
       "<AxesSubplot: ylabel='Density'>"
      ]
     },
     "execution_count": 74,
     "metadata": {},
     "output_type": "execute_result"
    },
    {
     "data": {
      "image/png": "[encoded data removed]",
      "text/plain": [
       "<Figure size 400x400 with 1 Axes>"
      ]
     },
     "metadata": {},
     "output_type": "display_data"
    }
   ],
   "source": [
    "print(query_emb.obs[\"celltype_uncertainty\"].mean(), np.quantile(query_emb.obs[\"celltype_uncertainty\"], 0.75))\n",
    "query_emb.obs[\"celltype_uncertainty\"].plot(kind='density', ind=np.linspace(-0.2, 1))"
   ]
  },
  {
   "attachments": {},
   "cell_type": "markdown",
   "id": "4789deab",
   "metadata": {},
   "source": [
    "Let's plot a sankey plot."
   ]
  },
  {
   "cell_type": "code",
   "execution_count": 75,
   "id": "654a5e5f",
   "metadata": {},
   "outputs": [],
   "source": [
    "def get_comparison_df(uncertainty_threshold = None):\n",
    "    # build comparison_df\n",
    "    assert metadata[\"predicted_celltype\"].index.equals(query_emb.obs.index)\n",
    "    comparison_df = pd.DataFrame(index=metadata[\"predicted_celltype\"].index, columns=[\"pred\", \"ground_truth\", \"pred_uncertainty\"])\n",
    "    comparison_df[\"pred\"] = query_emb.obs[\"celltype_pred\"]\n",
    "    comparison_df[\"pred_uncertainty\"] = query_emb.obs[\"celltype_uncertainty\"]\n",
    "    comparison_df[\"ground_truth\"] = metadata[\"predicted_celltype\"].fillna(\"Unknown\")\n",
    "\n",
    "    # we dont care about cases where we dont know the ground truth (in fact we could have skipped prediction for these altogether)\n",
    "    n_before = len(comparison_df)\n",
    "    comparison_df = comparison_df[comparison_df[\"ground_truth\"] != \"Unknown\"]\n",
    "    n_filtered = n_before-len(comparison_df)\n",
    "    pct_filtered = 100*n_filtered/n_before\n",
    "    print(f\"filtered out {n_filtered} barcodes ({pct_filtered:.2f}%) with unknown ground truth\")\n",
    "\n",
    "    if uncertainty_threshold is not None:\n",
    "        # filter out uncertainty > threshold\n",
    "        n_before = len(comparison_df)\n",
    "        comparison_df = comparison_df[comparison_df[\"pred_uncertainty\"] <= uncertainty_threshold]\n",
    "        n_filtered = n_before-len(comparison_df)\n",
    "        pct_filtered = 100*n_filtered/n_before\n",
    "        print(f\"filtered out {n_filtered} barcodes ({pct_filtered:.2f}%) with pred uncertainty > {uncertainty_threshold}\")\n",
    "\n",
    "    return comparison_df"
   ]
  },
  {
   "cell_type": "code",
   "execution_count": 107,
   "id": "285e4b99",
   "metadata": {},
   "outputs": [],
   "source": [
    "def plot_sankey(comparison_df):\n",
    "    # copied, inspired, and adapted from https://stackoverflow.com/a/55468928\n",
    "    # define nodes\n",
    "    nodes = [['ID', 'Label', 'Color']]\n",
    "    name_to_int_pred = {}\n",
    "    name_to_int_gt = {}\n",
    "    name_to_color_pred = {}\n",
    "    orig_palette = [\"f94144\",\"f3722c\",\"f8961e\",\"f9c74f\",\"90be6d\",\"43aa8b\",\"577590\"] + [\"4e598c\",\"005f73\",\"0a9396\",\"94d2bd\",\"e9d8a6\",\"ee9b00\",\"ca6702\",\"bb3e03\",\"ae2012\",\"9b2226\"] + [\"33658a\",\"86bbd8\",\"758e4f\",\"f6ae2d\",\"f26419\"]\n",
    "    palette = [f\"#{i}\" for i in orig_palette]\n",
    "    i = 0\n",
    "    for _, c in enumerate(comparison_df[\"pred\"].astype(\"category\").cat.categories):\n",
    "        color = palette[i] # don't cycle in the palette to avoid reusing colors\n",
    "        nodes.append([i, c, color])\n",
    "        name_to_int_pred[c] = i\n",
    "        name_to_color_pred[c] = color\n",
    "        i += 1\n",
    "\n",
    "    for _, c in enumerate(comparison_df[\"ground_truth\"].astype(\"category\").cat.categories):\n",
    "        nodes.append([i, c, \"#212529\"])\n",
    "        name_to_int_gt[c] = i\n",
    "        i += 1\n",
    "\n",
    "    # define links\n",
    "    links = [['Source','Target','Value','Link Color']]\n",
    "    for e in comparison_df[[\"pred\", \"ground_truth\"]].value_counts().items():\n",
    "        # e.g. (('EC venous pulmonary', 'vascular endothelial'), 117)\n",
    "        source = name_to_int_pred[e[0][0]]\n",
    "        target = name_to_int_gt[e[0][1]]\n",
    "        value = e[1]\n",
    "        # color = \"rgba(211, 211, 211, 0.5)\"\n",
    "        hex_c = name_to_color_pred[e[0][0]]\n",
    "        rgb_c = ImageColor.getcolor(hex_c, \"RGB\")\n",
    "        color = f\"rgba{rgb_c[0], rgb_c[1], rgb_c[2], 0.5}\"\n",
    "        links.append([source, target, value, color])\n",
    "\n",
    "    # Retrieve headers and build dataframes\n",
    "    nodes_headers = nodes.pop(0)\n",
    "    links_headers = links.pop(0)\n",
    "    df_nodes = pd.DataFrame(nodes, columns = nodes_headers)\n",
    "    df_links = pd.DataFrame(links, columns = links_headers)\n",
    "\n",
    "    # Sankey plot setup\n",
    "    data_trace = dict(\n",
    "        type='sankey',\n",
    "        domain = dict(\n",
    "        x =  [0,1],\n",
    "        y =  [0,1]\n",
    "        ),\n",
    "        orientation = \"h\",\n",
    "        valueformat = \".0f\",\n",
    "        node = dict(\n",
    "        pad = 10,\n",
    "        # thickness = 30,\n",
    "        line = dict(\n",
    "            color = \"black\",\n",
    "            width = 0\n",
    "        ),\n",
    "        label =  df_nodes['Label'],\n",
    "        color = df_nodes['Color']\n",
    "        ),\n",
    "        link = dict(\n",
    "        arrowlen=5,\n",
    "        source = df_links['Source'],\n",
    "        target = df_links['Target'],\n",
    "        value = df_links['Value'],\n",
    "        color = df_links['Link Color'],\n",
    "    )\n",
    "    )\n",
    "\n",
    "    layout = dict(\n",
    "        title = \"Sankey\",\n",
    "        height = 772,\n",
    "        width = 500,\n",
    "        font = dict(size = 10),\n",
    "        legend_xanchor = \"right\",\n",
    "    )\n",
    "\n",
    "    # from plotly.offline import init_notebook_mode, iplot\n",
    "    # init_notebook_mode(connected=True)\n",
    "    # fig = dict(data=[data_trace], layout=layout)\n",
    "    # iplot(fig, validate=False)\n",
    "\n",
    "    import plotly.graph_objects as go\n",
    "    fig = go.Figure(data=[go.Sankey(data_trace)])\n",
    "    fig.update_layout(layout)\n",
    "    fig.show()\n",
    "    fig.write_image(f\"{temp_fig_dir}/sankey.pdf\")\n",
    "\n",
    "    # figdf = plt.gcf()\n",
    "    # figdf.savefig(f\"{temp_fig_dir}/sankey.svg\", dpi=300, bbox_inches=\"tight\")"
   ]
  },
  {
   "cell_type": "code",
   "execution_count": 108,
   "id": "480ff81f",
   "metadata": {},
   "outputs": [
    {
     "name": "stdout",
     "output_type": "stream",
     "text": [
      "filtered out 6 barcodes (0.34%) with unknown ground truth\n",
      "filtered out 134 barcodes (7.53%) with pred uncertainty > 0.2\n"
     ]
    }
   ],
   "source": [
    "comparison_df = get_comparison_df(uncertainty_threshold=0.2)"
   ]
  },
  {
   "cell_type": "code",
   "execution_count": 109,
   "id": "3e549c69",
   "metadata": {},
   "outputs": [
    {
     "data": {
      "application/vnd.plotly.v1+json": {
       "config": {
        "plotlyServerURL": "https://plot.ly"
       },
       "data": [
        {
         "domain": {
          "x": [
           0,
           1
          ],
          "y": [
           0,
           1
          ]
         },
         "link": {
          "arrowlen": 5,
          "color": [
           "rgba(78, 89, 140, 0.5)",
           "rgba(67, 170, 139, 0.5)",
           "rgba(87, 117, 144, 0.5)",
           "rgba(249, 65, 68, 0.5)",
           "rgba(51, 101, 138, 0.5)",
           "rgba(10, 147, 150, 0.5)",
           "rgba(78, 89, 140, 0.5)",
           "rgba(144, 190, 109, 0.5)",
           "rgba(87, 117, 144, 0.5)",
           "rgba(148, 210, 189, 0.5)",
           "rgba(233, 216, 166, 0.5)",
           "rgba(78, 89, 140, 0.5)",
           "rgba(248, 150, 30, 0.5)",
           "rgba(51, 101, 138, 0.5)",
           "rgba(174, 32, 18, 0.5)",
           "rgba(238, 155, 0, 0.5)",
           "rgba(78, 89, 140, 0.5)",
           "rgba(233, 216, 166, 0.5)",
           "rgba(51, 101, 138, 0.5)",
           "rgba(51, 101, 138, 0.5)",
           "rgba(0, 95, 115, 0.5)",
           "rgba(243, 114, 44, 0.5)",
           "rgba(78, 89, 140, 0.5)",
           "rgba(248, 150, 30, 0.5)",
           "rgba(249, 199, 79, 0.5)",
           "rgba(233, 216, 166, 0.5)",
           "rgba(233, 216, 166, 0.5)",
           "rgba(202, 103, 2, 0.5)",
           "rgba(187, 62, 3, 0.5)",
           "rgba(174, 32, 18, 0.5)",
           "rgba(155, 34, 38, 0.5)",
           "rgba(243, 114, 44, 0.5)",
           "rgba(78, 89, 140, 0.5)",
           "rgba(233, 216, 166, 0.5)"
          ],
          "source": [
           7,
           5,
           6,
           0,
           17,
           9,
           7,
           4,
           6,
           10,
           11,
           7,
           2,
           17,
           15,
           12,
           7,
           11,
           17,
           17,
           8,
           1,
           7,
           2,
           3,
           11,
           11,
           13,
           14,
           15,
           16,
           1,
           7,
           11
          ],
          "target": [
           31,
           37,
           37,
           18,
           22,
           28,
           34,
           37,
           28,
           28,
           29,
           27,
           35,
           21,
           36,
           30,
           36,
           32,
           24,
           33,
           23,
           19,
           37,
           20,
           18,
           22,
           33,
           32,
           31,
           18,
           36,
           26,
           26,
           25
          ],
          "value": [
           1023,
           175,
           142,
           59,
           50,
           39,
           27,
           26,
           18,
           12,
           8,
           8,
           7,
           7,
           6,
           6,
           4,
           4,
           3,
           3,
           3,
           2,
           2,
           2,
           1,
           1,
           1,
           1,
           1,
           1,
           1,
           1,
           1,
           1
          ]
         },
         "node": {
          "color": [
           "#f94144",
           "#f3722c",
           "#f8961e",
           "#f9c74f",
           "#90be6d",
           "#43aa8b",
           "#577590",
           "#4e598c",
           "#005f73",
           "#0a9396",
           "#94d2bd",
           "#e9d8a6",
           "#ee9b00",
           "#ca6702",
           "#bb3e03",
           "#ae2012",
           "#9b2226",
           "#33658a",
           "#212529",
           "#212529",
           "#212529",
           "#212529",
           "#212529",
           "#212529",
           "#212529",
           "#212529",
           "#212529",
           "#212529",
           "#212529",
           "#212529",
           "#212529",
           "#212529",
           "#212529",
           "#212529",
           "#212529",
           "#212529",
           "#212529",
           "#212529"
          ],
          "label": [
           "AT1",
           "AT2",
           "B cell lineage",
           "Basal",
           "EC arterial",
           "EC capillary",
           "EC venous",
           "Fibroblasts",
           "Innate lymphoid cell NK",
           "Lymphatic EC differentiating",
           "Lymphatic EC mature",
           "Macrophages",
           "Mast cells",
           "Monocytes",
           "Myofibroblasts",
           "None",
           "SM activated stress response",
           "T cell lineage",
           "AT1",
           "AT2",
           "B cell",
           "CD4+ T cell",
           "CD8+ T cell",
           "NK cell",
           "Treg",
           "cDC",
           "club",
           "fibroblast",
           "lymphatic endothelial",
           "macrophage",
           "mast",
           "myofibroblast",
           "neutrophil",
           "nkt",
           "pericyte",
           "plasma cell",
           "smc",
           "vascular endothelial"
          ],
          "line": {
           "color": "black",
           "width": 0
          },
          "pad": 10
         },
         "orientation": "h",
         "type": "sankey",
         "valueformat": ".0f"
        }
       ],
       "layout": {
        "font": {
         "size": 10
        },
        "height": 772,
        "legend": {
         "xanchor": "right"
        },
        "template": {
         "data": {
          "bar": [
           {
            "error_x": {
             "color": "#2a3f5f"
            },
            "error_y": {
             "color": "#2a3f5f"
            },
            "marker": {
             "line": {
              "color": "#E5ECF6",
              "width": 0.5
             },
             "pattern": {
              "fillmode": "overlay",
              "size": 10,
              "solidity": 0.2
             }
            },
            "type": "bar"
           }
          ],
          "barpolar": [
           {
            "marker": {
             "line": {
              "color": "#E5ECF6",
              "width": 0.5
             },
             "pattern": {
              "fillmode": "overlay",
              "size": 10,
              "solidity": 0.2
             }
            },
            "type": "barpolar"
           }
          ],
          "carpet": [
           {
            "aaxis": {
             "endlinecolor": "#2a3f5f",
             "gridcolor": "white",
             "linecolor": "white",
             "minorgridcolor": "white",
             "startlinecolor": "#2a3f5f"
            },
            "baxis": {
             "endlinecolor": "#2a3f5f",
             "gridcolor": "white",
             "linecolor": "white",
             "minorgridcolor": "white",
             "startlinecolor": "#2a3f5f"
            },
            "type": "carpet"
           }
          ],
          "choropleth": [
           {
            "colorbar": {
             "outlinewidth": 0,
             "ticks": ""
            },
            "type": "choropleth"
           }
          ],
          "contour": [
           {
            "colorbar": {
             "outlinewidth": 0,
             "ticks": ""
            },
            "colorscale": [
             [
              0,
              "#0d0887"
             ],
             [
              0.1111111111111111,
              "#46039f"
             ],
             [
              0.2222222222222222,
              "#7201a8"
             ],
             [
              0.3333333333333333,
              "#9c179e"
             ],
             [
              0.4444444444444444,
              "#bd3786"
             ],
             [
              0.5555555555555556,
              "#d8576b"
             ],
             [
              0.6666666666666666,
              "#ed7953"
             ],
             [
              0.7777777777777778,
              "#fb9f3a"
             ],
             [
              0.8888888888888888,
              "#fdca26"
             ],
             [
              1,
              "#f0f921"
             ]
            ],
            "type": "contour"
           }
          ],
          "contourcarpet": [
           {
            "colorbar": {
             "outlinewidth": 0,
             "ticks": ""
            },
            "type": "contourcarpet"
           }
          ],
          "heatmap": [
           {
            "colorbar": {
             "outlinewidth": 0,
             "ticks": ""
            },
            "colorscale": [
             [
              0,
              "#0d0887"
             ],
             [
              0.1111111111111111,
              "#46039f"
             ],
             [
              0.2222222222222222,
              "#7201a8"
             ],
             [
              0.3333333333333333,
              "#9c179e"
             ],
             [
              0.4444444444444444,
              "#bd3786"
             ],
             [
              0.5555555555555556,
              "#d8576b"
             ],
             [
              0.6666666666666666,
              "#ed7953"
             ],
             [
              0.7777777777777778,
              "#fb9f3a"
             ],
             [
              0.8888888888888888,
              "#fdca26"
             ],
             [
              1,
              "#f0f921"
             ]
            ],
            "type": "heatmap"
           }
          ],
          "heatmapgl": [
           {
            "colorbar": {
             "outlinewidth": 0,
             "ticks": ""
            },
            "colorscale": [
             [
              0,
              "#0d0887"
             ],
             [
              0.1111111111111111,
              "#46039f"
             ],
             [
              0.2222222222222222,
              "#7201a8"
             ],
             [
              0.3333333333333333,
              "#9c179e"
             ],
             [
              0.4444444444444444,
              "#bd3786"
             ],
             [
              0.5555555555555556,
              "#d8576b"
             ],
             [
              0.6666666666666666,
              "#ed7953"
             ],
             [
              0.7777777777777778,
              "#fb9f3a"
             ],
             [
              0.8888888888888888,
              "#fdca26"
             ],
             [
              1,
              "#f0f921"
             ]
            ],
            "type": "heatmapgl"
           }
          ],
          "histogram": [
           {
            "marker": {
             "pattern": {
              "fillmode": "overlay",
              "size": 10,
              "solidity": 0.2
             }
            },
            "type": "histogram"
           }
          ],
          "histogram2d": [
           {
            "colorbar": {
             "outlinewidth": 0,
             "ticks": ""
            },
            "colorscale": [
             [
              0,
              "#0d0887"
             ],
             [
              0.1111111111111111,
              "#46039f"
             ],
             [
              0.2222222222222222,
              "#7201a8"
             ],
             [
              0.3333333333333333,
              "#9c179e"
             ],
             [
              0.4444444444444444,
              "#bd3786"
             ],
             [
              0.5555555555555556,
              "#d8576b"
             ],
             [
              0.6666666666666666,
              "#ed7953"
             ],
             [
              0.7777777777777778,
              "#fb9f3a"
             ],
             [
              0.8888888888888888,
              "#fdca26"
             ],
             [
              1,
              "#f0f921"
             ]
            ],
            "type": "histogram2d"
           }
          ],
          "histogram2dcontour": [
           {
            "colorbar": {
             "outlinewidth": 0,
             "ticks": ""
            },
            "colorscale": [
             [
              0,
              "#0d0887"
             ],
             [
              0.1111111111111111,
              "#46039f"
             ],
             [
              0.2222222222222222,
              "#7201a8"
             ],
             [
              0.3333333333333333,
              "#9c179e"
             ],
             [
              0.4444444444444444,
              "#bd3786"
             ],
             [
              0.5555555555555556,
              "#d8576b"
             ],
             [
              0.6666666666666666,
              "#ed7953"
             ],
             [
              0.7777777777777778,
              "#fb9f3a"
             ],
             [
              0.8888888888888888,
              "#fdca26"
             ],
             [
              1,
              "#f0f921"
             ]
            ],
            "type": "histogram2dcontour"
           }
          ],
          "mesh3d": [
           {
            "colorbar": {
             "outlinewidth": 0,
             "ticks": ""
            },
            "type": "mesh3d"
           }
          ],
          "parcoords": [
           {
            "line": {
             "colorbar": {
              "outlinewidth": 0,
              "ticks": ""
             }
            },
            "type": "parcoords"
           }
          ],
          "pie": [
           {
            "automargin": true,
            "type": "pie"
           }
          ],
          "scatter": [
           {
            "fillpattern": {
             "fillmode": "overlay",
             "size": 10,
             "solidity": 0.2
            },
            "type": "scatter"
           }
          ],
          "scatter3d": [
           {
            "line": {
             "colorbar": {
              "outlinewidth": 0,
              "ticks": ""
             }
            },
            "marker": {
             "colorbar": {
              "outlinewidth": 0,
              "ticks": ""
             }
            },
            "type": "scatter3d"
           }
          ],
          "scattercarpet": [
           {
            "marker": {
             "colorbar": {
              "outlinewidth": 0,
              "ticks": ""
             }
            },
            "type": "scattercarpet"
           }
          ],
          "scattergeo": [
           {
            "marker": {
             "colorbar": {
              "outlinewidth": 0,
              "ticks": ""
             }
            },
            "type": "scattergeo"
           }
          ],
          "scattergl": [
           {
            "marker": {
             "colorbar": {
              "outlinewidth": 0,
              "ticks": ""
             }
            },
            "type": "scattergl"
           }
          ],
          "scattermapbox": [
           {
            "marker": {
             "colorbar": {
              "outlinewidth": 0,
              "ticks": ""
             }
            },
            "type": "scattermapbox"
           }
          ],
          "scatterpolar": [
           {
            "marker": {
             "colorbar": {
              "outlinewidth": 0,
              "ticks": ""
             }
            },
            "type": "scatterpolar"
           }
          ],
          "scatterpolargl": [
           {
            "marker": {
             "colorbar": {
              "outlinewidth": 0,
              "ticks": ""
             }
            },
            "type": "scatterpolargl"
           }
          ],
          "scatterternary": [
           {
            "marker": {
             "colorbar": {
              "outlinewidth": 0,
              "ticks": ""
             }
            },
            "type": "scatterternary"
           }
          ],
          "surface": [
           {
            "colorbar": {
             "outlinewidth": 0,
             "ticks": ""
            },
            "colorscale": [
             [
              0,
              "#0d0887"
             ],
             [
              0.1111111111111111,
              "#46039f"
             ],
             [
              0.2222222222222222,
              "#7201a8"
             ],
             [
              0.3333333333333333,
              "#9c179e"
             ],
             [
              0.4444444444444444,
              "#bd3786"
             ],
             [
              0.5555555555555556,
              "#d8576b"
             ],
             [
              0.6666666666666666,
              "#ed7953"
             ],
             [
              0.7777777777777778,
              "#fb9f3a"
             ],
             [
              0.8888888888888888,
              "#fdca26"
             ],
             [
              1,
              "#f0f921"
             ]
            ],
            "type": "surface"
           }
          ],
          "table": [
           {
            "cells": {
             "fill": {
              "color": "#EBF0F8"
             },
             "line": {
              "color": "white"
             }
            },
            "header": {
             "fill": {
              "color": "#C8D4E3"
             },
             "line": {
              "color": "white"
             }
            },
            "type": "table"
           }
          ]
         },
         "layout": {
          "annotationdefaults": {
           "arrowcolor": "#2a3f5f",
           "arrowhead": 0,
           "arrowwidth": 1
          },
          "autotypenumbers": "strict",
          "coloraxis": {
           "colorbar": {
            "outlinewidth": 0,
            "ticks": ""
           }
          },
          "colorscale": {
           "diverging": [
            [
             0,
             "#8e0152"
            ],
            [
             0.1,
             "#c51b7d"
            ],
            [
             0.2,
             "#de77ae"
            ],
            [
             0.3,
             "#f1b6da"
            ],
            [
             0.4,
             "#fde0ef"
            ],
            [
             0.5,
             "#f7f7f7"
            ],
            [
             0.6,
             "#e6f5d0"
            ],
            [
             0.7,
             "#b8e186"
            ],
            [
             0.8,
             "#7fbc41"
            ],
            [
             0.9,
             "#4d9221"
            ],
            [
             1,
             "#276419"
            ]
           ],
           "sequential": [
            [
             0,
             "#0d0887"
            ],
            [
             0.1111111111111111,
             "#46039f"
            ],
            [
             0.2222222222222222,
             "#7201a8"
            ],
            [
             0.3333333333333333,
             "#9c179e"
            ],
            [
             0.4444444444444444,
             "#bd3786"
            ],
            [
             0.5555555555555556,
             "#d8576b"
            ],
            [
             0.6666666666666666,
             "#ed7953"
            ],
            [
             0.7777777777777778,
             "#fb9f3a"
            ],
            [
             0.8888888888888888,
             "#fdca26"
            ],
            [
             1,
             "#f0f921"
            ]
           ],
           "sequentialminus": [
            [
             0,
             "#0d0887"
            ],
            [
             0.1111111111111111,
             "#46039f"
            ],
            [
             0.2222222222222222,
             "#7201a8"
            ],
            [
             0.3333333333333333,
             "#9c179e"
            ],
            [
             0.4444444444444444,
             "#bd3786"
            ],
            [
             0.5555555555555556,
             "#d8576b"
            ],
            [
             0.6666666666666666,
             "#ed7953"
            ],
            [
             0.7777777777777778,
             "#fb9f3a"
            ],
            [
             0.8888888888888888,
             "#fdca26"
            ],
            [
             1,
             "#f0f921"
            ]
           ]
          },
          "colorway": [
           "#636efa",
           "#EF553B",
           "#00cc96",
           "#ab63fa",
           "#FFA15A",
           "#19d3f3",
           "#FF6692",
           "#B6E880",
           "#FF97FF",
           "#FECB52"
          ],
          "font": {
           "color": "#2a3f5f"
          },
          "geo": {
           "bgcolor": "white",
           "lakecolor": "white",
           "landcolor": "#E5ECF6",
           "showlakes": true,
           "showland": true,
           "subunitcolor": "white"
          },
          "hoverlabel": {
           "align": "left"
          },
          "hovermode": "closest",
          "mapbox": {
           "style": "light"
          },
          "paper_bgcolor": "white",
          "plot_bgcolor": "#E5ECF6",
          "polar": {
           "angularaxis": {
            "gridcolor": "white",
            "linecolor": "white",
            "ticks": ""
           },
           "bgcolor": "#E5ECF6",
           "radialaxis": {
            "gridcolor": "white",
            "linecolor": "white",
            "ticks": ""
           }
          },
          "scene": {
           "xaxis": {
            "backgroundcolor": "#E5ECF6",
            "gridcolor": "white",
            "gridwidth": 2,
            "linecolor": "white",
            "showbackground": true,
            "ticks": "",
            "zerolinecolor": "white"
           },
           "yaxis": {
            "backgroundcolor": "#E5ECF6",
            "gridcolor": "white",
            "gridwidth": 2,
            "linecolor": "white",
            "showbackground": true,
            "ticks": "",
            "zerolinecolor": "white"
           },
           "zaxis": {
            "backgroundcolor": "#E5ECF6",
            "gridcolor": "white",
            "gridwidth": 2,
            "linecolor": "white",
            "showbackground": true,
            "ticks": "",
            "zerolinecolor": "white"
           }
          },
          "shapedefaults": {
           "line": {
            "color": "#2a3f5f"
           }
          },
          "ternary": {
           "aaxis": {
            "gridcolor": "white",
            "linecolor": "white",
            "ticks": ""
           },
           "baxis": {
            "gridcolor": "white",
            "linecolor": "white",
            "ticks": ""
           },
           "bgcolor": "#E5ECF6",
           "caxis": {
            "gridcolor": "white",
            "linecolor": "white",
            "ticks": ""
           }
          },
          "title": {
           "x": 0.05
          },
          "xaxis": {
           "automargin": true,
           "gridcolor": "white",
           "linecolor": "white",
           "ticks": "",
           "title": {
            "standoff": 15
           },
           "zerolinecolor": "white",
           "zerolinewidth": 2
          },
          "yaxis": {
           "automargin": true,
           "gridcolor": "white",
           "linecolor": "white",
           "ticks": "",
           "title": {
            "standoff": 15
           },
           "zerolinecolor": "white",
           "zerolinewidth": 2
          }
         }
        },
        "title": {
         "text": "Sankey"
        },
        "width": 500
       }
      }
     },
     "metadata": {},
     "output_type": "display_data"
    }
   ],
   "source": [
    "plot_sankey(comparison_df)"
   ]
  },
  {
   "attachments": {},
   "cell_type": "markdown",
   "id": "ee80b632",
   "metadata": {},
   "source": [
    "Let's plot heatmap"
   ]
  },
  {
   "cell_type": "code",
   "execution_count": 131,
   "id": "ebd19b74",
   "metadata": {},
   "outputs": [
    {
     "data": {
      "image/png": "[encoded data removed]",
      "text/plain": [
       "<Figure size 1000x1000 with 2 Axes>"
      ]
     },
     "metadata": {},
     "output_type": "display_data"
    }
   ],
   "source": [
    "# https://docs.scvi-tools.org/en/stable/tutorials/notebooks/cellassign_tutorial.html#Model-reproducibility\n",
    "confusion_matrix = pd.crosstab(\n",
    "    comparison_df[\"pred\"],\n",
    "    comparison_df[\"ground_truth\"], \n",
    "    rownames=[\"Predicted label\"],\n",
    "    colnames=[\"True label\"],\n",
    ")\n",
    "confusion_matrix /= confusion_matrix.sum(1).ravel().reshape(-1, 1)\n",
    "confusion_matrix *= 100\n",
    "fig, ax = plt.subplots(figsize=(10, 10))\n",
    "sns.heatmap(\n",
    "    confusion_matrix,\n",
    "    # cmap=sns.diverging_palette(245, 320, s=60, as_cmap=True),\n",
    "    cmap=sns.color_palette(\"light:#2b6bb4\", as_cmap=True),\n",
    "    ax=ax,\n",
    "    square=True,\n",
    "    fmt=\".2f\",\n",
    "    cbar_kws=dict(shrink=0.4, aspect=12),\n",
    "    # annot=True,\n",
    ")\n",
    "                                                        \n",
    "fig_path = f'{temp_fig_dir}/celltype_preds.svg'\n",
    "plt.savefig(fig_path, dpi=300, bbox_inches=\"tight\")"
   ]
  },
  {
   "cell_type": "code",
   "execution_count": 129,
   "id": "f1c7e728",
   "metadata": {},
   "outputs": [
    {
     "data": {
      "text/plain": [
       "(20, 18)"
      ]
     },
     "execution_count": 129,
     "metadata": {},
     "output_type": "execute_result"
    }
   ],
   "source": [
    "len(comparison_df[\"ground_truth\"].astype(\"category\").cat.categories), len(comparison_df[\"pred\"].astype(\"category\").cat.categories)"
   ]
  },
  {
   "cell_type": "code",
   "execution_count": null,
   "id": "5283c728",
   "metadata": {},
   "outputs": [],
   "source": []
  }
 ],
 "metadata": {
  "kernelspec": {
   "display_name": "scvi-hub-clone",
   "language": "python",
   "name": "python3"
  },
  "language_info": {
   "codemirror_mode": {
    "name": "ipython",
    "version": 3
   },
   "file_extension": ".py",
   "mimetype": "text/x-python",
   "name": "python",
   "nbconvert_exporter": "python",
   "pygments_lexer": "ipython3",
   "version": "3.9.13"
  },
  "vscode": {
   "interpreter": {
    "hash": "96af0d8d95f3260bd0eb8438dae7a0669cd6a046db40ace554886eaa4b9da85f"
   }
  }
 },
 "nbformat": 4,
 "nbformat_minor": 5
}

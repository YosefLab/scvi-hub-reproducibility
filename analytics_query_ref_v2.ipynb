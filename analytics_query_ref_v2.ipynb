{
 "cells": [
  {
   "cell_type": "markdown",
   "id": "0c28829b",
   "metadata": {},
   "source": [
    "# Analytics - query to reference mapping"
   ]
  },
  {
   "cell_type": "markdown",
   "id": "c10d1322",
   "metadata": {},
   "source": [
    "This notebook is based on and adapted from this scvi-tools tutorial: https://docs.scvi-tools.org/en/stable/tutorials/notebooks/query_hlca_knn.html"
   ]
  },
  {
   "cell_type": "code",
   "execution_count": 1,
   "id": "8c4ac6e3",
   "metadata": {},
   "outputs": [
    {
     "name": "stderr",
     "output_type": "stream",
     "text": [
      "Global seed set to 0\n",
      "Global seed set to 1\n"
     ]
    }
   ],
   "source": [
    "import scvi\n",
    "import anndata\n",
    "import pandas as pd\n",
    "import numpy as np\n",
    "import scanpy as sc\n",
    "import torch\n",
    "import gc\n",
    "import matplotlib.pyplot as plt\n",
    "import matplotlib as mpl\n",
    "import math\n",
    "import mplscience\n",
    "import seaborn as sns\n",
    "import scipy\n",
    "from pathlib import Path\n",
    "import math\n",
    "from scvi.data._download import _download\n",
    "from scvi.data import cellxgene\n",
    "import os\n",
    "from scvi.model.base import ArchesMixin\n",
    "\n",
    "scvi.settings.seed = 1\n",
    "\n",
    "# plotting commands for the styling\n",
    "# sns.reset_orig()\n",
    "mplscience.set_style(reset_current=True, name=\"default\")\n",
    "\n",
    "%load_ext autoreload\n",
    "%autoreload 2"
   ]
  },
  {
   "cell_type": "markdown",
   "id": "1c7cb2d6",
   "metadata": {},
   "source": [
    "## Citations"
   ]
  },
  {
   "cell_type": "markdown",
   "id": "f1335365",
   "metadata": {},
   "source": [
    "scArches:  \n",
    "Mohammad Lotfollahi, Mohsen Naghipourfar, Malte D. Luecken, Matin Khajavi, Maren Büttner, Marco Wagenstetter, Žiga Avsec, Adam Gayoso, Nir Yosef, Marta Interlandi, Sergei Rybakov, Alexander V. Misharin, and Fabian J. Theis. Mapping single-cell data to reference atlases by transfer learning. Nature Biotechnology, 40(1):121–130, August 2021. doi:10.1038/s41587-021-01001-7.  \n",
    "\n",
    "scANVI:  \n",
    "Chenling Xu, Romain Lopez, Edouard Mehlman, Jeffrey Regier, Michael I Jordan, and Nir Yosef. Probabilistic harmonization and annotation of single-cell transcriptomics data with deep generative models. Molecular Systems Biology, January 2021. doi:10.15252/msb.20209620.\n",
    "\n",
    "HCLA:  \n",
    "An integrated cell atlas of the human lung in health and disease\n",
    "L Sikkema, D Strobl, L Zappia, E Madissoon, NS Markov, L Zaragosi, M Ansari, M Arguel, L Apperloo, C Bécavin, M Berg, E Chichelnitskiy, M Chung, A Collin, ACA Gay, B Hooshiar Kashani, M Jain, T Kapellos, TM Kole, C Mayr, M von Papen, L Peter, C Ramírez-Suástegui, J Schniering, C Taylor, T Walzthoeni, C Xu, LT Bui, C de Donno, L Dony, M Guo, AJ Gutierrez, L Heumos, N Huang, I Ibarra, N Jackson, P Kadur Lakshminarasimha Murthy, M Lotfollahi, T Tabib, C Talavera-Lopez, K Travaglini, A Wilbrey-Clark, KB Worlock, M Yoshida, Lung Biological Network Consortium, T Desai, O Eickelberg, C Falk, N Kaminski, M Krasnow, R Lafyatis, M Nikolíc, J Powell, J Rajagopal, O Rozenblatt-Rosen, MA Seibold, D Sheppard, D Shepherd, SA Teichmann, A Tsankov, J Whitsett, Y Xu, NE Banovich, P Barbry, TE Duong, KB Meyer, JA Kropski, D Pe’er, HB Schiller, PR Tata, JL Schultze, AV Misharin, MC Nawijn, MD Luecken, F Theis\n",
    "bioRxiv 2022.03.10.483747; doi: https://doi.org/10.1101/2022.03.10.483747"
   ]
  },
  {
   "attachments": {},
   "cell_type": "markdown",
   "id": "4605dfa2",
   "metadata": {},
   "source": [
    "## 1️⃣ Load the model and raw data\n",
    "\n",
    "Here we use the HLCA dataset.\n",
    "\n",
    "An integrated cell atlas of the human lung in health and disease  \n",
    "L Sikkema, D Strobl, L Zappia, E Madissoon, NS Markov, L Zaragosi, M Ansari, M Arguel, L Apperloo, C Bécavin, M Berg, E Chichelnitskiy, M Chung, A Collin, ACA Gay, B Hooshiar Kashani, M Jain, T Kapellos, TM Kole, C Mayr, M von Papen, L Peter, C Ramírez-Suástegui, J Schniering, C Taylor, T Walzthoeni, C Xu, LT Bui, C de Donno, L Dony, M Guo, AJ Gutierrez, L Heumos, N Huang, I Ibarra, N Jackson, P Kadur Lakshminarasimha Murthy, M Lotfollahi, T Tabib, C Talavera-Lopez, K Travaglini, A Wilbrey-Clark, KB Worlock, M Yoshida, Lung Biological Network Consortium, T Desai, O Eickelberg, C Falk, N Kaminski, M Krasnow, R Lafyatis, M Nikolíc, J Powell, J Rajagopal, O Rozenblatt-Rosen, MA Seibold, D Sheppard, D Shepherd, SA Teichmann, A Tsankov, J Whitsett, Y Xu, NE Banovich, P Barbry, TE Duong, KB Meyer, JA Kropski, D Pe’er, HB Schiller, PR Tata, JL Schultze, AV Misharin, MC Nawijn, MD Luecken, F Theis  \n",
    "bioRxiv 2022.03.10.483747; doi: https://doi.org/10.1101/2022.03.10.483747\n",
    "\n",
    "Let's download the pre-trained model"
   ]
  },
  {
   "cell_type": "code",
   "execution_count": 5,
   "id": "ee02bc5c",
   "metadata": {},
   "outputs": [
    {
     "name": "stdout",
     "output_type": "stream",
     "text": [
      "\u001b[34mINFO    \u001b[0m File                                                                                                      \n",
      "         \u001b[35m/Users/valehvpa/GitRepos/scvi-hub/local/data_stuff/HLCA/hlca_new/HLCA_reference_model_new_latent/\u001b[0m\u001b[95mmodel.pt\u001b[0m \n",
      "         already downloaded                                                                                        \n"
     ]
    },
    {
     "name": "stderr",
     "output_type": "stream",
     "text": [
      "/Users/valehvpa/GitRepos/scvi-tools/scvi/data/_utils.py:168: UserWarning: Category 18 in adata.obs['_scvi_labels'] has fewer than 3 cells. Models may not train properly.\n",
      "  warnings.warn(\n",
      "/Users/valehvpa/GitRepos/scvi-tools/scvi/data/_utils.py:168: UserWarning: Category 18 in adata.obs['_scvi_labels'] has fewer than 3 cells. Models may not train properly.\n",
      "  warnings.warn(\n"
     ]
    }
   ],
   "source": [
    "local_dir = \"/Users/valehvpa/GitRepos/scvi-hub-reproducibility/local/data_new/HLCA\""
   ]
  },
  {
   "cell_type": "code",
   "execution_count": null,
   "id": "5e88f2e6",
   "metadata": {},
   "outputs": [],
   "source": [
    "model_url = \"https://huggingface.co/scvi-tools/human-lung-cell-atlas/resolve/main/model.pt\"\n",
    "_download(model_url, local_dir, \"model.pt\")"
   ]
  },
  {
   "cell_type": "markdown",
   "id": "939930a8",
   "metadata": {},
   "source": [
    "## 2️⃣ Learn a neighbors index on reference latent space + Download the query data"
   ]
  },
  {
   "cell_type": "markdown",
   "id": "4c198b31",
   "metadata": {},
   "source": [
    "First let's get the latent space from our latent model and embeddings. It is essentially just the mean of the latent distribution."
   ]
  },
  {
   "cell_type": "code",
   "execution_count": 9,
   "id": "83910801",
   "metadata": {},
   "outputs": [],
   "source": [
    "ref = model_latent.adata.obsm[\"X_latent_qzm\"]\n",
    "ref_nn_index = pynndescent.NNDescent(ref)\n",
    "ref_nn_index.prepare()"
   ]
  },
  {
   "cell_type": "markdown",
   "id": "2d0df609",
   "metadata": {},
   "source": [
    "For the query, we will use samp;les from the following publication:  \n",
    "\n",
    "- Delorey, Toni M., et al. “COVID-19 tissue atlases reveal SARS-CoV-2 pathology and cellular targets.” Nature 595.7865 (2021): 107-113."
   ]
  },
  {
   "cell_type": "code",
   "execution_count": 14,
   "id": "017a2c18",
   "metadata": {},
   "outputs": [],
   "source": [
    "%%capture\n",
    "%%bash\n",
    "curl https://ftp.ncbi.nlm.nih.gov/geo/samples/GSM5230nnn/GSM5230027/suppl/GSM5230027_04-P103142-S149-R01_raw_feature_bc_matrix.h5.gz -o \"query.h5.gz\"\n",
    "gzip -d query.h5.gz"
   ]
  },
  {
   "cell_type": "code",
   "execution_count": 16,
   "id": "b1772578",
   "metadata": {},
   "outputs": [
    {
     "name": "stderr",
     "output_type": "stream",
     "text": [
      "/opt/homebrew/Caskroom/miniconda/base/envs/scvi-hub/lib/python3.9/site-packages/anndata/_core/anndata.py:1830: UserWarning: Variable names are not unique. To make them unique, call `.var_names_make_unique`.\n",
      "  utils.warn_names_duplicates(\"var\")\n"
     ]
    }
   ],
   "source": [
    "geo_metadata_url = \"https://ftp.ncbi.nlm.nih.gov/geo/series/GSE171nnn/GSE171668/suppl/GSE171668_lung_metadata.csv.gz\"\n",
    "metadata = pd.read_csv(geo_metadata_url, index_col=0)\n",
    "query_data = sc.read_10x_h5(\"query.h5\")"
   ]
  },
  {
   "cell_type": "code",
   "execution_count": 18,
   "id": "b32b4c3d",
   "metadata": {},
   "outputs": [
    {
     "data": {
      "text/html": [
       "<div>\n",
       "<style scoped>\n",
       "    .dataframe tbody tr th:only-of-type {\n",
       "        vertical-align: middle;\n",
       "    }\n",
       "\n",
       "    .dataframe tbody tr th {\n",
       "        vertical-align: top;\n",
       "    }\n",
       "\n",
       "    .dataframe thead th {\n",
       "        text-align: right;\n",
       "    }\n",
       "</style>\n",
       "<table border=\"1\" class=\"dataframe\">\n",
       "  <thead>\n",
       "    <tr style=\"text-align: right;\">\n",
       "      <th></th>\n",
       "      <th>gene_ids</th>\n",
       "      <th>feature_types</th>\n",
       "      <th>genome</th>\n",
       "    </tr>\n",
       "  </thead>\n",
       "  <tbody>\n",
       "    <tr>\n",
       "      <th>GRCh38___MIR1302-2HG</th>\n",
       "      <td>GRCh38___ENSG00000243485</td>\n",
       "      <td>Gene Expression</td>\n",
       "      <td>GRCh38</td>\n",
       "    </tr>\n",
       "    <tr>\n",
       "      <th>GRCh38___FAM138A</th>\n",
       "      <td>GRCh38___ENSG00000237613</td>\n",
       "      <td>Gene Expression</td>\n",
       "      <td>GRCh38</td>\n",
       "    </tr>\n",
       "    <tr>\n",
       "      <th>GRCh38___OR4F5</th>\n",
       "      <td>GRCh38___ENSG00000186092</td>\n",
       "      <td>Gene Expression</td>\n",
       "      <td>GRCh38</td>\n",
       "    </tr>\n",
       "    <tr>\n",
       "      <th>GRCh38___AL627309.1</th>\n",
       "      <td>GRCh38___ENSG00000238009</td>\n",
       "      <td>Gene Expression</td>\n",
       "      <td>GRCh38</td>\n",
       "    </tr>\n",
       "    <tr>\n",
       "      <th>GRCh38___AL627309.3</th>\n",
       "      <td>GRCh38___ENSG00000239945</td>\n",
       "      <td>Gene Expression</td>\n",
       "      <td>GRCh38</td>\n",
       "    </tr>\n",
       "    <tr>\n",
       "      <th>...</th>\n",
       "      <td>...</td>\n",
       "      <td>...</td>\n",
       "      <td>...</td>\n",
       "    </tr>\n",
       "    <tr>\n",
       "      <th>SARSCoV2_SARSCoV2_ORF8</th>\n",
       "      <td>SARSCoV2_SARSCoV2_ORF8</td>\n",
       "      <td>Gene Expression</td>\n",
       "      <td>SARSCoV2</td>\n",
       "    </tr>\n",
       "    <tr>\n",
       "      <th>SARSCoV2_SARSCoV2_N</th>\n",
       "      <td>SARSCoV2_SARSCoV2_N</td>\n",
       "      <td>Gene Expression</td>\n",
       "      <td>SARSCoV2</td>\n",
       "    </tr>\n",
       "    <tr>\n",
       "      <th>SARSCoV2_SARSCoV2_ORF10</th>\n",
       "      <td>SARSCoV2_SARSCoV2_ORF10</td>\n",
       "      <td>Gene Expression</td>\n",
       "      <td>SARSCoV2</td>\n",
       "    </tr>\n",
       "    <tr>\n",
       "      <th>SARSCoV2_SARSCoV2_3prime</th>\n",
       "      <td>SARSCoV2_SARSCoV2_3prime</td>\n",
       "      <td>Gene Expression</td>\n",
       "      <td>SARSCoV2</td>\n",
       "    </tr>\n",
       "    <tr>\n",
       "      <th>SARSCoV2_SARSCoV2_NegStrand</th>\n",
       "      <td>SARSCoV2_SARSCoV2_NegStrand</td>\n",
       "      <td>Gene Expression</td>\n",
       "      <td>SARSCoV2</td>\n",
       "    </tr>\n",
       "  </tbody>\n",
       "</table>\n",
       "<p>33567 rows × 3 columns</p>\n",
       "</div>"
      ],
      "text/plain": [
       "                                                gene_ids    feature_types  \\\n",
       "GRCh38___MIR1302-2HG            GRCh38___ENSG00000243485  Gene Expression   \n",
       "GRCh38___FAM138A                GRCh38___ENSG00000237613  Gene Expression   \n",
       "GRCh38___OR4F5                  GRCh38___ENSG00000186092  Gene Expression   \n",
       "GRCh38___AL627309.1             GRCh38___ENSG00000238009  Gene Expression   \n",
       "GRCh38___AL627309.3             GRCh38___ENSG00000239945  Gene Expression   \n",
       "...                                                  ...              ...   \n",
       "SARSCoV2_SARSCoV2_ORF8            SARSCoV2_SARSCoV2_ORF8  Gene Expression   \n",
       "SARSCoV2_SARSCoV2_N                  SARSCoV2_SARSCoV2_N  Gene Expression   \n",
       "SARSCoV2_SARSCoV2_ORF10          SARSCoV2_SARSCoV2_ORF10  Gene Expression   \n",
       "SARSCoV2_SARSCoV2_3prime        SARSCoV2_SARSCoV2_3prime  Gene Expression   \n",
       "SARSCoV2_SARSCoV2_NegStrand  SARSCoV2_SARSCoV2_NegStrand  Gene Expression   \n",
       "\n",
       "                               genome  \n",
       "GRCh38___MIR1302-2HG           GRCh38  \n",
       "GRCh38___FAM138A               GRCh38  \n",
       "GRCh38___OR4F5                 GRCh38  \n",
       "GRCh38___AL627309.1            GRCh38  \n",
       "GRCh38___AL627309.3            GRCh38  \n",
       "...                               ...  \n",
       "SARSCoV2_SARSCoV2_ORF8       SARSCoV2  \n",
       "SARSCoV2_SARSCoV2_N          SARSCoV2  \n",
       "SARSCoV2_SARSCoV2_ORF10      SARSCoV2  \n",
       "SARSCoV2_SARSCoV2_3prime     SARSCoV2  \n",
       "SARSCoV2_SARSCoV2_NegStrand  SARSCoV2  \n",
       "\n",
       "[33567 rows x 3 columns]"
      ]
     },
     "execution_count": 18,
     "metadata": {},
     "output_type": "execute_result"
    }
   ],
   "source": [
    "query_data.var"
   ]
  },
  {
   "cell_type": "code",
   "execution_count": 21,
   "id": "0c3c6b31",
   "metadata": {},
   "outputs": [],
   "source": [
    "# need gene ids as index to match the core HLCA data\n",
    "query_data.var['gene_names'] = query_data.var.index\n",
    "query_data.var.index = [idx.split(\"___\")[-1] for idx in query_data.var.gene_ids]"
   ]
  },
  {
   "cell_type": "code",
   "execution_count": 27,
   "id": "6661e8f7",
   "metadata": {},
   "outputs": [],
   "source": [
    "# use metadata to select only cells of interest and remove empty drops\n",
    "metadata = metadata.loc[metadata.donor == \"D12_4\",:].copy()\n",
    "metadata.index = [idx.split(\"-\")[-1] for idx in metadata.index]\n",
    "# subset query_data to cells in metadata\n",
    "query_data.obs.index = query_data.obs.index.str.rstrip(\"-1\")\n",
    "query_data = query_data[metadata.index, :].copy()"
   ]
  },
  {
   "cell_type": "code",
   "execution_count": 28,
   "id": "5203dd21",
   "metadata": {},
   "outputs": [],
   "source": [
    "# add dataset information:\n",
    "query_data.obs['dataset'] = \"test_dataset_delorey_regev\""
   ]
  },
  {
   "cell_type": "markdown",
   "id": "c6a4547b",
   "metadata": {},
   "source": [
    "## 3️⃣ Build a query model"
   ]
  },
  {
   "cell_type": "markdown",
   "id": "6b5df9d7",
   "metadata": {},
   "source": [
    "Use `prepare_query_anndata` to re-order the genes and pad any missing genes with 0s, so that query_adata matches exactly the reference in terms of its gene set.  \n",
    "We use the latent model to do this."
   ]
  },
  {
   "cell_type": "code",
   "execution_count": 29,
   "id": "5d125659",
   "metadata": {},
   "outputs": [
    {
     "name": "stdout",
     "output_type": "stream",
     "text": [
      "\u001b[34mINFO    \u001b[0m Found \u001b[1;36m99.65\u001b[0m% reference vars in query data.                                                                \n"
     ]
    },
    {
     "name": "stderr",
     "output_type": "stream",
     "text": [
      "/Users/valehvpa/GitRepos/scvi-tools/scvi/model/base/_archesmixin.py:212: FutureWarning: X.dtype being converted to np.float32 from float64. In the next version of anndata (0.9) conversion will not be automatic. Pass dtype explicitly to avoid this warning. Pass `AnnData(X, dtype=X.dtype, ...)` to get the future behavour.\n",
      "  adata_padding = AnnData(\n"
     ]
    }
   ],
   "source": [
    "scvi.model.SCANVI.prepare_query_anndata(query_data, model_latent)"
   ]
  },
  {
   "cell_type": "code",
   "execution_count": 30,
   "id": "0fed06c9",
   "metadata": {},
   "outputs": [],
   "source": [
    "query_data.obs[\"scanvi_label\"] = \"unlabeled\""
   ]
  },
  {
   "cell_type": "code",
   "execution_count": 34,
   "id": "3d8b8d88",
   "metadata": {},
   "outputs": [
    {
     "name": "stdout",
     "output_type": "stream",
     "text": [
      "\u001b[34mINFO    \u001b[0m File                                                                                                      \n",
      "         \u001b[35m/Users/valehvpa/GitRepos/scvi-hub/local/data_stuff/HLCA/hlca_new/HLCA_reference_model_new_latent/\u001b[0m\u001b[95mmodel.pt\u001b[0m \n",
      "         already downloaded                                                                                        \n"
     ]
    },
    {
     "data": {
      "text/html": [
       "<pre style=\"white-space:pre;overflow-x:auto;line-height:normal;font-family:Menlo,'DejaVu Sans Mono',consolas,'Courier New',monospace\">Setup via `SCANVI.setup_anndata` with arguments:\n",
       "</pre>\n"
      ],
      "text/plain": [
       "Setup via `SCANVI.setup_anndata` with arguments:\n"
      ]
     },
     "metadata": {},
     "output_type": "display_data"
    },
    {
     "data": {
      "text/html": [
       "<pre style=\"white-space:pre;overflow-x:auto;line-height:normal;font-family:Menlo,'DejaVu Sans Mono',consolas,'Courier New',monospace\"><span style=\"font-weight: bold\">{</span>\n",
       "<span style=\"color: #7fbf7f; text-decoration-color: #7fbf7f\">│   </span><span style=\"color: #008000; text-decoration-color: #008000\">'labels_key'</span>: <span style=\"color: #008000; text-decoration-color: #008000\">'scanvi_label'</span>,\n",
       "<span style=\"color: #7fbf7f; text-decoration-color: #7fbf7f\">│   </span><span style=\"color: #008000; text-decoration-color: #008000\">'unlabeled_category'</span>: <span style=\"color: #008000; text-decoration-color: #008000\">'unlabeled'</span>,\n",
       "<span style=\"color: #7fbf7f; text-decoration-color: #7fbf7f\">│   </span><span style=\"color: #008000; text-decoration-color: #008000\">'layer'</span>: <span style=\"color: #800080; text-decoration-color: #800080; font-style: italic\">None</span>,\n",
       "<span style=\"color: #7fbf7f; text-decoration-color: #7fbf7f\">│   </span><span style=\"color: #008000; text-decoration-color: #008000\">'batch_key'</span>: <span style=\"color: #008000; text-decoration-color: #008000\">'dataset'</span>,\n",
       "<span style=\"color: #7fbf7f; text-decoration-color: #7fbf7f\">│   </span><span style=\"color: #008000; text-decoration-color: #008000\">'size_factor_key'</span>: <span style=\"color: #800080; text-decoration-color: #800080; font-style: italic\">None</span>,\n",
       "<span style=\"color: #7fbf7f; text-decoration-color: #7fbf7f\">│   </span><span style=\"color: #008000; text-decoration-color: #008000\">'categorical_covariate_keys'</span>: <span style=\"color: #800080; text-decoration-color: #800080; font-style: italic\">None</span>,\n",
       "<span style=\"color: #7fbf7f; text-decoration-color: #7fbf7f\">│   </span><span style=\"color: #008000; text-decoration-color: #008000\">'continuous_covariate_keys'</span>: <span style=\"color: #800080; text-decoration-color: #800080; font-style: italic\">None</span>\n",
       "<span style=\"font-weight: bold\">}</span>\n",
       "</pre>\n"
      ],
      "text/plain": [
       "\u001b[1m{\u001b[0m\n",
       "\u001b[2;32m│   \u001b[0m\u001b[32m'labels_key'\u001b[0m: \u001b[32m'scanvi_label'\u001b[0m,\n",
       "\u001b[2;32m│   \u001b[0m\u001b[32m'unlabeled_category'\u001b[0m: \u001b[32m'unlabeled'\u001b[0m,\n",
       "\u001b[2;32m│   \u001b[0m\u001b[32m'layer'\u001b[0m: \u001b[3;35mNone\u001b[0m,\n",
       "\u001b[2;32m│   \u001b[0m\u001b[32m'batch_key'\u001b[0m: \u001b[32m'dataset'\u001b[0m,\n",
       "\u001b[2;32m│   \u001b[0m\u001b[32m'size_factor_key'\u001b[0m: \u001b[3;35mNone\u001b[0m,\n",
       "\u001b[2;32m│   \u001b[0m\u001b[32m'categorical_covariate_keys'\u001b[0m: \u001b[3;35mNone\u001b[0m,\n",
       "\u001b[2;32m│   \u001b[0m\u001b[32m'continuous_covariate_keys'\u001b[0m: \u001b[3;35mNone\u001b[0m\n",
       "\u001b[1m}\u001b[0m\n"
      ]
     },
     "metadata": {},
     "output_type": "display_data"
    },
    {
     "data": {
      "text/html": [
       "<pre style=\"white-space:pre;overflow-x:auto;line-height:normal;font-family:Menlo,'DejaVu Sans Mono',consolas,'Courier New',monospace\">\n",
       "</pre>\n"
      ],
      "text/plain": [
       "\n"
      ]
     },
     "metadata": {},
     "output_type": "display_data"
    }
   ],
   "source": [
    "scvi.model.SCANVI.view_setup_args(\n",
    "    \"/Users/valehvpa/GitRepos/scvi-hub/local/data_stuff/HLCA/hlca_new/HLCA_reference_model_new_latent\"\n",
    ")"
   ]
  },
  {
   "cell_type": "code",
   "execution_count": 93,
   "id": "680518c5",
   "metadata": {},
   "outputs": [],
   "source": [
    "query_model = scvi.model.SCANVI.load_query_data(query_data, model_latent)"
   ]
  },
  {
   "cell_type": "markdown",
   "id": "034fc53f",
   "metadata": {},
   "source": [
    "Train the query model."
   ]
  },
  {
   "cell_type": "code",
   "execution_count": 95,
   "id": "db78e1ad",
   "metadata": {},
   "outputs": [],
   "source": [
    "surgery_epochs = 500\n",
    "train_kwargs_surgery = {\n",
    "    \"early_stopping\": True,\n",
    "    \"early_stopping_monitor\": \"elbo_train\",\n",
    "    \"early_stopping_patience\": 10,\n",
    "    \"early_stopping_min_delta\": 0.001,\n",
    "    \"plan_kwargs\": {\"weight_decay\": 0.0},\n",
    "}"
   ]
  },
  {
   "cell_type": "code",
   "execution_count": 96,
   "id": "d558fabb",
   "metadata": {},
   "outputs": [
    {
     "name": "stdout",
     "output_type": "stream",
     "text": [
      "\u001b[34mINFO    \u001b[0m Training for \u001b[1;36m500\u001b[0m epochs.                                                                                  \n"
     ]
    },
    {
     "name": "stderr",
     "output_type": "stream",
     "text": [
      "GPU available: True (mps), used: False\n",
      "TPU available: False, using: 0 TPU cores\n",
      "IPU available: False, using: 0 IPUs\n",
      "HPU available: False, using: 0 HPUs\n",
      "/opt/homebrew/Caskroom/miniconda/base/envs/scvi-hub/lib/python3.9/site-packages/pytorch_lightning/trainer/trainer.py:1789: UserWarning: MPS available but not used. Set `accelerator` and `devices` using `Trainer(accelerator='mps', devices=1)`.\n",
      "  rank_zero_warn(\n"
     ]
    },
    {
     "name": "stdout",
     "output_type": "stream",
     "text": [
      "Epoch 207/500:  41%|████▏     | 207/500 [01:35<02:15,  2.17it/s, loss=476, v_num=1]\n",
      "Monitored metric elbo_train did not improve in the last 10 records. Best score: 527.361. Signaling Trainer to stop.\n"
     ]
    }
   ],
   "source": [
    "query_model.train(\n",
    "    max_epochs=surgery_epochs,\n",
    "    **train_kwargs_surgery\n",
    ")"
   ]
  },
  {
   "cell_type": "code",
   "execution_count": 97,
   "id": "4c6e10b6",
   "metadata": {},
   "outputs": [],
   "source": [
    "query_save_path = \"/Users/valehvpa/GitRepos/scvi-hub/local/data_stuff/HLCA/hlca_new/HLCA_query_model\"\n",
    "query_model.save(query_save_path, overwrite=True)"
   ]
  },
  {
   "cell_type": "code",
   "execution_count": 102,
   "id": "bbfca9cc",
   "metadata": {},
   "outputs": [],
   "source": [
    "query_emb = sc.AnnData(query_model.get_latent_representation())\n",
    "query_emb.obs_names = query_data.obs_names"
   ]
  },
  {
   "cell_type": "markdown",
   "id": "1dd39ace",
   "metadata": {},
   "source": [
    "## 4️⃣ Predict\n"
   ]
  },
  {
   "cell_type": "markdown",
   "id": "1fa2a989",
   "metadata": {},
   "source": [
    "Now let’s try to predict an attribute in the query data using the reference (e.g. cell types or compartments) and save it in the query embedding object.   \n",
    "\n",
    "We reuse the PyNNDescent index from before, converting distances to affinities, and weighting the predictions using these affinities. This follows the approach used in the HLCA."
   ]
  },
  {
   "cell_type": "code",
   "execution_count": 104,
   "id": "cb3f8169",
   "metadata": {},
   "outputs": [],
   "source": [
    "ref_neighbors, ref_distances = ref_nn_index.query(query_emb.X)"
   ]
  },
  {
   "cell_type": "code",
   "execution_count": 172,
   "id": "6bc48728",
   "metadata": {},
   "outputs": [],
   "source": [
    "def distances_to_affinities(distances):\n",
    "    # convert distances to affinities\n",
    "    stds = np.std(distances, axis=1)\n",
    "    stds = (2.0 / stds) ** 2\n",
    "    stds = stds.reshape(-1, 1)\n",
    "    distances_tilda = np.exp(-np.true_divide(distances, stds))\n",
    "    weights = distances_tilda / np.sum(\n",
    "        distances_tilda, axis=1, keepdims=True\n",
    "    )\n",
    "    return weights\n",
    "\n",
    "# import numba\n",
    "# @numba.njit\n",
    "def weighted_prediction(weights, ref_cats):\n",
    "    \"\"\"Get highest weight category.\"\"\"\n",
    "    N = len(weights)\n",
    "    predictions = np.zeros((N,), dtype=ref_cats.dtype)\n",
    "    uncertainty = np.zeros((N,))\n",
    "    for i in range(N):\n",
    "        obs_weights = weights[i]\n",
    "        obs_cats = ref_cats[i]\n",
    "        best_prob = 0\n",
    "        for c in np.unique(obs_cats):\n",
    "            cand_prob = np.sum(obs_weights[obs_cats == c])\n",
    "            if cand_prob > best_prob:\n",
    "                best_prob = cand_prob\n",
    "                predictions[i] = c\n",
    "                uncertainty[i] = max(1 - best_prob, 0)\n",
    "\n",
    "    return predictions, uncertainty\n",
    "\n",
    "weights = distances_to_affinities(ref_distances)"
   ]
  },
  {
   "cell_type": "markdown",
   "id": "3c99ffa8",
   "metadata": {},
   "source": [
    "Let's see what we can predict that we could then compare to the ground truth in the query data."
   ]
  },
  {
   "cell_type": "code",
   "execution_count": 150,
   "id": "69c88de1",
   "metadata": {},
   "outputs": [
    {
     "data": {
      "text/plain": [
       "Index(['donor', 'n_genes', 'n_counts', 'percent_mito', 'method', 'doublet',\n",
       "       'predicted_celltype', 'compartment', 'manual_annotation_cluster',\n",
       "       'manual_annotation_SubCluster', 'Viral+'],\n",
       "      dtype='object')"
      ]
     },
     "execution_count": 150,
     "metadata": {},
     "output_type": "execute_result"
    }
   ],
   "source": [
    "metadata.columns"
   ]
  },
  {
   "cell_type": "code",
   "execution_count": 137,
   "id": "71ba6513",
   "metadata": {},
   "outputs": [
    {
     "data": {
      "text/plain": [
       "stromal        1079\n",
       "endothelial     512\n",
       "lymphoid         88\n",
       "epithelial       76\n",
       "myeloid          25\n",
       "Name: compartment, dtype: int64"
      ]
     },
     "execution_count": 137,
     "metadata": {},
     "output_type": "execute_result"
    }
   ],
   "source": [
    "metadata[\"compartment\"].value_counts()"
   ]
  },
  {
   "cell_type": "code",
   "execution_count": 132,
   "id": "01e8879c",
   "metadata": {},
   "outputs": [
    {
     "data": {
      "text/plain": [
       "myofibroblast            1031\n",
       "vascular endothelial      415\n",
       "lymphatic endothelial      97\n",
       "AT1                        62\n",
       "CD8+ T cell                57\n",
       "pericyte                   28\n",
       "club                       12\n",
       "smc                        12\n",
       "macrophage                 10\n",
       "nkt                         8\n",
       "fibroblast                  8\n",
       "CD4+ T cell                 7\n",
       "neutrophil                  7\n",
       "plasma cell                 7\n",
       "mast                        6\n",
       "NK cell                     4\n",
       "Treg                        3\n",
       "B cell                      2\n",
       "cDC                         2\n",
       "AT2                         2\n",
       "Name: predicted_celltype, dtype: int64"
      ]
     },
     "execution_count": 132,
     "metadata": {},
     "output_type": "execute_result"
    }
   ],
   "source": [
    "metadata[\"predicted_celltype\"].value_counts()"
   ]
  },
  {
   "cell_type": "code",
   "execution_count": 148,
   "id": "379e7fd9",
   "metadata": {},
   "outputs": [
    {
     "data": {
      "text/html": [
       "<div>\n",
       "<style scoped>\n",
       "    .dataframe tbody tr th:only-of-type {\n",
       "        vertical-align: middle;\n",
       "    }\n",
       "\n",
       "    .dataframe tbody tr th {\n",
       "        vertical-align: top;\n",
       "    }\n",
       "\n",
       "    .dataframe thead th {\n",
       "        text-align: right;\n",
       "    }\n",
       "</style>\n",
       "<table border=\"1\" class=\"dataframe\">\n",
       "  <thead>\n",
       "    <tr style=\"text-align: right;\">\n",
       "      <th></th>\n",
       "      <th>original_ann_level_1</th>\n",
       "      <th>original_ann_level_2</th>\n",
       "      <th>core_ann_level_1</th>\n",
       "      <th>core_ann_level_2</th>\n",
       "      <th>scanvi_label</th>\n",
       "    </tr>\n",
       "  </thead>\n",
       "  <tbody>\n",
       "    <tr>\n",
       "      <th>GCGACCATCCCTAACC_SC22</th>\n",
       "      <td>Immune</td>\n",
       "      <td>Myeloid</td>\n",
       "      <td>Immune</td>\n",
       "      <td>Myeloid</td>\n",
       "      <td>Macrophages</td>\n",
       "    </tr>\n",
       "    <tr>\n",
       "      <th>P2_1_GCGCAACCAGTTAACC</th>\n",
       "      <td>Immune</td>\n",
       "      <td>Lymphoid</td>\n",
       "      <td>Immune</td>\n",
       "      <td>Lymphoid</td>\n",
       "      <td>Non-T/B cells</td>\n",
       "    </tr>\n",
       "    <tr>\n",
       "      <th>GCTCTGTAGTGCTGCC_SC27</th>\n",
       "      <td>Epithelial</td>\n",
       "      <td>Alveolar epithelium</td>\n",
       "      <td>Epithelial</td>\n",
       "      <td>Alveolar epithelium</td>\n",
       "      <td>AT2</td>\n",
       "    </tr>\n",
       "    <tr>\n",
       "      <th>P2_8_TTAGGACGTTCAGGCC</th>\n",
       "      <td>Immune</td>\n",
       "      <td>Myeloid</td>\n",
       "      <td>Immune</td>\n",
       "      <td>Myeloid</td>\n",
       "      <td>Macrophages</td>\n",
       "    </tr>\n",
       "    <tr>\n",
       "      <th>CTTGATTGTCAGTTTG_T164</th>\n",
       "      <td>Epithelial</td>\n",
       "      <td>Airway epithelium</td>\n",
       "      <td>Epithelial</td>\n",
       "      <td>Airway epithelium</td>\n",
       "      <td>Basal</td>\n",
       "    </tr>\n",
       "    <tr>\n",
       "      <th>...</th>\n",
       "      <td>...</td>\n",
       "      <td>...</td>\n",
       "      <td>...</td>\n",
       "      <td>...</td>\n",
       "      <td>...</td>\n",
       "    </tr>\n",
       "    <tr>\n",
       "      <th>ACCTTTACATTAACCG_T120</th>\n",
       "      <td>Epithelial</td>\n",
       "      <td>Airway epithelium</td>\n",
       "      <td>Epithelial</td>\n",
       "      <td>Airway epithelium</td>\n",
       "      <td>Basal</td>\n",
       "    </tr>\n",
       "    <tr>\n",
       "      <th>CATTATCTCCATGAAC_F01639</th>\n",
       "      <td>Immune</td>\n",
       "      <td>Myeloid</td>\n",
       "      <td>Immune</td>\n",
       "      <td>Myeloid</td>\n",
       "      <td>Dendritic cells</td>\n",
       "    </tr>\n",
       "    <tr>\n",
       "      <th>AGGCCGTGTGTGACCC-SC56</th>\n",
       "      <td>Epithelial</td>\n",
       "      <td>Alveolar epithelium</td>\n",
       "      <td>Epithelial</td>\n",
       "      <td>Alveolar epithelium</td>\n",
       "      <td>AT2</td>\n",
       "    </tr>\n",
       "    <tr>\n",
       "      <th>CGATGGCAGCAGGCTA-1-2</th>\n",
       "      <td>Epithelial</td>\n",
       "      <td>Airway epithelium</td>\n",
       "      <td>Epithelial</td>\n",
       "      <td>Airway epithelium</td>\n",
       "      <td>Secretory</td>\n",
       "    </tr>\n",
       "    <tr>\n",
       "      <th>AATCGGTGTCGGCACT-1-4</th>\n",
       "      <td>Epithelial</td>\n",
       "      <td>Airway epithelium</td>\n",
       "      <td>Epithelial</td>\n",
       "      <td>Airway epithelium</td>\n",
       "      <td>Secretory</td>\n",
       "    </tr>\n",
       "  </tbody>\n",
       "</table>\n",
       "<p>584884 rows × 5 columns</p>\n",
       "</div>"
      ],
      "text/plain": [
       "                        original_ann_level_1 original_ann_level_2  \\\n",
       "GCGACCATCCCTAACC_SC22                 Immune              Myeloid   \n",
       "P2_1_GCGCAACCAGTTAACC                 Immune             Lymphoid   \n",
       "GCTCTGTAGTGCTGCC_SC27             Epithelial  Alveolar epithelium   \n",
       "P2_8_TTAGGACGTTCAGGCC                 Immune              Myeloid   \n",
       "CTTGATTGTCAGTTTG_T164             Epithelial    Airway epithelium   \n",
       "...                                      ...                  ...   \n",
       "ACCTTTACATTAACCG_T120             Epithelial    Airway epithelium   \n",
       "CATTATCTCCATGAAC_F01639               Immune              Myeloid   \n",
       "AGGCCGTGTGTGACCC-SC56             Epithelial  Alveolar epithelium   \n",
       "CGATGGCAGCAGGCTA-1-2              Epithelial    Airway epithelium   \n",
       "AATCGGTGTCGGCACT-1-4              Epithelial    Airway epithelium   \n",
       "\n",
       "                        core_ann_level_1     core_ann_level_2     scanvi_label  \n",
       "GCGACCATCCCTAACC_SC22             Immune              Myeloid      Macrophages  \n",
       "P2_1_GCGCAACCAGTTAACC             Immune             Lymphoid    Non-T/B cells  \n",
       "GCTCTGTAGTGCTGCC_SC27         Epithelial  Alveolar epithelium              AT2  \n",
       "P2_8_TTAGGACGTTCAGGCC             Immune              Myeloid      Macrophages  \n",
       "CTTGATTGTCAGTTTG_T164         Epithelial    Airway epithelium            Basal  \n",
       "...                                  ...                  ...              ...  \n",
       "ACCTTTACATTAACCG_T120         Epithelial    Airway epithelium            Basal  \n",
       "CATTATCTCCATGAAC_F01639           Immune              Myeloid  Dendritic cells  \n",
       "AGGCCGTGTGTGACCC-SC56         Epithelial  Alveolar epithelium              AT2  \n",
       "CGATGGCAGCAGGCTA-1-2          Epithelial    Airway epithelium        Secretory  \n",
       "AATCGGTGTCGGCACT-1-4          Epithelial    Airway epithelium        Secretory  \n",
       "\n",
       "[584884 rows x 5 columns]"
      ]
     },
     "execution_count": 148,
     "metadata": {},
     "output_type": "execute_result"
    }
   ],
   "source": [
    "# model_latent.adata.obs[[\n",
    "#     \"ann_highest_res\",\n",
    "#     \"original_ann_level_1\",\n",
    "#     \"scanvi_label\",\n",
    "#     \"ann_level_1_core_transferred\",\n",
    "#     \"core_ann_level_1\",\n",
    "#     \"ext_transf_ann_level_1\"\n",
    "# ]]\n",
    "\n",
    "# these are the same (and probably same thing for the other resolutions too, level_i)\n",
    "assert model_latent.adata.obs.ann_level_1_core_transferred.equals(model_latent.adata.obs.core_ann_level_1)\n",
    "\n",
    "# ann levels 2 or 3 seems to match the resolution in query_data, 1 is compartment level (e.g. Epithelial, Immune, etc.)\n",
    "model_latent.adata.obs[[\n",
    "    \"original_ann_level_1\",\n",
    "    \"original_ann_level_2\",\n",
    "    \"core_ann_level_1\",\n",
    "    \"core_ann_level_2\",\n",
    "    \"scanvi_label\",\n",
    "]]"
   ]
  },
  {
   "cell_type": "markdown",
   "id": "1f760897",
   "metadata": {},
   "source": [
    "## 4️⃣.1️⃣ Predict cell compartments"
   ]
  },
  {
   "cell_type": "markdown",
   "id": "a922f3e2",
   "metadata": {},
   "source": [
    "It looks like we can try to predict the compartment, and compare it to the ground truth compartment in the query data (which comes from the metadata object).  \n",
    "\n",
    "But, which labels should we use? 🤔"
   ]
  },
  {
   "cell_type": "code",
   "execution_count": 157,
   "id": "006ce6a9",
   "metadata": {},
   "outputs": [
    {
     "data": {
      "text/html": [
       "<div>\n",
       "<style scoped>\n",
       "    .dataframe tbody tr th:only-of-type {\n",
       "        vertical-align: middle;\n",
       "    }\n",
       "\n",
       "    .dataframe tbody tr th {\n",
       "        vertical-align: top;\n",
       "    }\n",
       "\n",
       "    .dataframe thead th {\n",
       "        text-align: right;\n",
       "    }\n",
       "</style>\n",
       "<table border=\"1\" class=\"dataframe\">\n",
       "  <thead>\n",
       "    <tr style=\"text-align: right;\">\n",
       "      <th></th>\n",
       "      <th>self</th>\n",
       "      <th>other</th>\n",
       "    </tr>\n",
       "  </thead>\n",
       "  <tbody>\n",
       "    <tr>\n",
       "      <th>TCAGGTAGTGGTGTA_GRO-10_biopsy</th>\n",
       "      <td>Epithelial</td>\n",
       "      <td>Stroma</td>\n",
       "    </tr>\n",
       "    <tr>\n",
       "      <th>GCATACACAAGCCGTC_HD70</th>\n",
       "      <td>Proliferating cells</td>\n",
       "      <td>Immune</td>\n",
       "    </tr>\n",
       "    <tr>\n",
       "      <th>D363_Biop_Pro1_GTTCGGGGTAGCCTAT-1-24</th>\n",
       "      <td>Endothelial</td>\n",
       "      <td>Stroma</td>\n",
       "    </tr>\n",
       "    <tr>\n",
       "      <th>GTTCTCGGTGCCTGTG_F01851</th>\n",
       "      <td>Proliferating cells</td>\n",
       "      <td>Epithelial</td>\n",
       "    </tr>\n",
       "    <tr>\n",
       "      <th>TTTGTCACATGTCCTC_SC07</th>\n",
       "      <td>Endothelial</td>\n",
       "      <td>Immune</td>\n",
       "    </tr>\n",
       "    <tr>\n",
       "      <th>...</th>\n",
       "      <td>...</td>\n",
       "      <td>...</td>\n",
       "    </tr>\n",
       "    <tr>\n",
       "      <th>TTGACTTTCGTCGTTC_F01851</th>\n",
       "      <td>Proliferating cells</td>\n",
       "      <td>Epithelial</td>\n",
       "    </tr>\n",
       "    <tr>\n",
       "      <th>TCTATTGAGGAGTAGA_GRO-02_biopsy</th>\n",
       "      <td>Epithelial</td>\n",
       "      <td>Stroma</td>\n",
       "    </tr>\n",
       "    <tr>\n",
       "      <th>ACGCCAGCATCCAACA_F01607</th>\n",
       "      <td>Immune</td>\n",
       "      <td>Epithelial</td>\n",
       "    </tr>\n",
       "    <tr>\n",
       "      <th>ACCTTTAGTGCAACGA_F02528</th>\n",
       "      <td>Proliferating cells</td>\n",
       "      <td>Immune</td>\n",
       "    </tr>\n",
       "    <tr>\n",
       "      <th>CTCTACGGTTTGTGTG-SC59</th>\n",
       "      <td>Proliferating cells</td>\n",
       "      <td>Immune</td>\n",
       "    </tr>\n",
       "  </tbody>\n",
       "</table>\n",
       "<p>5625 rows × 2 columns</p>\n",
       "</div>"
      ],
      "text/plain": [
       "                                                     self       other\n",
       "TCAGGTAGTGGTGTA_GRO-10_biopsy                  Epithelial      Stroma\n",
       "GCATACACAAGCCGTC_HD70                 Proliferating cells      Immune\n",
       "D363_Biop_Pro1_GTTCGGGGTAGCCTAT-1-24          Endothelial      Stroma\n",
       "GTTCTCGGTGCCTGTG_F01851               Proliferating cells  Epithelial\n",
       "TTTGTCACATGTCCTC_SC07                         Endothelial      Immune\n",
       "...                                                   ...         ...\n",
       "TTGACTTTCGTCGTTC_F01851               Proliferating cells  Epithelial\n",
       "TCTATTGAGGAGTAGA_GRO-02_biopsy                 Epithelial      Stroma\n",
       "ACGCCAGCATCCAACA_F01607                            Immune  Epithelial\n",
       "ACCTTTAGTGCAACGA_F02528               Proliferating cells      Immune\n",
       "CTCTACGGTTTGTGTG-SC59                 Proliferating cells      Immune\n",
       "\n",
       "[5625 rows x 2 columns]"
      ]
     },
     "execution_count": 157,
     "metadata": {},
     "output_type": "execute_result"
    }
   ],
   "source": [
    "model_latent.adata.obs.original_ann_level_1.astype(\"str\").compare(model_latent.adata.obs.core_ann_level_1.astype(\"str\"))"
   ]
  },
  {
   "cell_type": "code",
   "execution_count": 162,
   "id": "a343e226",
   "metadata": {},
   "outputs": [
    {
     "data": {
      "text/plain": [
       "Epithelial             281547\n",
       "Immune                 226595\n",
       "Endothelial             49738\n",
       "Stroma                  25193\n",
       "Proliferating cells      1811\n",
       "Name: original_ann_level_1, dtype: int64"
      ]
     },
     "execution_count": 162,
     "metadata": {},
     "output_type": "execute_result"
    }
   ],
   "source": [
    "model_latent.adata.obs.original_ann_level_1.value_counts()"
   ]
  },
  {
   "cell_type": "code",
   "execution_count": 159,
   "id": "28eb6027",
   "metadata": {},
   "outputs": [
    {
     "data": {
      "text/plain": [
       "Epithelial     282065\n",
       "Immune         229436\n",
       "Endothelial     48166\n",
       "Stroma          25217\n",
       "Name: core_ann_level_1, dtype: int64"
      ]
     },
     "execution_count": 159,
     "metadata": {},
     "output_type": "execute_result"
    }
   ],
   "source": [
    "model_latent.adata.obs.core_ann_level_1.value_counts()"
   ]
  },
  {
   "cell_type": "code",
   "execution_count": 163,
   "id": "cf69cbe5",
   "metadata": {},
   "outputs": [
    {
     "data": {
      "text/plain": [
       "stromal        1079\n",
       "endothelial     512\n",
       "lymphoid         88\n",
       "epithelial       76\n",
       "myeloid          25\n",
       "Name: compartment, dtype: int64"
      ]
     },
     "execution_count": 163,
     "metadata": {},
     "output_type": "execute_result"
    }
   ],
   "source": [
    "metadata[\"compartment\"].value_counts()"
   ]
  },
  {
   "cell_type": "markdown",
   "id": "0b0c5760",
   "metadata": {},
   "source": [
    "lymphoid and myeloid are essentially Immune, so it looks like core_ann_level_1 categories mach `metadata[\"compartment\"]` better, so I'll just use that one for now."
   ]
  },
  {
   "cell_type": "code",
   "execution_count": 424,
   "id": "cbd9a9b6",
   "metadata": {},
   "outputs": [],
   "source": [
    "label_key = \"core_ann_level_1\"\n",
    "ref_cats = model_latent.adata.obs[label_key].cat.codes.to_numpy()[ref_neighbors]\n",
    "p, u = weighted_prediction(weights, ref_cats)\n",
    "p = np.asarray(model_latent.adata.obs[label_key].cat.categories)[p]\n",
    "query_emb.obs[\"compartment_pred\"], query_emb.obs[\"compartment_uncertainty\"] = p, u"
   ]
  },
  {
   "cell_type": "markdown",
   "id": "d7fbeb1d",
   "metadata": {},
   "source": [
    "Finally, let's evaluate predictions."
   ]
  },
  {
   "cell_type": "code",
   "execution_count": 425,
   "id": "ce5bc9b6",
   "metadata": {},
   "outputs": [
    {
     "data": {
      "text/html": [
       "<div>\n",
       "<style scoped>\n",
       "    .dataframe tbody tr th:only-of-type {\n",
       "        vertical-align: middle;\n",
       "    }\n",
       "\n",
       "    .dataframe tbody tr th {\n",
       "        vertical-align: top;\n",
       "    }\n",
       "\n",
       "    .dataframe thead th {\n",
       "        text-align: right;\n",
       "    }\n",
       "</style>\n",
       "<table border=\"1\" class=\"dataframe\">\n",
       "  <thead>\n",
       "    <tr style=\"text-align: right;\">\n",
       "      <th></th>\n",
       "      <th>compartment_pred</th>\n",
       "      <th>compartment_uncertainty</th>\n",
       "    </tr>\n",
       "  </thead>\n",
       "  <tbody>\n",
       "    <tr>\n",
       "      <th>AAGCGTTTCAGTGCGC</th>\n",
       "      <td>Endothelial</td>\n",
       "      <td>0.000000e+00</td>\n",
       "    </tr>\n",
       "    <tr>\n",
       "      <th>AGCCACGAGGAGTCTG</th>\n",
       "      <td>Endothelial</td>\n",
       "      <td>0.000000e+00</td>\n",
       "    </tr>\n",
       "    <tr>\n",
       "      <th>ATCATTCGTATTTCGG</th>\n",
       "      <td>Endothelial</td>\n",
       "      <td>0.000000e+00</td>\n",
       "    </tr>\n",
       "    <tr>\n",
       "      <th>TGGCGTGCATGTAACC</th>\n",
       "      <td>Endothelial</td>\n",
       "      <td>0.000000e+00</td>\n",
       "    </tr>\n",
       "    <tr>\n",
       "      <th>CTACAGACACTGTGAT</th>\n",
       "      <td>Endothelial</td>\n",
       "      <td>0.000000e+00</td>\n",
       "    </tr>\n",
       "    <tr>\n",
       "      <th>...</th>\n",
       "      <td>...</td>\n",
       "      <td>...</td>\n",
       "    </tr>\n",
       "    <tr>\n",
       "      <th>TGATGCACATGGGCAA</th>\n",
       "      <td>Epithelial</td>\n",
       "      <td>5.960464e-08</td>\n",
       "    </tr>\n",
       "    <tr>\n",
       "      <th>AATGACCAGCCGATTT</th>\n",
       "      <td>Immune</td>\n",
       "      <td>0.000000e+00</td>\n",
       "    </tr>\n",
       "    <tr>\n",
       "      <th>CTCCATGCACTCTAGA</th>\n",
       "      <td>Stroma</td>\n",
       "      <td>5.960464e-08</td>\n",
       "    </tr>\n",
       "    <tr>\n",
       "      <th>ATGGGTTAGAGGCGTT</th>\n",
       "      <td>Epithelial</td>\n",
       "      <td>5.960464e-08</td>\n",
       "    </tr>\n",
       "    <tr>\n",
       "      <th>CGTGTCTCACGCTGTG</th>\n",
       "      <td>Endothelial</td>\n",
       "      <td>0.000000e+00</td>\n",
       "    </tr>\n",
       "  </tbody>\n",
       "</table>\n",
       "<p>1786 rows × 2 columns</p>\n",
       "</div>"
      ],
      "text/plain": [
       "                 compartment_pred  compartment_uncertainty\n",
       "AAGCGTTTCAGTGCGC      Endothelial             0.000000e+00\n",
       "AGCCACGAGGAGTCTG      Endothelial             0.000000e+00\n",
       "ATCATTCGTATTTCGG      Endothelial             0.000000e+00\n",
       "TGGCGTGCATGTAACC      Endothelial             0.000000e+00\n",
       "CTACAGACACTGTGAT      Endothelial             0.000000e+00\n",
       "...                           ...                      ...\n",
       "TGATGCACATGGGCAA       Epithelial             5.960464e-08\n",
       "AATGACCAGCCGATTT           Immune             0.000000e+00\n",
       "CTCCATGCACTCTAGA           Stroma             5.960464e-08\n",
       "ATGGGTTAGAGGCGTT       Epithelial             5.960464e-08\n",
       "CGTGTCTCACGCTGTG      Endothelial             0.000000e+00\n",
       "\n",
       "[1786 rows x 2 columns]"
      ]
     },
     "execution_count": 425,
     "metadata": {},
     "output_type": "execute_result"
    }
   ],
   "source": [
    "query_emb.obs[[\"compartment_pred\", \"compartment_uncertainty\"]]"
   ]
  },
  {
   "cell_type": "code",
   "execution_count": 426,
   "id": "b78d529f",
   "metadata": {},
   "outputs": [
    {
     "name": "stdout",
     "output_type": "stream",
     "text": [
      "0.0014558530935114469 5.960464477539063e-08\n"
     ]
    },
    {
     "data": {
      "text/plain": [
       "<AxesSubplot: ylabel='Density'>"
      ]
     },
     "execution_count": 426,
     "metadata": {},
     "output_type": "execute_result"
    },
    {
     "data": {
      "image/png": "[encoded data removed]",
      "text/plain": [
       "<Figure size 640x480 with 1 Axes>"
      ]
     },
     "metadata": {},
     "output_type": "display_data"
    }
   ],
   "source": [
    "print(query_emb.obs[\"compartment_uncertainty\"].mean(), np.quantile(query_emb.obs[\"compartment_uncertainty\"], 0.75))\n",
    "query_emb.obs[\"compartment_uncertainty\"].plot(kind='density', ind=np.linspace(-0.02, 0.02))"
   ]
  },
  {
   "cell_type": "code",
   "execution_count": 427,
   "id": "265fca99",
   "metadata": {},
   "outputs": [],
   "source": [
    "def get_precision_recall(ground_truth: np.ndarray, pred: np.ndarray, do_round: bool = True):\n",
    "    assert type(ground_truth) == np.ndarray and type(pred) == np.ndarray\n",
    "    # https://stackoverflow.com/a/68157457\n",
    "    tp = np.sum(np.logical_and(pred == 1, ground_truth == 1))\n",
    "    fp = np.sum(np.logical_and(pred == 1, ground_truth == 0))\n",
    "    fn = np.sum(np.logical_and(pred == 0, ground_truth == 1))\n",
    "    precision = tp / (tp+fp)\n",
    "    recall = tp / (tp+fn)\n",
    "    if precision == 0 and recall == 0:\n",
    "        f1 = 0\n",
    "    else:\n",
    "        f1 = (2*precision*recall) / (precision+recall)\n",
    "    if do_round:\n",
    "        dec = 2\n",
    "        return np.round(precision, dec), np.round(recall, dec), np.round(f1, dec)\n",
    "    else:\n",
    "        return precision, recall, f1\n",
    "def binarize_array(arr, true_val: str) -> np.ndarray:\n",
    "    v = [1 if val == true_val else 0 for val in arr]\n",
    "    return np.array(v)\n",
    "\n",
    "def evaluate_predictions(uncertainty_threshold = None):\n",
    "    # build comparison_df\n",
    "    assert metadata[\"compartment\"].index.equals(query_emb.obs.index)\n",
    "    comparison_df = pd.DataFrame(index=metadata[\"compartment\"].index, columns=[\"pred\", \"ground_truth\", \"pred_uncertainty\"])\n",
    "    comparison_df[\"pred\"] = query_emb.obs[\"compartment_pred\"]\n",
    "    comparison_df[\"pred_uncertainty\"] = query_emb.obs[\"compartment_uncertainty\"]\n",
    "    comparison_df[\"ground_truth\"] = metadata[\"compartment\"].fillna(\n",
    "                                                            \"Unknown\"\n",
    "                                                        ).replace(\n",
    "                                                            \"stromal\",\n",
    "                                                            \"stroma\"\n",
    "                                                        ).replace(\n",
    "                                                            \"lymphoid\",\n",
    "                                                            \"immune\"\n",
    "                                                        ).replace(\n",
    "                                                            \"myeloid\",\n",
    "                                                            \"immune\"\n",
    "                                                        ).str.capitalize()\n",
    "\n",
    "    # we dont care about cases where we dont know the ground truth (in fact we could have skipped prediction for these altogether)\n",
    "    n_before = len(comparison_df)\n",
    "    comparison_df = comparison_df[comparison_df[\"ground_truth\"] != \"Unknown\"]\n",
    "    n_filtered = n_before-len(comparison_df)\n",
    "    pct_filtered = 100*n_filtered/n_before\n",
    "    print(f\"filtered out {n_filtered} barcodes ({pct_filtered:.2f}%) with unknown ground truth\")\n",
    "\n",
    "    if uncertainty_threshold is not None:\n",
    "        # filter out uncertainty > threshold\n",
    "        n_before = len(comparison_df)\n",
    "        comparison_df = comparison_df[comparison_df[\"pred_uncertainty\"] <= uncertainty_threshold]\n",
    "        n_filtered = n_before-len(comparison_df)\n",
    "        pct_filtered = 100*n_filtered/n_before\n",
    "        print(f\"filtered out {n_filtered} barcodes ({pct_filtered:.2f}%) with pred uncertainty > {uncertainty_threshold}\")\n",
    "\n",
    "    # now calculate prediction accuracy\n",
    "    match = comparison_df[\"pred\"] == comparison_df[\"ground_truth\"]\n",
    "    accuracy = 100 * np.sum(match) / len(match)\n",
    "\n",
    "    # compute F1 score for each predicted class\n",
    "    unique_cats_pred = np.unique(comparison_df.pred)\n",
    "    unique_cats_ground_truth = np.unique(comparison_df.ground_truth)\n",
    "    # in our case this happens to be true but that's not always the case\n",
    "    assert np.array_equal(unique_cats_pred, unique_cats_ground_truth)\n",
    "    f1_scores = {}\n",
    "    for cat in unique_cats_pred:\n",
    "        binay_pred = binarize_array(comparison_df.pred, true_val=cat)\n",
    "        binay_ground_truth = binarize_array(comparison_df.ground_truth, true_val=cat)\n",
    "        f1_scores[cat] = get_precision_recall(binay_pred, binay_ground_truth)[2]\n",
    "\n",
    "    return comparison_df, accuracy, f1_scores"
   ]
  },
  {
   "cell_type": "code",
   "execution_count": 294,
   "id": "32576185",
   "metadata": {},
   "outputs": [
    {
     "name": "stdout",
     "output_type": "stream",
     "text": [
      "filtered out 6 barcodes (0.34%) with unknown ground truth\n",
      "filtered out 7 barcodes (0.39%) with pred uncertainty > 0.2\n",
      "99.60518894529046\n",
      "{'Endothelial': 1.0, 'Epithelial': 0.98, 'Immune': 0.99, 'Stroma': 1.0}\n"
     ]
    }
   ],
   "source": [
    "comparison_df, accuracy, f1_scores = evaluate_predictions(uncertainty_threshold=0.2)\n",
    "print(accuracy)\n",
    "print(f1_scores)"
   ]
  },
  {
   "cell_type": "code",
   "execution_count": 443,
   "id": "86d3eb63",
   "metadata": {},
   "outputs": [
    {
     "data": {
      "image/png": "[encoded data removed]",
      "text/plain": [
       "<Figure size 640x480 with 2 Axes>"
      ]
     },
     "metadata": {},
     "output_type": "display_data"
    }
   ],
   "source": [
    "from sklearn.metrics import confusion_matrix, ConfusionMatrixDisplay\n",
    "cm = confusion_matrix(comparison_df[\"ground_truth\"], comparison_df[\"pred\"])\n",
    "\n",
    "display_labels = list(f1_scores.keys())\n",
    "cm_display = ConfusionMatrixDisplay(cm, display_labels=display_labels).plot()"
   ]
  },
  {
   "cell_type": "markdown",
   "id": "bdff3596",
   "metadata": {},
   "source": [
    "## 4️⃣.2️⃣ Predict cell types"
   ]
  },
  {
   "cell_type": "code",
   "execution_count": 400,
   "id": "a0a04bc5",
   "metadata": {},
   "outputs": [
    {
     "data": {
      "text/plain": [
       "AAGCGTTTCAGTGCGC    lymphatic endothelial\n",
       "AGCCACGAGGAGTCTG    lymphatic endothelial\n",
       "ATCATTCGTATTTCGG    lymphatic endothelial\n",
       "TGGCGTGCATGTAACC    lymphatic endothelial\n",
       "CTACAGACACTGTGAT    lymphatic endothelial\n",
       "                            ...          \n",
       "TGATGCACATGGGCAA                      NaN\n",
       "AATGACCAGCCGATTT                      NaN\n",
       "CTCCATGCACTCTAGA                      NaN\n",
       "ATGGGTTAGAGGCGTT                      NaN\n",
       "CGTGTCTCACGCTGTG                      NaN\n",
       "Name: predicted_celltype, Length: 1786, dtype: object"
      ]
     },
     "execution_count": 400,
     "metadata": {},
     "output_type": "execute_result"
    }
   ],
   "source": [
    "metadata[\"predicted_celltype\"]"
   ]
  },
  {
   "cell_type": "code",
   "execution_count": 387,
   "id": "3b40a404",
   "metadata": {},
   "outputs": [
    {
     "data": {
      "text/plain": [
       "myofibroblast            1031\n",
       "vascular endothelial      415\n",
       "lymphatic endothelial      97\n",
       "AT1                        62\n",
       "CD8+ T cell                57\n",
       "pericyte                   28\n",
       "club                       12\n",
       "smc                        12\n",
       "macrophage                 10\n",
       "nkt                         8\n",
       "fibroblast                  8\n",
       "CD4+ T cell                 7\n",
       "neutrophil                  7\n",
       "plasma cell                 7\n",
       "mast                        6\n",
       "NK cell                     4\n",
       "Treg                        3\n",
       "B cell                      2\n",
       "cDC                         2\n",
       "AT2                         2\n",
       "Name: predicted_celltype, dtype: int64"
      ]
     },
     "execution_count": 387,
     "metadata": {},
     "output_type": "execute_result"
    }
   ],
   "source": [
    "metadata[\"predicted_celltype\"].value_counts()"
   ]
  },
  {
   "cell_type": "code",
   "execution_count": 399,
   "id": "7f391dfb",
   "metadata": {},
   "outputs": [
    {
     "data": {
      "text/plain": [
       "Macrophages                     111844\n",
       "Basal                            84713\n",
       "Secretory                        80557\n",
       "AT2                              62175\n",
       "T cell lineage                   50859\n",
       "Multiciliated lineage            41098\n",
       "Monocytes                        26529\n",
       "EC capillary                     23205\n",
       "Fibroblasts                      20384\n",
       "Innate lymphoid cell NK          16978\n",
       "EC venous                        12975\n",
       "Dendritic cells                  10319\n",
       "AT1                               7937\n",
       "EC arterial                       7391\n",
       "Mast cells                        6623\n",
       "B cell lineage                    6284\n",
       "Submucosal Secretory              4700\n",
       "Lymphatic EC mature               4001\n",
       "None                              3226\n",
       "Rare                               885\n",
       "Myofibroblasts                     716\n",
       "Lymphatic EC differentiating       566\n",
       "SM activated stress response       556\n",
       "Fibromyocytes                      335\n",
       "Lymphatic EC proliferating          28\n",
       "Name: core_ann_level_3, dtype: int64"
      ]
     },
     "execution_count": 399,
     "metadata": {},
     "output_type": "execute_result"
    }
   ],
   "source": [
    "# model_latent.adata.obs[\"scanvi_label\"].value_counts()\n",
    "model_latent.adata.obs[\"core_ann_level_3\"].value_counts()\n",
    "# model_latent.adata.obs[\"original_ann_level_3\"].value_counts()"
   ]
  },
  {
   "cell_type": "code",
   "execution_count": 392,
   "id": "698a21c7",
   "metadata": {},
   "outputs": [],
   "source": [
    "label_key = \"core_ann_level_3\"\n",
    "ref_cats = model_latent.adata.obs[label_key].cat.codes.to_numpy()[ref_neighbors]\n",
    "p, u = weighted_prediction(weights, ref_cats)\n",
    "p = np.asarray(model_latent.adata.obs[label_key].cat.categories)[p]\n",
    "query_emb.obs[\"celltype_pred\"], query_emb.obs[\"celltype_uncertainty\"] = p, u"
   ]
  },
  {
   "cell_type": "code",
   "execution_count": 398,
   "id": "3e4cf85f",
   "metadata": {},
   "outputs": [
    {
     "name": "stdout",
     "output_type": "stream",
     "text": [
      "0.033202483465797024 5.960464477539063e-08\n"
     ]
    },
    {
     "data": {
      "text/plain": [
       "<AxesSubplot: ylabel='Density'>"
      ]
     },
     "execution_count": 398,
     "metadata": {},
     "output_type": "execute_result"
    },
    {
     "data": {
      "image/png": "[encoded data removed]",
      "text/plain": [
       "<Figure size 640x480 with 1 Axes>"
      ]
     },
     "metadata": {},
     "output_type": "display_data"
    }
   ],
   "source": [
    "print(query_emb.obs[\"celltype_uncertainty\"].mean(), np.quantile(query_emb.obs[\"celltype_uncertainty\"], 0.75))\n",
    "query_emb.obs[\"celltype_uncertainty\"].plot(kind='density', ind=np.linspace(-0.2, 0.7))"
   ]
  },
  {
   "cell_type": "code",
   "execution_count": 406,
   "id": "06bd54d3",
   "metadata": {},
   "outputs": [],
   "source": [
    "# mostly a copy and paste of the function above but that's ok for now\n",
    "def evaluate_cell_type_predictions(uncertainty_threshold = None):\n",
    "    # build comparison_df\n",
    "    assert metadata[\"predicted_celltype\"].index.equals(query_emb.obs.index)\n",
    "    comparison_df = pd.DataFrame(index=metadata[\"predicted_celltype\"].index, columns=[\"pred\", \"ground_truth\", \"pred_uncertainty\"])\n",
    "    comparison_df[\"pred\"] = query_emb.obs[\"celltype_pred\"]\n",
    "    comparison_df[\"pred_uncertainty\"] = query_emb.obs[\"celltype_uncertainty\"]\n",
    "    comparison_df[\"ground_truth\"] = metadata[\"predicted_celltype\"].fillna(\n",
    "                                                            \"Unknown\"\n",
    "                                                        # ).replace(\n",
    "                                                        #     \"myeloid\",\n",
    "                                                        #     \"immune\"\n",
    "                                                        ).str.capitalize()\n",
    "\n",
    "    # we dont care about cases where we dont know the ground truth (in fact we could have skipped prediction for these altogether)\n",
    "    n_before = len(comparison_df)\n",
    "    comparison_df = comparison_df[comparison_df[\"ground_truth\"] != \"Unknown\"]\n",
    "    n_filtered = n_before-len(comparison_df)\n",
    "    pct_filtered = 100*n_filtered/n_before\n",
    "    print(f\"filtered out {n_filtered} barcodes ({pct_filtered:.2f}%) with unknown ground truth\")\n",
    "\n",
    "    if uncertainty_threshold is not None:\n",
    "        # filter out uncertainty > threshold\n",
    "        n_before = len(comparison_df)\n",
    "        comparison_df = comparison_df[comparison_df[\"pred_uncertainty\"] <= uncertainty_threshold]\n",
    "        n_filtered = n_before-len(comparison_df)\n",
    "        pct_filtered = 100*n_filtered/n_before\n",
    "        print(f\"filtered out {n_filtered} barcodes ({pct_filtered:.2f}%) with pred uncertainty > {uncertainty_threshold}\")\n",
    "\n",
    "    # now calculate prediction accuracy\n",
    "    match = comparison_df[\"pred\"] == comparison_df[\"ground_truth\"]\n",
    "    accuracy = 100 * np.sum(match) / len(match)\n",
    "\n",
    "    # # compute F1 score for each predicted class\n",
    "    # unique_cats_pred = np.unique(comparison_df.pred)\n",
    "    # unique_cats_ground_truth = np.unique(comparison_df.ground_truth)\n",
    "    # # in our case this happens to be true but that's not always the case\n",
    "    # assert np.array_equal(unique_cats_pred, unique_cats_ground_truth)\n",
    "    # f1_scores = {}\n",
    "    # for cat in unique_cats_pred:\n",
    "    #     binay_pred = binarize_array(comparison_df.pred, true_val=cat)\n",
    "    #     binay_ground_truth = binarize_array(comparison_df.ground_truth, true_val=cat)\n",
    "    #     f1_scores[cat] = get_precision_recall(binay_pred, binay_ground_truth)[2]\n",
    "\n",
    "    return comparison_df, accuracy"
   ]
  },
  {
   "cell_type": "code",
   "execution_count": 408,
   "id": "a17b72d5",
   "metadata": {},
   "outputs": [
    {
     "name": "stdout",
     "output_type": "stream",
     "text": [
      "filtered out 6 barcodes (0.34%) with unknown ground truth\n",
      "filtered out 126 barcodes (7.08%) with pred uncertainty > 0.2\n",
      "0.0\n"
     ]
    }
   ],
   "source": [
    "comparison_df, accuracy = evaluate_cell_type_predictions(uncertainty_threshold=0.2)\n",
    "print(accuracy)"
   ]
  },
  {
   "cell_type": "code",
   "execution_count": 412,
   "id": "90e32b3b",
   "metadata": {},
   "outputs": [
    {
     "data": {
      "text/html": [
       "<div>\n",
       "<style scoped>\n",
       "    .dataframe tbody tr th:only-of-type {\n",
       "        vertical-align: middle;\n",
       "    }\n",
       "\n",
       "    .dataframe tbody tr th {\n",
       "        vertical-align: top;\n",
       "    }\n",
       "\n",
       "    .dataframe thead th {\n",
       "        text-align: right;\n",
       "    }\n",
       "</style>\n",
       "<table border=\"1\" class=\"dataframe\">\n",
       "  <thead>\n",
       "    <tr style=\"text-align: right;\">\n",
       "      <th></th>\n",
       "      <th>pred</th>\n",
       "      <th>ground_truth</th>\n",
       "      <th>pred_uncertainty</th>\n",
       "    </tr>\n",
       "  </thead>\n",
       "  <tbody>\n",
       "    <tr>\n",
       "      <th>TGGCGTGCATGTAACC</th>\n",
       "      <td>Lymphatic EC mature</td>\n",
       "      <td>Lymphatic endothelial</td>\n",
       "      <td>9.999728e-02</td>\n",
       "    </tr>\n",
       "    <tr>\n",
       "      <th>CTACAGACACTGTGAT</th>\n",
       "      <td>EC venous</td>\n",
       "      <td>Lymphatic endothelial</td>\n",
       "      <td>0.000000e+00</td>\n",
       "    </tr>\n",
       "    <tr>\n",
       "      <th>GGGTAGATCGTGGAAG</th>\n",
       "      <td>Lymphatic EC mature</td>\n",
       "      <td>Lymphatic endothelial</td>\n",
       "      <td>1.999955e-01</td>\n",
       "    </tr>\n",
       "    <tr>\n",
       "      <th>TTTCCTCAGGACCCAA</th>\n",
       "      <td>Lymphatic EC differentiating</td>\n",
       "      <td>Lymphatic endothelial</td>\n",
       "      <td>0.000000e+00</td>\n",
       "    </tr>\n",
       "    <tr>\n",
       "      <th>CAAGACTGTGACCGAA</th>\n",
       "      <td>Lymphatic EC differentiating</td>\n",
       "      <td>Lymphatic endothelial</td>\n",
       "      <td>0.000000e+00</td>\n",
       "    </tr>\n",
       "    <tr>\n",
       "      <th>GGAATGGGTGCTGCAC</th>\n",
       "      <td>EC venous</td>\n",
       "      <td>Lymphatic endothelial</td>\n",
       "      <td>0.000000e+00</td>\n",
       "    </tr>\n",
       "    <tr>\n",
       "      <th>AGTCACAGTCACTGAT</th>\n",
       "      <td>Lymphatic EC mature</td>\n",
       "      <td>Lymphatic endothelial</td>\n",
       "      <td>9.999001e-02</td>\n",
       "    </tr>\n",
       "    <tr>\n",
       "      <th>CCTCATGCACAAGTTC</th>\n",
       "      <td>Lymphatic EC differentiating</td>\n",
       "      <td>Lymphatic endothelial</td>\n",
       "      <td>5.960464e-08</td>\n",
       "    </tr>\n",
       "    <tr>\n",
       "      <th>GCCCAGAGTCAGACTT</th>\n",
       "      <td>Lymphatic EC mature</td>\n",
       "      <td>Lymphatic endothelial</td>\n",
       "      <td>1.000052e-01</td>\n",
       "    </tr>\n",
       "    <tr>\n",
       "      <th>CATACAGAGGGTTGCA</th>\n",
       "      <td>Lymphatic EC differentiating</td>\n",
       "      <td>Lymphatic endothelial</td>\n",
       "      <td>9.999418e-02</td>\n",
       "    </tr>\n",
       "    <tr>\n",
       "      <th>CACTTCGGTCATAAAG</th>\n",
       "      <td>Lymphatic EC differentiating</td>\n",
       "      <td>Lymphatic endothelial</td>\n",
       "      <td>0.000000e+00</td>\n",
       "    </tr>\n",
       "    <tr>\n",
       "      <th>GTCACTCGTCTCGACG</th>\n",
       "      <td>Lymphatic EC differentiating</td>\n",
       "      <td>Lymphatic endothelial</td>\n",
       "      <td>9.998459e-02</td>\n",
       "    </tr>\n",
       "    <tr>\n",
       "      <th>AGAGAGCAGAGGGTGG</th>\n",
       "      <td>Lymphatic EC mature</td>\n",
       "      <td>Lymphatic endothelial</td>\n",
       "      <td>0.000000e+00</td>\n",
       "    </tr>\n",
       "    <tr>\n",
       "      <th>GGAGATGTCTGAATGC</th>\n",
       "      <td>Lymphatic EC differentiating</td>\n",
       "      <td>Lymphatic endothelial</td>\n",
       "      <td>0.000000e+00</td>\n",
       "    </tr>\n",
       "    <tr>\n",
       "      <th>GGGAGTAAGCGGACAT</th>\n",
       "      <td>Lymphatic EC differentiating</td>\n",
       "      <td>Lymphatic endothelial</td>\n",
       "      <td>1.192093e-07</td>\n",
       "    </tr>\n",
       "    <tr>\n",
       "      <th>CATGGTACAACAAAGT</th>\n",
       "      <td>EC venous</td>\n",
       "      <td>Lymphatic endothelial</td>\n",
       "      <td>0.000000e+00</td>\n",
       "    </tr>\n",
       "    <tr>\n",
       "      <th>TTTGACTAGATAGCTA</th>\n",
       "      <td>Lymphatic EC differentiating</td>\n",
       "      <td>Lymphatic endothelial</td>\n",
       "      <td>5.960464e-08</td>\n",
       "    </tr>\n",
       "    <tr>\n",
       "      <th>AACAAAGAGTGCGCTC</th>\n",
       "      <td>Lymphatic EC mature</td>\n",
       "      <td>Lymphatic endothelial</td>\n",
       "      <td>1.999933e-01</td>\n",
       "    </tr>\n",
       "    <tr>\n",
       "      <th>TCGCTCAAGGGTAGCT</th>\n",
       "      <td>Lymphatic EC mature</td>\n",
       "      <td>Lymphatic endothelial</td>\n",
       "      <td>1.000037e-01</td>\n",
       "    </tr>\n",
       "    <tr>\n",
       "      <th>GAACTGTCAGTCGGAA</th>\n",
       "      <td>Lymphatic EC differentiating</td>\n",
       "      <td>Lymphatic endothelial</td>\n",
       "      <td>1.999830e-01</td>\n",
       "    </tr>\n",
       "  </tbody>\n",
       "</table>\n",
       "</div>"
      ],
      "text/plain": [
       "                                          pred           ground_truth  \\\n",
       "TGGCGTGCATGTAACC           Lymphatic EC mature  Lymphatic endothelial   \n",
       "CTACAGACACTGTGAT                     EC venous  Lymphatic endothelial   \n",
       "GGGTAGATCGTGGAAG           Lymphatic EC mature  Lymphatic endothelial   \n",
       "TTTCCTCAGGACCCAA  Lymphatic EC differentiating  Lymphatic endothelial   \n",
       "CAAGACTGTGACCGAA  Lymphatic EC differentiating  Lymphatic endothelial   \n",
       "GGAATGGGTGCTGCAC                     EC venous  Lymphatic endothelial   \n",
       "AGTCACAGTCACTGAT           Lymphatic EC mature  Lymphatic endothelial   \n",
       "CCTCATGCACAAGTTC  Lymphatic EC differentiating  Lymphatic endothelial   \n",
       "GCCCAGAGTCAGACTT           Lymphatic EC mature  Lymphatic endothelial   \n",
       "CATACAGAGGGTTGCA  Lymphatic EC differentiating  Lymphatic endothelial   \n",
       "CACTTCGGTCATAAAG  Lymphatic EC differentiating  Lymphatic endothelial   \n",
       "GTCACTCGTCTCGACG  Lymphatic EC differentiating  Lymphatic endothelial   \n",
       "AGAGAGCAGAGGGTGG           Lymphatic EC mature  Lymphatic endothelial   \n",
       "GGAGATGTCTGAATGC  Lymphatic EC differentiating  Lymphatic endothelial   \n",
       "GGGAGTAAGCGGACAT  Lymphatic EC differentiating  Lymphatic endothelial   \n",
       "CATGGTACAACAAAGT                     EC venous  Lymphatic endothelial   \n",
       "TTTGACTAGATAGCTA  Lymphatic EC differentiating  Lymphatic endothelial   \n",
       "AACAAAGAGTGCGCTC           Lymphatic EC mature  Lymphatic endothelial   \n",
       "TCGCTCAAGGGTAGCT           Lymphatic EC mature  Lymphatic endothelial   \n",
       "GAACTGTCAGTCGGAA  Lymphatic EC differentiating  Lymphatic endothelial   \n",
       "\n",
       "                  pred_uncertainty  \n",
       "TGGCGTGCATGTAACC      9.999728e-02  \n",
       "CTACAGACACTGTGAT      0.000000e+00  \n",
       "GGGTAGATCGTGGAAG      1.999955e-01  \n",
       "TTTCCTCAGGACCCAA      0.000000e+00  \n",
       "CAAGACTGTGACCGAA      0.000000e+00  \n",
       "GGAATGGGTGCTGCAC      0.000000e+00  \n",
       "AGTCACAGTCACTGAT      9.999001e-02  \n",
       "CCTCATGCACAAGTTC      5.960464e-08  \n",
       "GCCCAGAGTCAGACTT      1.000052e-01  \n",
       "CATACAGAGGGTTGCA      9.999418e-02  \n",
       "CACTTCGGTCATAAAG      0.000000e+00  \n",
       "GTCACTCGTCTCGACG      9.998459e-02  \n",
       "AGAGAGCAGAGGGTGG      0.000000e+00  \n",
       "GGAGATGTCTGAATGC      0.000000e+00  \n",
       "GGGAGTAAGCGGACAT      1.192093e-07  \n",
       "CATGGTACAACAAAGT      0.000000e+00  \n",
       "TTTGACTAGATAGCTA      5.960464e-08  \n",
       "AACAAAGAGTGCGCTC      1.999933e-01  \n",
       "TCGCTCAAGGGTAGCT      1.000037e-01  \n",
       "GAACTGTCAGTCGGAA      1.999830e-01  "
      ]
     },
     "execution_count": 412,
     "metadata": {},
     "output_type": "execute_result"
    }
   ],
   "source": [
    "comparison_df[comparison_df[\"pred\"] != comparison_df[\"ground_truth\"]][:20]"
   ]
  },
  {
   "cell_type": "markdown",
   "id": "7c50bc4d",
   "metadata": {},
   "source": [
    "## 5️⃣ Visualize embeddings in the joint latent space"
   ]
  },
  {
   "cell_type": "markdown",
   "id": "0efd5e49",
   "metadata": {},
   "source": [
    "Combine embeddings"
   ]
  },
  {
   "cell_type": "code",
   "execution_count": 308,
   "id": "cd265e11",
   "metadata": {},
   "outputs": [
    {
     "data": {
      "text/plain": [
       "AnnData object with n_obs × n_vars = 1786 × 30\n",
       "    obs: 'compartment_pred', 'compartment_uncertainty', 'dataset'"
      ]
     },
     "execution_count": 308,
     "metadata": {},
     "output_type": "execute_result"
    }
   ],
   "source": [
    "query_emb.obs[\"dataset\"] = \"test_dataset_delorey_regev\"\n",
    "query_emb"
   ]
  },
  {
   "cell_type": "code",
   "execution_count": 368,
   "id": "c4043aca",
   "metadata": {},
   "outputs": [
    {
     "data": {
      "text/plain": [
       "AnnData object with n_obs × n_vars = 584884 × 30\n",
       "    obs: 'dataset'"
      ]
     },
     "execution_count": 368,
     "metadata": {},
     "output_type": "execute_result"
    }
   ],
   "source": [
    "reference_emb = sc.AnnData(model_latent.adata.obsm[\"X_latent_qzm\"])\n",
    "reference_emb.obs_names = model_latent.adata.obs_names\n",
    "reference_emb.obs[\"dataset\"] = model_latent.adata.obs.dataset\n",
    "reference_emb"
   ]
  },
  {
   "cell_type": "code",
   "execution_count": 309,
   "id": "2651dfb3",
   "metadata": {},
   "outputs": [
    {
     "name": "stderr",
     "output_type": "stream",
     "text": [
      "/opt/homebrew/Caskroom/miniconda/base/envs/scvi-hub/lib/python3.9/site-packages/anndata/_core/anndata.py:1785: FutureWarning: X.dtype being converted to np.float32 from float64. In the next version of anndata (0.9) conversion will not be automatic. Pass dtype explicitly to avoid this warning. Pass `AnnData(X, dtype=X.dtype, ...)` to get the future behavour.\n",
      "  [AnnData(sparse.csr_matrix(a.shape), obs=a.obs) for a in all_adatas],\n"
     ]
    }
   ],
   "source": [
    "combined_emb = reference_emb.concatenate(query_emb)"
   ]
  },
  {
   "cell_type": "code",
   "execution_count": 313,
   "id": "efc63ac9",
   "metadata": {},
   "outputs": [
    {
     "data": {
      "text/plain": [
       "0    584884\n",
       "1      1786\n",
       "Name: batch, dtype: int64"
      ]
     },
     "execution_count": 313,
     "metadata": {},
     "output_type": "execute_result"
    }
   ],
   "source": [
    "combined_emb.obs[\"batch\"].value_counts()"
   ]
  },
  {
   "cell_type": "markdown",
   "id": "d18fefe4",
   "metadata": {},
   "source": [
    "Visualize embeddings.  \n",
    "\n",
    "We could use pymde here but it is failing to pip install -_- So for now we will visualize a subset of the cells to reduce runtime of umap.   \n",
    "\n",
    "Since there are too many cells from the reference, we cannot see the query cells very well on the UMAP. So let's plot a random subset of the reference cells, plus all the query cells."
   ]
  },
  {
   "cell_type": "code",
   "execution_count": 369,
   "id": "59c493c2",
   "metadata": {},
   "outputs": [],
   "source": [
    "# n_cells = int(np.floor(0.5 * combined_emb.n_obs))\n",
    "# idx = np.random.choice(range(combined_emb.n_obs), n_cells, replace=False)\n",
    "# combined_emb_subset = combined_emb[idx, :].copy()\n",
    "\n",
    "# # Make sure that proportions of query vs reference cells wasn't significantly altered post subsetting.\n",
    "# r = combined_emb.obs[\"batch\"].value_counts()[0]\n",
    "# q = combined_emb.obs[\"batch\"].value_counts()[1]\n",
    "\n",
    "# r_ss = combined_emb_subset.obs[\"batch\"].value_counts()[0]\n",
    "# q_ss = combined_emb_subset.obs[\"batch\"].value_counts()[1]\n",
    "\n",
    "# print(100*q/r, 100*q_ss/r_ss)"
   ]
  },
  {
   "cell_type": "code",
   "execution_count": 377,
   "id": "23cfb58e",
   "metadata": {},
   "outputs": [
    {
     "name": "stderr",
     "output_type": "stream",
     "text": [
      "/opt/homebrew/Caskroom/miniconda/base/envs/scvi-hub/lib/python3.9/site-packages/anndata/_core/anndata.py:1785: FutureWarning: X.dtype being converted to np.float32 from float64. In the next version of anndata (0.9) conversion will not be automatic. Pass dtype explicitly to avoid this warning. Pass `AnnData(X, dtype=X.dtype, ...)` to get the future behavour.\n",
      "  [AnnData(sparse.csr_matrix(a.shape), obs=a.obs) for a in all_adatas],\n"
     ]
    },
    {
     "name": "stdout",
     "output_type": "stream",
     "text": [
      "10.779421221864952\n"
     ]
    }
   ],
   "source": [
    "query_cells = combined_emb[combined_emb.obs.batch == \"1\", :].copy()\n",
    "\n",
    "ref_cells = combined_emb[combined_emb.obs.batch == \"0\", :].copy()\n",
    "n_cells_ref = int(np.floor(0.09 * ref_cells.n_obs))\n",
    "idx = np.random.choice(range(ref_cells.n_obs), n_cells_ref, replace=False)\n",
    "ref_cells_subset = ref_cells[idx, :].copy()\n",
    "\n",
    "combined_emb_subset = ref_cells_subset.concatenate(query_cells)\n",
    "print(combined_emb.n_obs / combined_emb_subset.n_obs)"
   ]
  },
  {
   "cell_type": "code",
   "execution_count": 378,
   "id": "e7ede24c",
   "metadata": {},
   "outputs": [],
   "source": [
    "sc.pp.neighbors(combined_emb_subset, use_rep=\"X\")"
   ]
  },
  {
   "cell_type": "code",
   "execution_count": 379,
   "id": "308705be",
   "metadata": {},
   "outputs": [],
   "source": [
    "sc.tl.umap(combined_emb_subset, min_dist=0.3)"
   ]
  },
  {
   "cell_type": "code",
   "execution_count": 380,
   "id": "701c8ee1",
   "metadata": {},
   "outputs": [
    {
     "name": "stderr",
     "output_type": "stream",
     "text": [
      "/opt/homebrew/Caskroom/miniconda/base/envs/scvi-hub/lib/python3.9/site-packages/scanpy/plotting/_tools/scatterplots.py:392: UserWarning: No data for colormapping provided via 'c'. Parameters 'cmap' will be ignored\n",
      "  cax = scatter(\n",
      "/opt/homebrew/Caskroom/miniconda/base/envs/scvi-hub/lib/python3.9/site-packages/scanpy/plotting/_tools/scatterplots.py:392: UserWarning: No data for colormapping provided via 'c'. Parameters 'cmap' will be ignored\n",
      "  cax = scatter(\n"
     ]
    },
    {
     "data": {
      "image/png": "[encoded data removed]",
      "text/plain": [
       "<Figure size 727.8x960 with 2 Axes>"
      ]
     },
     "metadata": {},
     "output_type": "display_data"
    }
   ],
   "source": [
    "sc.pl.umap(\n",
    "    combined_emb_subset,\n",
    "    color=[\"dataset\", \"batch\"],\n",
    "    ncols=1,\n",
    "    frameon=False,\n",
    ")"
   ]
  },
  {
   "cell_type": "code",
   "execution_count": null,
   "id": "c8b687e1",
   "metadata": {},
   "outputs": [],
   "source": []
  }
 ],
 "metadata": {
  "kernelspec": {
   "display_name": "scvi-hub-clone",
   "language": "python",
   "name": "python3"
  },
  "language_info": {
   "codemirror_mode": {
    "name": "ipython",
    "version": 3
   },
   "file_extension": ".py",
   "mimetype": "text/x-python",
   "name": "python",
   "nbconvert_exporter": "python",
   "pygments_lexer": "ipython3",
   "version": "3.9.13"
  },
  "vscode": {
   "interpreter": {
    "hash": "96af0d8d95f3260bd0eb8438dae7a0669cd6a046db40ace554886eaa4b9da85f"
   }
  }
 },
 "nbformat": 4,
 "nbformat_minor": 5
}
